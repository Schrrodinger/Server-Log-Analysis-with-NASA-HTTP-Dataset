{
 "cells": [
  {
   "cell_type": "code",
   "execution_count": 13,
   "id": "12e667a1f69643f0",
   "metadata": {
    "ExecuteTime": {
     "end_time": "2024-10-14T08:39:03.720495Z",
     "start_time": "2024-10-14T08:39:02.045047Z"
    },
    "collapsed": false
   },
   "outputs": [],
   "source": [
    "import pandas as pd\n",
    "import os\n",
    "import re\n",
    "import sys\n",
    "from pyspark.sql import SparkSession\n",
    "import gzip\n",
    "\n",
    "os.environ['PYSPARK_PYTHON'] = sys.executable\n",
    "os.environ['PYSPARK_DRIVER_PYTHON'] = sys.executable"
   ]
  },
  {
   "cell_type": "markdown",
   "id": "63f326ee32fcb46b",
   "metadata": {
    "collapsed": false
   },
   "source": [
    "<h1>Loading and Viewing the NASA Log Dataset</h1>"
   ]
  },
  {
   "cell_type": "code",
   "execution_count": 41,
   "id": "5120ffe7d1cb1031",
   "metadata": {
    "ExecuteTime": {
     "end_time": "2024-10-14T08:39:11.011198Z",
     "start_time": "2024-10-14T08:39:05.033836Z"
    },
    "collapsed": false
   },
   "outputs": [],
   "source": [
    "spark = SparkSession.builder \\\n",
    "    .appName(\"MyApp\") \\\n",
    "    .getOrCreate()\n",
    "\n",
    "sc = spark.sparkContext"
   ]
  },
  {
   "cell_type": "code",
   "execution_count": 42,
   "id": "4199b038",
   "metadata": {},
   "outputs": [],
   "source": [
    "def combine_log_files(file1, file2, output_file):\n",
    "    with open(output_file, 'wb') as outfile:\n",
    "        for filename in [file1, file2]:\n",
    "            with open(filename, 'rb') as infile:\n",
    "                outfile.write(infile.read())"
   ]
  },
  {
   "cell_type": "code",
   "execution_count": 43,
   "id": "847c60ad",
   "metadata": {},
   "outputs": [
    {
     "name": "stdout",
     "output_type": "stream",
     "text": [
      "Files access_log_Jul95.txt and access_log_Aug95.txt have been combined into access_log_JulAug_95.txt\n"
     ]
    }
   ],
   "source": [
    "# File names with .txt extension\n",
    "july_log = \"access_log_Jul95.txt\"\n",
    "august_log = \"access_log_Aug95.txt\"\n",
    "combined_log = \"access_log_JulAug_95.txt\"\n",
    "\n",
    "# Combine the files\n",
    "combine_log_files(july_log, august_log, combined_log)\n",
    "\n",
    "print(f\"Files {july_log} and {august_log} have been combined into {combined_log}\")"
   ]
  },
  {
   "cell_type": "code",
   "execution_count": 44,
   "id": "63daa3381e32d3ff",
   "metadata": {
    "ExecuteTime": {
     "end_time": "2024-10-14T08:39:11.022513Z",
     "start_time": "2024-10-14T08:39:11.014208Z"
    },
    "collapsed": false
   },
   "outputs": [
    {
     "name": "stdout",
     "output_type": "stream",
     "text": [
      "access_log_JulAug_95.txt\n"
     ]
    }
   ],
   "source": [
    "import glob\n",
    "\n",
    "raw_data_file = 'access_log_JulAug_95.txt'\n",
    "\n",
    "print(raw_data_file)"
   ]
  },
  {
   "cell_type": "markdown",
   "id": "c5ce6f3bb7f788ea",
   "metadata": {
    "collapsed": false
   },
   "source": [
    "<h3>Taking a look at the metadata of our dataframe</h3>"
   ]
  },
  {
   "cell_type": "code",
   "execution_count": 45,
   "id": "424678a440ae2b5c",
   "metadata": {
    "ExecuteTime": {
     "end_time": "2024-10-14T08:39:18.176791Z",
     "start_time": "2024-10-14T08:39:15.234450Z"
    },
    "collapsed": false
   },
   "outputs": [
    {
     "name": "stdout",
     "output_type": "stream",
     "text": [
      "root\n",
      " |-- value: string (nullable = true)\n",
      "\n"
     ]
    }
   ],
   "source": [
    "base_df = spark.read.text(\"access_log_JulAug_95.txt\")\n",
    "base_df.printSchema()"
   ]
  },
  {
   "cell_type": "code",
   "execution_count": 46,
   "id": "4c9d3b2789337243",
   "metadata": {
    "ExecuteTime": {
     "end_time": "2024-10-14T08:39:18.194596Z",
     "start_time": "2024-10-14T08:39:18.180807Z"
    },
    "collapsed": false
   },
   "outputs": [
    {
     "data": {
      "text/plain": [
       "pyspark.sql.dataframe.DataFrame"
      ]
     },
     "execution_count": 46,
     "metadata": {},
     "output_type": "execute_result"
    }
   ],
   "source": [
    "type(base_df)"
   ]
  },
  {
   "cell_type": "markdown",
   "id": "d6aa127c04fed0ed",
   "metadata": {
    "collapsed": false
   },
   "source": [
    "*Below is the conversion of the DataFrame to an RDD.*"
   ]
  },
  {
   "cell_type": "code",
   "execution_count": 47,
   "id": "abd9f8a7496ed252",
   "metadata": {
    "ExecuteTime": {
     "end_time": "2024-10-14T08:39:22.739487Z",
     "start_time": "2024-10-14T08:39:21.527059Z"
    },
    "collapsed": false
   },
   "outputs": [
    {
     "data": {
      "text/plain": [
       "pyspark.rdd.RDD"
      ]
     },
     "execution_count": 47,
     "metadata": {},
     "output_type": "execute_result"
    }
   ],
   "source": [
    "base_df_rdd = base_df.rdd\n",
    "type(base_df_rdd)"
   ]
  },
  {
   "cell_type": "markdown",
   "id": "e6fa88f81be5038b",
   "metadata": {
    "collapsed": false
   },
   "source": [
    "<h3>Viewing sample data in our dataframe</h3>"
   ]
  },
  {
   "cell_type": "code",
   "execution_count": 48,
   "id": "2b99e7c8417639e3",
   "metadata": {
    "ExecuteTime": {
     "end_time": "2024-10-14T08:39:27.168743Z",
     "start_time": "2024-10-14T08:39:24.543112Z"
    },
    "collapsed": false
   },
   "outputs": [
    {
     "name": "stdout",
     "output_type": "stream",
     "text": [
      "+-----------------------------------------------------------------------------------------------------------------------+\n",
      "|value                                                                                                                  |\n",
      "+-----------------------------------------------------------------------------------------------------------------------+\n",
      "|199.72.81.55 - - [01/Jul/1995:00:00:01 -0400] \"GET /history/apollo/ HTTP/1.0\" 200 6245                                 |\n",
      "|unicomp6.unicomp.net - - [01/Jul/1995:00:00:06 -0400] \"GET /shuttle/countdown/ HTTP/1.0\" 200 3985                      |\n",
      "|199.120.110.21 - - [01/Jul/1995:00:00:09 -0400] \"GET /shuttle/missions/sts-73/mission-sts-73.html HTTP/1.0\" 200 4085   |\n",
      "|burger.letters.com - - [01/Jul/1995:00:00:11 -0400] \"GET /shuttle/countdown/liftoff.html HTTP/1.0\" 304 0               |\n",
      "|199.120.110.21 - - [01/Jul/1995:00:00:11 -0400] \"GET /shuttle/missions/sts-73/sts-73-patch-small.gif HTTP/1.0\" 200 4179|\n",
      "|burger.letters.com - - [01/Jul/1995:00:00:12 -0400] \"GET /images/NASA-logosmall.gif HTTP/1.0\" 304 0                    |\n",
      "|burger.letters.com - - [01/Jul/1995:00:00:12 -0400] \"GET /shuttle/countdown/video/livevideo.gif HTTP/1.0\" 200 0        |\n",
      "|205.212.115.106 - - [01/Jul/1995:00:00:12 -0400] \"GET /shuttle/countdown/countdown.html HTTP/1.0\" 200 3985             |\n",
      "|d104.aa.net - - [01/Jul/1995:00:00:13 -0400] \"GET /shuttle/countdown/ HTTP/1.0\" 200 3985                               |\n",
      "|129.94.144.152 - - [01/Jul/1995:00:00:13 -0400] \"GET / HTTP/1.0\" 200 7074                                              |\n",
      "+-----------------------------------------------------------------------------------------------------------------------+\n",
      "only showing top 10 rows\n",
      "\n"
     ]
    }
   ],
   "source": [
    "base_df.show(10, truncate=False)"
   ]
  },
  {
   "cell_type": "markdown",
   "id": "5db2e362db4345cd",
   "metadata": {
    "collapsed": false
   },
   "source": [
    "*It can be seen as above, our data needs to be wrangled and parsed*"
   ]
  },
  {
   "cell_type": "markdown",
   "id": "c3a6aeb31811971c",
   "metadata": {
    "collapsed": false
   },
   "source": [
    "*Accessing data from an RDD is somewhat different. The following RDD illustrates how the data representation varies.*"
   ]
  },
  {
   "cell_type": "code",
   "execution_count": 51,
   "id": "8821654a03be6746",
   "metadata": {
    "ExecuteTime": {
     "end_time": "2024-10-14T08:39:42.005696Z",
     "start_time": "2024-10-14T08:39:37.254064Z"
    },
    "collapsed": false
   },
   "outputs": [
    {
     "data": {
      "text/plain": [
       "[Row(value='199.72.81.55 - - [01/Jul/1995:00:00:01 -0400] \"GET /history/apollo/ HTTP/1.0\" 200 6245'),\n",
       " Row(value='unicomp6.unicomp.net - - [01/Jul/1995:00:00:06 -0400] \"GET /shuttle/countdown/ HTTP/1.0\" 200 3985'),\n",
       " Row(value='199.120.110.21 - - [01/Jul/1995:00:00:09 -0400] \"GET /shuttle/missions/sts-73/mission-sts-73.html HTTP/1.0\" 200 4085'),\n",
       " Row(value='burger.letters.com - - [01/Jul/1995:00:00:11 -0400] \"GET /shuttle/countdown/liftoff.html HTTP/1.0\" 304 0'),\n",
       " Row(value='199.120.110.21 - - [01/Jul/1995:00:00:11 -0400] \"GET /shuttle/missions/sts-73/sts-73-patch-small.gif HTTP/1.0\" 200 4179'),\n",
       " Row(value='burger.letters.com - - [01/Jul/1995:00:00:12 -0400] \"GET /images/NASA-logosmall.gif HTTP/1.0\" 304 0'),\n",
       " Row(value='burger.letters.com - - [01/Jul/1995:00:00:12 -0400] \"GET /shuttle/countdown/video/livevideo.gif HTTP/1.0\" 200 0'),\n",
       " Row(value='205.212.115.106 - - [01/Jul/1995:00:00:12 -0400] \"GET /shuttle/countdown/countdown.html HTTP/1.0\" 200 3985'),\n",
       " Row(value='d104.aa.net - - [01/Jul/1995:00:00:13 -0400] \"GET /shuttle/countdown/ HTTP/1.0\" 200 3985'),\n",
       " Row(value='129.94.144.152 - - [01/Jul/1995:00:00:13 -0400] \"GET / HTTP/1.0\" 200 7074')]"
      ]
     },
     "execution_count": 51,
     "metadata": {},
     "output_type": "execute_result"
    }
   ],
   "source": [
    "base_df_sample = base_df.limit(10)\n",
    "base_df_sample.collect()"
   ]
  },
  {
   "cell_type": "markdown",
   "id": "b856ebbeb59a984f",
   "metadata": {
    "collapsed": false
   },
   "source": [
    "<h1>Data Wrangling</h1>"
   ]
  },
  {
   "cell_type": "markdown",
   "id": "fdb7dabe4ad320de",
   "metadata": {
    "collapsed": false
   },
   "source": [
    "<h3>Data Understanding</h3>"
   ]
  },
  {
   "cell_type": "markdown",
   "id": "2186b3df7c04047",
   "metadata": {
    "collapsed": false
   },
   "source": [
    "*The data shown above follows the <u>Common Log Format</u>.*"
   ]
  },
  {
   "cell_type": "markdown",
   "id": "549c227b9928a8b3",
   "metadata": {
    "collapsed": false
   },
   "source": [
    "*The fields are: <b>remotehost&nbsp;&nbsp;&nbsp;&nbsp;rfc931&nbsp;&nbsp;&nbsp;&nbsp;authuser&nbsp;&nbsp;&nbsp;&nbsp;[date]&nbsp;&nbsp;&nbsp;&nbsp;\"request\"&nbsp;&nbsp;&nbsp;&nbsp;status&nbsp;&nbsp;&nbsp;&nbsp;bytes</b>*\n"
   ]
  },
  {
   "cell_type": "markdown",
   "id": "e2484b9fc56b68da",
   "metadata": {
    "collapsed": false
   },
   "source": [
    "| Field      | Meaning                                                                                  |\n",
    "|------------|------------------------------------------------------------------------------------------|\n",
    "| remotehost | Remote hostname (or IP number if DNS hostname is not available or if DNSLookup is off). |\n",
    "| rfc931     | The remote logname of the user if at all it is present.                                 |\n",
    "| authuser   | The username of the remote user after authentication by the HTTP server.                |\n",
    "| [date]     | Date and time of the request.                                                           |\n",
    "| \"request\"  | The request, exactly as it came from the browser or client.                             |\n",
    "| status     | The HTTP status code the server sent back to the client.                                |\n",
    "| bytes      | The number of bytes (Content-Length) transferred to the client.                         |\n"
   ]
  },
  {
   "cell_type": "code",
   "execution_count": 53,
   "id": "1a8f0364982f06ba",
   "metadata": {
    "collapsed": false
   },
   "outputs": [
    {
     "name": "stdout",
     "output_type": "stream",
     "text": [
      "(3461612, 1)\n"
     ]
    }
   ],
   "source": [
    "print((base_df.count(), len(base_df.columns)))"
   ]
  },
  {
   "cell_type": "code",
   "execution_count": 54,
   "id": "dcebb8d8",
   "metadata": {},
   "outputs": [
    {
     "data": {
      "text/plain": [
       "['199.72.81.55 - - [01/Jul/1995:00:00:01 -0400] \"GET /history/apollo/ HTTP/1.0\" 200 6245',\n",
       " 'unicomp6.unicomp.net - - [01/Jul/1995:00:00:06 -0400] \"GET /shuttle/countdown/ HTTP/1.0\" 200 3985',\n",
       " '199.120.110.21 - - [01/Jul/1995:00:00:09 -0400] \"GET /shuttle/missions/sts-73/mission-sts-73.html HTTP/1.0\" 200 4085',\n",
       " 'burger.letters.com - - [01/Jul/1995:00:00:11 -0400] \"GET /shuttle/countdown/liftoff.html HTTP/1.0\" 304 0',\n",
       " '199.120.110.21 - - [01/Jul/1995:00:00:11 -0400] \"GET /shuttle/missions/sts-73/sts-73-patch-small.gif HTTP/1.0\" 200 4179',\n",
       " 'burger.letters.com - - [01/Jul/1995:00:00:12 -0400] \"GET /images/NASA-logosmall.gif HTTP/1.0\" 304 0',\n",
       " 'burger.letters.com - - [01/Jul/1995:00:00:12 -0400] \"GET /shuttle/countdown/video/livevideo.gif HTTP/1.0\" 200 0',\n",
       " '205.212.115.106 - - [01/Jul/1995:00:00:12 -0400] \"GET /shuttle/countdown/countdown.html HTTP/1.0\" 200 3985',\n",
       " 'd104.aa.net - - [01/Jul/1995:00:00:13 -0400] \"GET /shuttle/countdown/ HTTP/1.0\" 200 3985',\n",
       " '129.94.144.152 - - [01/Jul/1995:00:00:13 -0400] \"GET / HTTP/1.0\" 200 7074',\n",
       " 'unicomp6.unicomp.net - - [01/Jul/1995:00:00:14 -0400] \"GET /shuttle/countdown/count.gif HTTP/1.0\" 200 40310',\n",
       " 'unicomp6.unicomp.net - - [01/Jul/1995:00:00:14 -0400] \"GET /images/NASA-logosmall.gif HTTP/1.0\" 200 786',\n",
       " 'unicomp6.unicomp.net - - [01/Jul/1995:00:00:14 -0400] \"GET /images/KSC-logosmall.gif HTTP/1.0\" 200 1204',\n",
       " 'd104.aa.net - - [01/Jul/1995:00:00:15 -0400] \"GET /shuttle/countdown/count.gif HTTP/1.0\" 200 40310',\n",
       " 'd104.aa.net - - [01/Jul/1995:00:00:15 -0400] \"GET /images/NASA-logosmall.gif HTTP/1.0\" 200 786']"
      ]
     },
     "execution_count": 54,
     "metadata": {},
     "output_type": "execute_result"
    }
   ],
   "source": [
    "sample_logs = [item['value'] for item in base_df.take(15)]\n",
    "sample_logs"
   ]
  },
  {
   "cell_type": "markdown",
   "id": "41b381c0",
   "metadata": {},
   "source": [
    "Extracting host names"
   ]
  },
  {
   "cell_type": "code",
   "execution_count": 55,
   "id": "1018dd7c",
   "metadata": {},
   "outputs": [
    {
     "data": {
      "text/plain": [
       "['199.72.81.55',\n",
       " 'unicomp6.unicomp.net',\n",
       " '199.120.110.21',\n",
       " 'burger.letters.com',\n",
       " '199.120.110.21',\n",
       " 'burger.letters.com',\n",
       " 'burger.letters.com',\n",
       " '205.212.115.106',\n",
       " 'd104.aa.net',\n",
       " '129.94.144.152',\n",
       " 'unicomp6.unicomp.net',\n",
       " 'unicomp6.unicomp.net',\n",
       " 'unicomp6.unicomp.net',\n",
       " 'd104.aa.net',\n",
       " 'd104.aa.net']"
      ]
     },
     "execution_count": 55,
     "metadata": {},
     "output_type": "execute_result"
    }
   ],
   "source": [
    "host_pattern = r'(^\\S+\\.[\\S+\\.]+\\S+)\\s'\n",
    "hosts = [re.search(host_pattern, item).group(1)\n",
    "           if re.search(host_pattern, item)\n",
    "           else 'no match'\n",
    "           for item in sample_logs]\n",
    "hosts"
   ]
  },
  {
   "cell_type": "markdown",
   "id": "352da4be",
   "metadata": {},
   "source": [
    "Extracting timestamps"
   ]
  },
  {
   "cell_type": "code",
   "execution_count": 56,
   "id": "7db17214",
   "metadata": {},
   "outputs": [
    {
     "data": {
      "text/plain": [
       "['01/Jul/1995:00:00:01 -0400',\n",
       " '01/Jul/1995:00:00:06 -0400',\n",
       " '01/Jul/1995:00:00:09 -0400',\n",
       " '01/Jul/1995:00:00:11 -0400',\n",
       " '01/Jul/1995:00:00:11 -0400',\n",
       " '01/Jul/1995:00:00:12 -0400',\n",
       " '01/Jul/1995:00:00:12 -0400',\n",
       " '01/Jul/1995:00:00:12 -0400',\n",
       " '01/Jul/1995:00:00:13 -0400',\n",
       " '01/Jul/1995:00:00:13 -0400',\n",
       " '01/Jul/1995:00:00:14 -0400',\n",
       " '01/Jul/1995:00:00:14 -0400',\n",
       " '01/Jul/1995:00:00:14 -0400',\n",
       " '01/Jul/1995:00:00:15 -0400',\n",
       " '01/Jul/1995:00:00:15 -0400']"
      ]
     },
     "execution_count": 56,
     "metadata": {},
     "output_type": "execute_result"
    }
   ],
   "source": [
    "ts_pattern = r'\\[(\\d{2}/\\w{3}/\\d{4}:\\d{2}:\\d{2}:\\d{2} -\\d{4})]'\n",
    "timestamps = [re.search(ts_pattern, item).group(1) for item in sample_logs]\n",
    "timestamps"
   ]
  },
  {
   "cell_type": "markdown",
   "id": "6f99267a",
   "metadata": {},
   "source": [
    "Extracting HTTP Request Method, URIs and Protocol"
   ]
  },
  {
   "cell_type": "code",
   "execution_count": 57,
   "id": "9639f50b",
   "metadata": {},
   "outputs": [
    {
     "data": {
      "text/plain": [
       "[('GET', '/history/apollo/', 'HTTP/1.0'),\n",
       " ('GET', '/shuttle/countdown/', 'HTTP/1.0'),\n",
       " ('GET', '/shuttle/missions/sts-73/mission-sts-73.html', 'HTTP/1.0'),\n",
       " ('GET', '/shuttle/countdown/liftoff.html', 'HTTP/1.0'),\n",
       " ('GET', '/shuttle/missions/sts-73/sts-73-patch-small.gif', 'HTTP/1.0'),\n",
       " ('GET', '/images/NASA-logosmall.gif', 'HTTP/1.0'),\n",
       " ('GET', '/shuttle/countdown/video/livevideo.gif', 'HTTP/1.0'),\n",
       " ('GET', '/shuttle/countdown/countdown.html', 'HTTP/1.0'),\n",
       " ('GET', '/shuttle/countdown/', 'HTTP/1.0'),\n",
       " ('GET', '/', 'HTTP/1.0'),\n",
       " ('GET', '/shuttle/countdown/count.gif', 'HTTP/1.0'),\n",
       " ('GET', '/images/NASA-logosmall.gif', 'HTTP/1.0'),\n",
       " ('GET', '/images/KSC-logosmall.gif', 'HTTP/1.0'),\n",
       " ('GET', '/shuttle/countdown/count.gif', 'HTTP/1.0'),\n",
       " ('GET', '/images/NASA-logosmall.gif', 'HTTP/1.0')]"
      ]
     },
     "execution_count": 57,
     "metadata": {},
     "output_type": "execute_result"
    }
   ],
   "source": [
    "method_uri_protocol_pattern = r'\\\"(\\S+)\\s(\\S+)\\s*(\\S*)\\\"'\n",
    "method_uri_protocol = [re.search(method_uri_protocol_pattern, item).groups()\n",
    "               if re.search(method_uri_protocol_pattern, item)\n",
    "               else 'no match'\n",
    "              for item in sample_logs]\n",
    "method_uri_protocol"
   ]
  },
  {
   "cell_type": "markdown",
   "id": "69a004a9",
   "metadata": {},
   "source": [
    "Extracting HTTP Response Content Size"
   ]
  },
  {
   "cell_type": "code",
   "execution_count": 58,
   "id": "7502d30a",
   "metadata": {},
   "outputs": [
    {
     "name": "stdout",
     "output_type": "stream",
     "text": [
      "['6245', '3985', '4085', '0', '4179', '0', '0', '3985', '3985', '7074', '40310', '786', '1204', '40310', '786']\n"
     ]
    }
   ],
   "source": [
    "content_size_pattern = r'\\s(\\d+)$'\n",
    "content_size = [re.search(content_size_pattern, item).group(1) for item in sample_logs]\n",
    "print(content_size)"
   ]
  }
 ],
 "metadata": {
  "kernelspec": {
   "display_name": "Python 3",
   "language": "python",
   "name": "python3"
  },
  "language_info": {
   "codemirror_mode": {
    "name": "ipython",
    "version": 3
   },
   "file_extension": ".py",
   "mimetype": "text/x-python",
   "name": "python",
   "nbconvert_exporter": "python",
   "pygments_lexer": "ipython3",
   "version": "3.12.6"
  }
 },
 "nbformat": 4,
 "nbformat_minor": 5
}

{
 "cells": [
  {
   "cell_type": "code",
   "execution_count": 3,
   "id": "34beac81",
   "metadata": {
    "is_executing": true
   },
   "outputs": [
    {
     "name": "stdout",
     "output_type": "stream",
     "text": [
      "Defaulting to user installation because normal site-packages is not writeable\n",
      "Requirement already satisfied: pyspark in c:\\users\\lethi\\appdata\\roaming\\python\\python39\\site-packages (3.5.3)\n",
      "Requirement already satisfied: py4j==0.10.9.7 in c:\\users\\lethi\\appdata\\roaming\\python\\python39\\site-packages (from pyspark) (0.10.9.7)\n",
      "Note: you may need to restart the kernel to use updated packages.\n"
     ]
    }
   ],
   "source": [
    "pip install pyspark"
   ]
  },
  {
   "cell_type": "code",
   "execution_count": 4,
   "id": "12e667a1f69643f0",
   "metadata": {
    "collapsed": false,
    "is_executing": true
   },
   "outputs": [],
   "source": [
    "import pandas as pd\n",
    "import os\n",
    "import re\n",
    "import sys\n",
    "from pyspark.sql import SparkSession\n",
    "import gzip\n",
    "\n",
    "os.environ['PYSPARK_PYTHON'] = sys.executable\n",
    "os.environ['PYSPARK_DRIVER_PYTHON'] = sys.executable"
   ]
  },
  {
   "cell_type": "markdown",
   "id": "63f326ee32fcb46b",
   "metadata": {
    "collapsed": false
   },
   "source": [
    "<h1>Loading and Viewing the NASA Log Dataset</h1>"
   ]
  },
  {
   "cell_type": "code",
   "execution_count": 5,
   "id": "5120ffe7d1cb1031",
   "metadata": {
    "ExecuteTime": {
     "end_time": "2024-10-17T07:18:00.588383800Z",
     "start_time": "2024-10-17T04:11:52.048541Z"
    },
    "collapsed": false
   },
   "outputs": [],
   "source": [
    "spark = SparkSession.builder \\\n",
    "    .appName(\"MyApp\") \\\n",
    "    .getOrCreate()\n",
    "\n",
    "sc = spark.sparkContext"
   ]
  },
  {
   "cell_type": "code",
   "execution_count": 6,
   "id": "4199b038",
   "metadata": {
    "ExecuteTime": {
     "end_time": "2024-10-17T07:18:00.588383800Z",
     "start_time": "2024-10-17T04:11:52.154534Z"
    }
   },
   "outputs": [],
   "source": [
    "def combine_log_files(file1, file2, output_file):\n",
    "    with open(output_file, 'wb') as outfile:\n",
    "        for filename in [file1, file2]:\n",
    "            with open(filename, 'rb') as infile:\n",
    "                outfile.write(infile.read())"
   ]
  },
  {
   "cell_type": "code",
   "execution_count": 7,
   "id": "847c60ad",
   "metadata": {
    "ExecuteTime": {
     "end_time": "2024-10-17T07:18:00.588383800Z",
     "start_time": "2024-10-17T04:11:52.187001Z"
    }
   },
   "outputs": [
    {
     "name": "stdout",
     "output_type": "stream",
     "text": [
      "Files access_log_Jul95.txt and access_log_Aug95.txt have been combined into access_log_JulAug_95.txt\n"
     ]
    }
   ],
   "source": [
    "# File names with .txt extension\n",
    "july_log = \"access_log_Jul95.txt\"\n",
    "august_log = \"access_log_Aug95.txt\"\n",
    "combined_log = \"access_log_JulAug_95.txt\"\n",
    "\n",
    "# Combine the files\n",
    "combine_log_files(july_log, august_log, combined_log)\n",
    "\n",
    "print(f\"Files {july_log} and {august_log} have been combined into {combined_log}\")"
   ]
  },
  {
   "cell_type": "code",
   "execution_count": 8,
   "id": "63daa3381e32d3ff",
   "metadata": {
    "ExecuteTime": {
     "end_time": "2024-10-17T07:18:00.588383800Z",
     "start_time": "2024-10-17T04:11:53.111726Z"
    },
    "collapsed": false
   },
   "outputs": [
    {
     "name": "stdout",
     "output_type": "stream",
     "text": [
      "access_log_JulAug_95.txt\n"
     ]
    }
   ],
   "source": [
    "import glob\n",
    "\n",
    "raw_data_file = 'access_log_JulAug_95.txt'\n",
    "\n",
    "print(raw_data_file)"
   ]
  },
  {
   "cell_type": "markdown",
   "id": "c5ce6f3bb7f788ea",
   "metadata": {
    "collapsed": false
   },
   "source": [
    "<h3>Taking a look at the metadata of our dataframe</h3>"
   ]
  },
  {
   "cell_type": "code",
   "execution_count": 9,
   "id": "424678a440ae2b5c",
   "metadata": {
    "ExecuteTime": {
     "end_time": "2024-10-17T07:18:00.638149300Z",
     "start_time": "2024-10-17T04:11:53.166007Z"
    },
    "collapsed": false
   },
   "outputs": [
    {
     "name": "stdout",
     "output_type": "stream",
     "text": [
      "root\n",
      " |-- value: string (nullable = true)\n",
      "\n"
     ]
    }
   ],
   "source": [
    "base_df = spark.read.text(\"access_log_JulAug_95.txt\")\n",
    "base_df.printSchema()"
   ]
  },
  {
   "cell_type": "code",
   "execution_count": 10,
   "id": "4c9d3b2789337243",
   "metadata": {
    "ExecuteTime": {
     "end_time": "2024-10-17T07:18:00.641656500Z",
     "start_time": "2024-10-17T04:11:53.542197Z"
    },
    "collapsed": false
   },
   "outputs": [
    {
     "data": {
      "text/plain": [
       "pyspark.sql.dataframe.DataFrame"
      ]
     },
     "execution_count": 10,
     "metadata": {},
     "output_type": "execute_result"
    }
   ],
   "source": [
    "type(base_df)"
   ]
  },
  {
   "cell_type": "markdown",
   "id": "d6aa127c04fed0ed",
   "metadata": {
    "collapsed": false
   },
   "source": [
    "*Below is the conversion of the DataFrame to an RDD.*"
   ]
  },
  {
   "cell_type": "code",
   "execution_count": 11,
   "id": "abd9f8a7496ed252",
   "metadata": {
    "ExecuteTime": {
     "end_time": "2024-10-17T07:18:00.641656500Z",
     "start_time": "2024-10-17T04:11:53.587843Z"
    },
    "collapsed": false
   },
   "outputs": [
    {
     "data": {
      "text/plain": [
       "pyspark.rdd.RDD"
      ]
     },
     "execution_count": 11,
     "metadata": {},
     "output_type": "execute_result"
    }
   ],
   "source": [
    "base_df_rdd = base_df.rdd\n",
    "type(base_df_rdd)"
   ]
  },
  {
   "cell_type": "markdown",
   "id": "e6fa88f81be5038b",
   "metadata": {
    "collapsed": false
   },
   "source": [
    "<h3>Viewing sample data in our dataframe</h3>"
   ]
  },
  {
   "cell_type": "code",
   "execution_count": 12,
   "id": "2b99e7c8417639e3",
   "metadata": {
    "ExecuteTime": {
     "end_time": "2024-10-17T07:18:00.641656500Z",
     "start_time": "2024-10-17T04:11:53.810052Z"
    },
    "collapsed": false
   },
   "outputs": [
    {
     "name": "stdout",
     "output_type": "stream",
     "text": [
      "+-----------------------------------------------------------------------------------------------------------------------+\n",
      "|value                                                                                                                  |\n",
      "+-----------------------------------------------------------------------------------------------------------------------+\n",
      "|199.72.81.55 - - [01/Jul/1995:00:00:01 -0400] \"GET /history/apollo/ HTTP/1.0\" 200 6245                                 |\n",
      "|unicomp6.unicomp.net - - [01/Jul/1995:00:00:06 -0400] \"GET /shuttle/countdown/ HTTP/1.0\" 200 3985                      |\n",
      "|199.120.110.21 - - [01/Jul/1995:00:00:09 -0400] \"GET /shuttle/missions/sts-73/mission-sts-73.html HTTP/1.0\" 200 4085   |\n",
      "|burger.letters.com - - [01/Jul/1995:00:00:11 -0400] \"GET /shuttle/countdown/liftoff.html HTTP/1.0\" 304 0               |\n",
      "|199.120.110.21 - - [01/Jul/1995:00:00:11 -0400] \"GET /shuttle/missions/sts-73/sts-73-patch-small.gif HTTP/1.0\" 200 4179|\n",
      "|burger.letters.com - - [01/Jul/1995:00:00:12 -0400] \"GET /images/NASA-logosmall.gif HTTP/1.0\" 304 0                    |\n",
      "|burger.letters.com - - [01/Jul/1995:00:00:12 -0400] \"GET /shuttle/countdown/video/livevideo.gif HTTP/1.0\" 200 0        |\n",
      "|205.212.115.106 - - [01/Jul/1995:00:00:12 -0400] \"GET /shuttle/countdown/countdown.html HTTP/1.0\" 200 3985             |\n",
      "|d104.aa.net - - [01/Jul/1995:00:00:13 -0400] \"GET /shuttle/countdown/ HTTP/1.0\" 200 3985                               |\n",
      "|129.94.144.152 - - [01/Jul/1995:00:00:13 -0400] \"GET / HTTP/1.0\" 200 7074                                              |\n",
      "+-----------------------------------------------------------------------------------------------------------------------+\n",
      "only showing top 10 rows\n",
      "\n"
     ]
    }
   ],
   "source": [
    "base_df.show(10, truncate=False)"
   ]
  },
  {
   "cell_type": "markdown",
   "id": "5db2e362db4345cd",
   "metadata": {
    "collapsed": false
   },
   "source": [
    "*It can be seen as above, our data needs to be wrangled and parsed*"
   ]
  },
  {
   "cell_type": "markdown",
   "id": "c3a6aeb31811971c",
   "metadata": {
    "collapsed": false
   },
   "source": [
    "*Accessing data from an RDD is somewhat different. The following RDD illustrates how the data representation varies.*"
   ]
  },
  {
   "cell_type": "code",
   "execution_count": 13,
   "id": "8821654a03be6746",
   "metadata": {
    "ExecuteTime": {
     "end_time": "2024-10-17T07:18:00.641656500Z",
     "start_time": "2024-10-17T04:11:54.122051Z"
    },
    "collapsed": false
   },
   "outputs": [
    {
     "data": {
      "text/plain": [
       "[Row(value='199.72.81.55 - - [01/Jul/1995:00:00:01 -0400] \"GET /history/apollo/ HTTP/1.0\" 200 6245'),\n",
       " Row(value='unicomp6.unicomp.net - - [01/Jul/1995:00:00:06 -0400] \"GET /shuttle/countdown/ HTTP/1.0\" 200 3985'),\n",
       " Row(value='199.120.110.21 - - [01/Jul/1995:00:00:09 -0400] \"GET /shuttle/missions/sts-73/mission-sts-73.html HTTP/1.0\" 200 4085'),\n",
       " Row(value='burger.letters.com - - [01/Jul/1995:00:00:11 -0400] \"GET /shuttle/countdown/liftoff.html HTTP/1.0\" 304 0'),\n",
       " Row(value='199.120.110.21 - - [01/Jul/1995:00:00:11 -0400] \"GET /shuttle/missions/sts-73/sts-73-patch-small.gif HTTP/1.0\" 200 4179'),\n",
       " Row(value='burger.letters.com - - [01/Jul/1995:00:00:12 -0400] \"GET /images/NASA-logosmall.gif HTTP/1.0\" 304 0'),\n",
       " Row(value='burger.letters.com - - [01/Jul/1995:00:00:12 -0400] \"GET /shuttle/countdown/video/livevideo.gif HTTP/1.0\" 200 0'),\n",
       " Row(value='205.212.115.106 - - [01/Jul/1995:00:00:12 -0400] \"GET /shuttle/countdown/countdown.html HTTP/1.0\" 200 3985'),\n",
       " Row(value='d104.aa.net - - [01/Jul/1995:00:00:13 -0400] \"GET /shuttle/countdown/ HTTP/1.0\" 200 3985'),\n",
       " Row(value='129.94.144.152 - - [01/Jul/1995:00:00:13 -0400] \"GET / HTTP/1.0\" 200 7074')]"
      ]
     },
     "execution_count": 13,
     "metadata": {},
     "output_type": "execute_result"
    }
   ],
   "source": [
    "base_df_sample = base_df.limit(10)\n",
    "base_df_sample.collect()"
   ]
  },
  {
   "cell_type": "markdown",
   "id": "b856ebbeb59a984f",
   "metadata": {
    "collapsed": false
   },
   "source": [
    "<h1>Data Wrangling</h1>"
   ]
  },
  {
   "cell_type": "markdown",
   "id": "fdb7dabe4ad320de",
   "metadata": {
    "collapsed": false
   },
   "source": [
    "<h3>Data Understanding</h3>"
   ]
  },
  {
   "cell_type": "markdown",
   "id": "2186b3df7c04047",
   "metadata": {
    "collapsed": false
   },
   "source": [
    "*The data shown above follows the <u>Common Log Format</u>.*"
   ]
  },
  {
   "cell_type": "markdown",
   "id": "549c227b9928a8b3",
   "metadata": {
    "collapsed": false
   },
   "source": [
    "*The fields are: <b>remotehost&nbsp;&nbsp;&nbsp;&nbsp;rfc931&nbsp;&nbsp;&nbsp;&nbsp;authuser&nbsp;&nbsp;&nbsp;&nbsp;[date]&nbsp;&nbsp;&nbsp;&nbsp;\"request\"&nbsp;&nbsp;&nbsp;&nbsp;status&nbsp;&nbsp;&nbsp;&nbsp;bytes</b>*\n"
   ]
  },
  {
   "cell_type": "markdown",
   "id": "e2484b9fc56b68da",
   "metadata": {
    "collapsed": false
   },
   "source": [
    "| Field      | Meaning                                                                                  |\n",
    "|------------|------------------------------------------------------------------------------------------|\n",
    "| remotehost | Remote hostname (or IP number if DNS hostname is not available or if DNSLookup is off). |\n",
    "| rfc931     | The remote logname of the user if at all it is present.                                 |\n",
    "| authuser   | The username of the remote user after authentication by the HTTP server.                |\n",
    "| [date]     | Date and time of the request.                                                           |\n",
    "| \"request\"  | The request, exactly as it came from the browser or client.                             |\n",
    "| status     | The HTTP status code the server sent back to the client.                                |\n",
    "| bytes      | The number of bytes (Content-Length) transferred to the client.                         |\n"
   ]
  },
  {
   "cell_type": "code",
   "execution_count": 14,
   "id": "1a8f0364982f06ba",
   "metadata": {
    "ExecuteTime": {
     "end_time": "2024-10-17T07:18:00.641656500Z",
     "start_time": "2024-10-17T04:11:54.255743Z"
    },
    "collapsed": false
   },
   "outputs": [
    {
     "name": "stdout",
     "output_type": "stream",
     "text": [
      "(3461612, 1)\n"
     ]
    }
   ],
   "source": [
    "print((base_df.count(), len(base_df.columns)))"
   ]
  },
  {
   "cell_type": "code",
   "execution_count": 15,
   "id": "dcebb8d8",
   "metadata": {
    "ExecuteTime": {
     "end_time": "2024-10-17T07:18:00.641656500Z",
     "start_time": "2024-10-17T04:11:54.966148Z"
    }
   },
   "outputs": [
    {
     "data": {
      "text/plain": [
       "['199.72.81.55 - - [01/Jul/1995:00:00:01 -0400] \"GET /history/apollo/ HTTP/1.0\" 200 6245',\n",
       " 'unicomp6.unicomp.net - - [01/Jul/1995:00:00:06 -0400] \"GET /shuttle/countdown/ HTTP/1.0\" 200 3985',\n",
       " '199.120.110.21 - - [01/Jul/1995:00:00:09 -0400] \"GET /shuttle/missions/sts-73/mission-sts-73.html HTTP/1.0\" 200 4085',\n",
       " 'burger.letters.com - - [01/Jul/1995:00:00:11 -0400] \"GET /shuttle/countdown/liftoff.html HTTP/1.0\" 304 0',\n",
       " '199.120.110.21 - - [01/Jul/1995:00:00:11 -0400] \"GET /shuttle/missions/sts-73/sts-73-patch-small.gif HTTP/1.0\" 200 4179',\n",
       " 'burger.letters.com - - [01/Jul/1995:00:00:12 -0400] \"GET /images/NASA-logosmall.gif HTTP/1.0\" 304 0',\n",
       " 'burger.letters.com - - [01/Jul/1995:00:00:12 -0400] \"GET /shuttle/countdown/video/livevideo.gif HTTP/1.0\" 200 0',\n",
       " '205.212.115.106 - - [01/Jul/1995:00:00:12 -0400] \"GET /shuttle/countdown/countdown.html HTTP/1.0\" 200 3985',\n",
       " 'd104.aa.net - - [01/Jul/1995:00:00:13 -0400] \"GET /shuttle/countdown/ HTTP/1.0\" 200 3985',\n",
       " '129.94.144.152 - - [01/Jul/1995:00:00:13 -0400] \"GET / HTTP/1.0\" 200 7074',\n",
       " 'unicomp6.unicomp.net - - [01/Jul/1995:00:00:14 -0400] \"GET /shuttle/countdown/count.gif HTTP/1.0\" 200 40310',\n",
       " 'unicomp6.unicomp.net - - [01/Jul/1995:00:00:14 -0400] \"GET /images/NASA-logosmall.gif HTTP/1.0\" 200 786',\n",
       " 'unicomp6.unicomp.net - - [01/Jul/1995:00:00:14 -0400] \"GET /images/KSC-logosmall.gif HTTP/1.0\" 200 1204',\n",
       " 'd104.aa.net - - [01/Jul/1995:00:00:15 -0400] \"GET /shuttle/countdown/count.gif HTTP/1.0\" 200 40310',\n",
       " 'd104.aa.net - - [01/Jul/1995:00:00:15 -0400] \"GET /images/NASA-logosmall.gif HTTP/1.0\" 200 786']"
      ]
     },
     "execution_count": 15,
     "metadata": {},
     "output_type": "execute_result"
    }
   ],
   "source": [
    "sample_logs = [item['value'] for item in base_df.take(15)]\n",
    "sample_logs"
   ]
  },
  {
   "cell_type": "markdown",
   "id": "41b381c0",
   "metadata": {},
   "source": [
    "### Extracting host names"
   ]
  },
  {
   "cell_type": "code",
   "execution_count": 16,
   "id": "1018dd7c",
   "metadata": {
    "ExecuteTime": {
     "end_time": "2024-10-17T07:18:00.641656500Z",
     "start_time": "2024-10-17T04:11:55.080232Z"
    }
   },
   "outputs": [
    {
     "data": {
      "text/plain": [
       "['199.72.81.55',\n",
       " 'unicomp6.unicomp.net',\n",
       " '199.120.110.21',\n",
       " 'burger.letters.com',\n",
       " '199.120.110.21',\n",
       " 'burger.letters.com',\n",
       " 'burger.letters.com',\n",
       " '205.212.115.106',\n",
       " 'd104.aa.net',\n",
       " '129.94.144.152',\n",
       " 'unicomp6.unicomp.net',\n",
       " 'unicomp6.unicomp.net',\n",
       " 'unicomp6.unicomp.net',\n",
       " 'd104.aa.net',\n",
       " 'd104.aa.net']"
      ]
     },
     "execution_count": 16,
     "metadata": {},
     "output_type": "execute_result"
    }
   ],
   "source": [
    "host_pattern = r'(^\\S+\\.[\\S+\\.]+\\S+)\\s'\n",
    "hosts = [re.search(host_pattern, item).group(1)\n",
    "           if re.search(host_pattern, item)\n",
    "           else 'no match'\n",
    "           for item in sample_logs]\n",
    "hosts"
   ]
  },
  {
   "cell_type": "markdown",
   "id": "352da4be",
   "metadata": {},
   "source": [
    "### Extracting timestamps"
   ]
  },
  {
   "cell_type": "code",
   "execution_count": 17,
   "id": "7db17214",
   "metadata": {
    "ExecuteTime": {
     "end_time": "2024-10-17T07:18:00.641656500Z",
     "start_time": "2024-10-17T04:11:55.115867Z"
    }
   },
   "outputs": [
    {
     "data": {
      "text/plain": [
       "['01/Jul/1995:00:00:01 -0400',\n",
       " '01/Jul/1995:00:00:06 -0400',\n",
       " '01/Jul/1995:00:00:09 -0400',\n",
       " '01/Jul/1995:00:00:11 -0400',\n",
       " '01/Jul/1995:00:00:11 -0400',\n",
       " '01/Jul/1995:00:00:12 -0400',\n",
       " '01/Jul/1995:00:00:12 -0400',\n",
       " '01/Jul/1995:00:00:12 -0400',\n",
       " '01/Jul/1995:00:00:13 -0400',\n",
       " '01/Jul/1995:00:00:13 -0400',\n",
       " '01/Jul/1995:00:00:14 -0400',\n",
       " '01/Jul/1995:00:00:14 -0400',\n",
       " '01/Jul/1995:00:00:14 -0400',\n",
       " '01/Jul/1995:00:00:15 -0400',\n",
       " '01/Jul/1995:00:00:15 -0400']"
      ]
     },
     "execution_count": 17,
     "metadata": {},
     "output_type": "execute_result"
    }
   ],
   "source": [
    "ts_pattern = r'\\[(\\d{2}/\\w{3}/\\d{4}:\\d{2}:\\d{2}:\\d{2} -\\d{4})]'\n",
    "timestamps = [re.search(ts_pattern, item).group(1) for item in sample_logs]\n",
    "timestamps"
   ]
  },
  {
   "cell_type": "markdown",
   "id": "6f99267a",
   "metadata": {},
   "source": [
    "### Extracting HTTP Request Method, URIs and Protocol"
   ]
  },
  {
   "cell_type": "code",
   "execution_count": 18,
   "id": "9639f50b",
   "metadata": {
    "ExecuteTime": {
     "end_time": "2024-10-17T07:18:00.641656500Z",
     "start_time": "2024-10-17T04:11:55.170806Z"
    }
   },
   "outputs": [
    {
     "data": {
      "text/plain": [
       "[('GET', '/history/apollo/', 'HTTP/1.0'),\n",
       " ('GET', '/shuttle/countdown/', 'HTTP/1.0'),\n",
       " ('GET', '/shuttle/missions/sts-73/mission-sts-73.html', 'HTTP/1.0'),\n",
       " ('GET', '/shuttle/countdown/liftoff.html', 'HTTP/1.0'),\n",
       " ('GET', '/shuttle/missions/sts-73/sts-73-patch-small.gif', 'HTTP/1.0'),\n",
       " ('GET', '/images/NASA-logosmall.gif', 'HTTP/1.0'),\n",
       " ('GET', '/shuttle/countdown/video/livevideo.gif', 'HTTP/1.0'),\n",
       " ('GET', '/shuttle/countdown/countdown.html', 'HTTP/1.0'),\n",
       " ('GET', '/shuttle/countdown/', 'HTTP/1.0'),\n",
       " ('GET', '/', 'HTTP/1.0'),\n",
       " ('GET', '/shuttle/countdown/count.gif', 'HTTP/1.0'),\n",
       " ('GET', '/images/NASA-logosmall.gif', 'HTTP/1.0'),\n",
       " ('GET', '/images/KSC-logosmall.gif', 'HTTP/1.0'),\n",
       " ('GET', '/shuttle/countdown/count.gif', 'HTTP/1.0'),\n",
       " ('GET', '/images/NASA-logosmall.gif', 'HTTP/1.0')]"
      ]
     },
     "execution_count": 18,
     "metadata": {},
     "output_type": "execute_result"
    }
   ],
   "source": [
    "method_uri_protocol_pattern = r'\\\"(\\S+)\\s(\\S+)\\s*(\\S*)\\\"'\n",
    "method_uri_protocol = [re.search(method_uri_protocol_pattern, item).groups()\n",
    "               if re.search(method_uri_protocol_pattern, item)\n",
    "               else 'no match'\n",
    "              for item in sample_logs]\n",
    "method_uri_protocol"
   ]
  },
  {
   "cell_type": "markdown",
   "id": "ba0674f18333d85d",
   "metadata": {},
   "source": [
    "### Extracting HTTP Status Code\n"
   ]
  },
  {
   "cell_type": "code",
   "execution_count": 19,
   "id": "e06855d7b0c89374",
   "metadata": {
    "ExecuteTime": {
     "end_time": "2024-10-17T07:18:00.641656500Z",
     "start_time": "2024-10-17T04:11:55.215932Z"
    }
   },
   "outputs": [
    {
     "name": "stdout",
     "output_type": "stream",
     "text": [
      "['200', '200', '200', '304', '200', '304', '200', '200', '200', '200', '200', '200', '200', '200', '200']\n"
     ]
    }
   ],
   "source": [
    "status_pattern = r'\\s(\\d{3})\\s'\n",
    "status = [re.search(status_pattern, item).group(1) for item in sample_logs]\n",
    "print(status)"
   ]
  },
  {
   "cell_type": "markdown",
   "id": "69a004a9",
   "metadata": {},
   "source": [
    "### Extracting HTTP Response Content Size"
   ]
  },
  {
   "cell_type": "code",
   "execution_count": 20,
   "id": "7502d30a",
   "metadata": {
    "ExecuteTime": {
     "end_time": "2024-10-17T07:18:00.641656500Z",
     "start_time": "2024-10-17T04:11:55.277212Z"
    }
   },
   "outputs": [
    {
     "name": "stdout",
     "output_type": "stream",
     "text": [
      "['6245', '3985', '4085', '0', '4179', '0', '0', '3985', '3985', '7074', '40310', '786', '1204', '40310', '786']\n"
     ]
    }
   ],
   "source": [
    "content_size_pattern = r'\\s(\\d+)$'\n",
    "content_size = [re.search(content_size_pattern, item).group(1) for item in sample_logs]\n",
    "print(content_size)"
   ]
  },
  {
   "cell_type": "markdown",
   "id": "109f97feb0f68f57",
   "metadata": {},
   "source": [
    "### Combine"
   ]
  },
  {
   "cell_type": "code",
   "execution_count": 21,
   "id": "960a17fbebcbf2a1",
   "metadata": {
    "ExecuteTime": {
     "end_time": "2024-10-17T07:18:00.641656500Z",
     "start_time": "2024-10-17T04:11:55.322809Z"
    }
   },
   "outputs": [
    {
     "name": "stdout",
     "output_type": "stream",
     "text": [
      "+--------------------+--------------------+------+--------------------+--------+------+------------+\n",
      "|                host|           timestamp|method|            endpoint|protocol|status|content_size|\n",
      "+--------------------+--------------------+------+--------------------+--------+------+------------+\n",
      "|        199.72.81.55|01/Jul/1995:00:00...|   GET|    /history/apollo/|HTTP/1.0|   200|        6245|\n",
      "|unicomp6.unicomp.net|01/Jul/1995:00:00...|   GET| /shuttle/countdown/|HTTP/1.0|   200|        3985|\n",
      "|      199.120.110.21|01/Jul/1995:00:00...|   GET|/shuttle/missions...|HTTP/1.0|   200|        4085|\n",
      "|  burger.letters.com|01/Jul/1995:00:00...|   GET|/shuttle/countdow...|HTTP/1.0|   304|           0|\n",
      "|      199.120.110.21|01/Jul/1995:00:00...|   GET|/shuttle/missions...|HTTP/1.0|   200|        4179|\n",
      "|  burger.letters.com|01/Jul/1995:00:00...|   GET|/images/NASA-logo...|HTTP/1.0|   304|           0|\n",
      "|  burger.letters.com|01/Jul/1995:00:00...|   GET|/shuttle/countdow...|HTTP/1.0|   200|           0|\n",
      "|     205.212.115.106|01/Jul/1995:00:00...|   GET|/shuttle/countdow...|HTTP/1.0|   200|        3985|\n",
      "|         d104.aa.net|01/Jul/1995:00:00...|   GET| /shuttle/countdown/|HTTP/1.0|   200|        3985|\n",
      "|      129.94.144.152|01/Jul/1995:00:00...|   GET|                   /|HTTP/1.0|   200|        7074|\n",
      "+--------------------+--------------------+------+--------------------+--------+------+------------+\n",
      "only showing top 10 rows\n",
      "\n",
      "(3461612, 7)\n"
     ]
    }
   ],
   "source": [
    "from pyspark.sql.functions import regexp_extract\n",
    "\n",
    "logs_df = base_df.select(regexp_extract('value', host_pattern, 1).alias('host'),\n",
    "                         regexp_extract('value', ts_pattern, 1).alias('timestamp'),\n",
    "                         regexp_extract('value', method_uri_protocol_pattern, 1).alias('method'),\n",
    "                         regexp_extract('value', method_uri_protocol_pattern, 2).alias('endpoint'),\n",
    "                         regexp_extract('value', method_uri_protocol_pattern, 3).alias('protocol'),\n",
    "                         regexp_extract('value', status_pattern, 1).cast('integer').alias('status'),\n",
    "                         regexp_extract('value', content_size_pattern, 1).cast('integer').alias('content_size'))\n",
    "logs_df.show(10, truncate=True)\n",
    "print((logs_df.count(), len(logs_df.columns)))"
   ]
  },
  {
   "cell_type": "markdown",
   "id": "890123a950ace923",
   "metadata": {},
   "source": [
    "### Findings missing values"
   ]
  },
  {
   "cell_type": "code",
   "execution_count": 22,
   "id": "80aa251c52cdc04c",
   "metadata": {
    "ExecuteTime": {
     "end_time": "2024-10-17T07:18:00.641656500Z",
     "start_time": "2024-10-17T04:11:56.014463Z"
    }
   },
   "outputs": [
    {
     "data": {
      "text/plain": [
       "0"
      ]
     },
     "execution_count": 22,
     "metadata": {},
     "output_type": "execute_result"
    }
   ],
   "source": [
    "(base_df.filter(base_df['value'].isNull()).count())"
   ]
  },
  {
   "cell_type": "code",
   "execution_count": 23,
   "id": "7fb26c2f78e9102d",
   "metadata": {
    "ExecuteTime": {
     "end_time": "2024-10-17T07:18:00.641656500Z",
     "start_time": "2024-10-17T04:11:56.828302Z"
    }
   },
   "outputs": [
    {
     "data": {
      "text/plain": [
       "33904"
      ]
     },
     "execution_count": 23,
     "metadata": {},
     "output_type": "execute_result"
    }
   ],
   "source": [
    "bad_rows_df = logs_df.filter(logs_df['host'].isNull()| \n",
    "                             logs_df['timestamp'].isNull() | \n",
    "                             logs_df['method'].isNull() |\n",
    "                             logs_df['endpoint'].isNull() |\n",
    "                             logs_df['status'].isNull() |\n",
    "                             logs_df['content_size'].isNull()|\n",
    "                             logs_df['protocol'].isNull())\n",
    "bad_rows_df.count()"
   ]
  },
  {
   "cell_type": "markdown",
   "id": "394972e35fb58f12",
   "metadata": {},
   "source": [
    "As you can see the result, in this dataset we have over 33K missing values"
   ]
  },
  {
   "cell_type": "markdown",
   "id": "37688211d0559de5",
   "metadata": {},
   "source": [
    "### Finding null counts"
   ]
  },
  {
   "cell_type": "code",
   "execution_count": 24,
   "id": "f79ad49a992c9722",
   "metadata": {
    "ExecuteTime": {
     "end_time": "2024-10-17T07:18:00.641656500Z",
     "start_time": "2024-10-17T04:12:03.575826Z"
    }
   },
   "outputs": [
    {
     "data": {
      "text/plain": [
       "['host',\n",
       " 'timestamp',\n",
       " 'method',\n",
       " 'endpoint',\n",
       " 'protocol',\n",
       " 'status',\n",
       " 'content_size']"
      ]
     },
     "execution_count": 24,
     "metadata": {},
     "output_type": "execute_result"
    }
   ],
   "source": [
    "logs_df.columns"
   ]
  },
  {
   "cell_type": "code",
   "execution_count": 25,
   "id": "bf41c87c9831ab25",
   "metadata": {
    "ExecuteTime": {
     "end_time": "2024-10-17T07:18:00.641656500Z",
     "start_time": "2024-10-17T04:12:03.614946Z"
    }
   },
   "outputs": [
    {
     "name": "stdout",
     "output_type": "stream",
     "text": [
      "+----+---------+------+--------+--------+------+------------+\n",
      "|host|timestamp|method|endpoint|protocol|status|content_size|\n",
      "+----+---------+------+--------+--------+------+------------+\n",
      "|   0|        0|     0|       0|       0|     0|       33904|\n",
      "+----+---------+------+--------+--------+------+------------+\n",
      "\n"
     ]
    }
   ],
   "source": [
    "from pyspark.sql.functions import col\n",
    "from pyspark.sql.functions import sum as spark_sum\n",
    "def count_null(col_name):\n",
    "    return spark_sum(col(col_name).isNull().cast('integer')).alias(col_name)\n",
    "# Build up a list of column expressions, one per column.\n",
    "exprs = [count_null(col_name) for col_name in logs_df.columns]\n",
    "\n",
    "# Run the aggregation. The *exprs converts the list of expressions into\n",
    "# variable function arguments.\n",
    "logs_df.agg(*exprs).show()"
   ]
  },
  {
   "cell_type": "markdown",
   "id": "bd86004dcdaf1d81",
   "metadata": {},
   "source": [
    "### Handling nulls in HTTP status"
   ]
  },
  {
   "cell_type": "code",
   "execution_count": 26,
   "id": "30c304904ac3da18",
   "metadata": {
    "ExecuteTime": {
     "end_time": "2024-10-17T07:18:00.641656500Z",
     "start_time": "2024-10-17T04:12:09.766128Z"
    }
   },
   "outputs": [
    {
     "data": {
      "text/plain": [
       "0"
      ]
     },
     "execution_count": 26,
     "metadata": {},
     "output_type": "execute_result"
    }
   ],
   "source": [
    "null_status_df = base_df.filter(~base_df['value'].rlike(r'\\s(\\d{3})\\s'))\n",
    "null_status_df.count()"
   ]
  },
  {
   "cell_type": "code",
   "execution_count": 27,
   "id": "ec048e3e8dcb85fb",
   "metadata": {
    "ExecuteTime": {
     "end_time": "2024-10-17T07:18:00.641656500Z",
     "start_time": "2024-10-17T04:12:12.356477Z"
    }
   },
   "outputs": [
    {
     "name": "stdout",
     "output_type": "stream",
     "text": [
      "+----+---------+------+--------+--------+------+------------+\n",
      "|host|timestamp|method|endpoint|protocol|status|content_size|\n",
      "+----+---------+------+--------+--------+------+------------+\n",
      "|   0|        0|     0|       0|       0|     0|       33904|\n",
      "+----+---------+------+--------+--------+------+------------+\n",
      "\n"
     ]
    }
   ],
   "source": [
    "exprs = [count_null(col_name) for col_name in logs_df.columns]\n",
    "logs_df.agg(*exprs).show()"
   ]
  },
  {
   "cell_type": "markdown",
   "id": "ee7354dce2d19ae2",
   "metadata": {},
   "source": [
    "### Handling nulls in HTTP content size"
   ]
  },
  {
   "cell_type": "code",
   "execution_count": 28,
   "id": "f91a37007d4232dd",
   "metadata": {
    "ExecuteTime": {
     "end_time": "2024-10-17T07:18:00.641656500Z",
     "start_time": "2024-10-17T04:12:18.622325Z"
    }
   },
   "outputs": [
    {
     "data": {
      "text/plain": [
       "33904"
      ]
     },
     "execution_count": 28,
     "metadata": {},
     "output_type": "execute_result"
    }
   ],
   "source": [
    "null_content_size_df = base_df.filter(~base_df['value'].rlike(r'\\s\\d+$'))\n",
    "null_content_size_df.count()"
   ]
  },
  {
   "cell_type": "code",
   "execution_count": 29,
   "id": "8b544b6497f011ba",
   "metadata": {
    "ExecuteTime": {
     "end_time": "2024-10-17T07:18:00.641656500Z",
     "start_time": "2024-10-17T04:12:20.613041Z"
    }
   },
   "outputs": [
    {
     "data": {
      "text/plain": [
       "[Row(value='dd15-062.compuserve.com - - [01/Jul/1995:00:01:12 -0400] \"GET /news/sci.space.shuttle/archive/sci-space-shuttle-22-apr-1995-40.txt HTTP/1.0\" 404 -'),\n",
       " Row(value='dynip42.efn.org - - [01/Jul/1995:00:02:14 -0400] \"GET /software HTTP/1.0\" 302 -'),\n",
       " Row(value='ix-or10-06.ix.netcom.com - - [01/Jul/1995:00:02:40 -0400] \"GET /software/winvn HTTP/1.0\" 302 -'),\n",
       " Row(value='ix-or10-06.ix.netcom.com - - [01/Jul/1995:00:03:24 -0400] \"GET /software HTTP/1.0\" 302 -'),\n",
       " Row(value='link097.txdirect.net - - [01/Jul/1995:00:05:06 -0400] \"GET /shuttle HTTP/1.0\" 302 -'),\n",
       " Row(value='ix-war-mi1-20.ix.netcom.com - - [01/Jul/1995:00:05:13 -0400] \"GET /shuttle/missions/sts-78/news HTTP/1.0\" 302 -'),\n",
       " Row(value='ix-war-mi1-20.ix.netcom.com - - [01/Jul/1995:00:05:58 -0400] \"GET /shuttle/missions/sts-72/news HTTP/1.0\" 302 -'),\n",
       " Row(value='netport-27.iu.net - - [01/Jul/1995:00:10:19 -0400] \"GET /pub/winvn/readme.txt HTTP/1.0\" 404 -'),\n",
       " Row(value='netport-27.iu.net - - [01/Jul/1995:00:10:28 -0400] \"GET /pub/winvn/readme.txt HTTP/1.0\" 404 -'),\n",
       " Row(value='dynip38.efn.org - - [01/Jul/1995:00:10:50 -0400] \"GET /software HTTP/1.0\" 302 -')]"
      ]
     },
     "execution_count": 29,
     "metadata": {},
     "output_type": "execute_result"
    }
   ],
   "source": [
    "null_content_size_df.take(10)"
   ]
  },
  {
   "cell_type": "code",
   "execution_count": 30,
   "id": "f361a6732980e72b",
   "metadata": {
    "ExecuteTime": {
     "end_time": "2024-10-17T07:18:00.641656500Z",
     "start_time": "2024-10-17T04:12:20.717923Z"
    }
   },
   "outputs": [],
   "source": [
    "#fix rows with null content_size\n",
    "logs_df = logs_df.na.fill({'content_size':0})"
   ]
  },
  {
   "cell_type": "code",
   "execution_count": 31,
   "id": "2107e5d299acae76",
   "metadata": {
    "ExecuteTime": {
     "end_time": "2024-10-17T07:18:00.641656500Z",
     "start_time": "2024-10-17T04:12:20.763935Z"
    }
   },
   "outputs": [
    {
     "name": "stdout",
     "output_type": "stream",
     "text": [
      "+----+---------+------+--------+--------+------+------------+\n",
      "|host|timestamp|method|endpoint|protocol|status|content_size|\n",
      "+----+---------+------+--------+--------+------+------------+\n",
      "|   0|        0|     0|       0|       0|     0|           0|\n",
      "+----+---------+------+--------+--------+------+------------+\n",
      "\n"
     ]
    }
   ],
   "source": [
    "exprs = [count_null(col_name) for col_name in logs_df.columns]\n",
    "logs_df.agg(*exprs).show()"
   ]
  },
  {
   "cell_type": "markdown",
   "id": "d6db7c5a67bb2bfb",
   "metadata": {},
   "source": [
    "### Handling temporal fields (Timestamp)"
   ]
  },
  {
   "cell_type": "code",
   "execution_count": 32,
   "id": "16384292a651fe15",
   "metadata": {
    "ExecuteTime": {
     "end_time": "2024-10-17T07:18:00.641656500Z",
     "start_time": "2024-10-17T04:12:25.822719Z"
    }
   },
   "outputs": [],
   "source": [
    "from pyspark.sql.functions import udf\n",
    "\n",
    "month_map = {\n",
    "  'Jan': 1, 'Feb': 2, 'Mar':3, 'Apr':4, 'May':5, 'Jun':6, 'Jul':7,\n",
    "  'Aug':8,  'Sep': 9, 'Oct':10, 'Nov': 11, 'Dec': 12\n",
    "}\n",
    "\n",
    "def parse_clf_time(text):\n",
    "    \"\"\" Convert Common Log time format into a Python datetime object\n",
    "    Args:\n",
    "        text (str): date and time in Apache time format [dd/mmm/yyyy:hh:mm:ss (+/-)zzzz]\n",
    "    Returns:\n",
    "        a string suitable for passing to CAST('timestamp')\n",
    "    \"\"\"\n",
    "    # NOTE: We're ignoring the time zones here, might need to be handled depending on the problem you are solving\n",
    "    return \"{0:04d}-{1:02d}-{2:02d} {3:02d}:{4:02d}:{5:02d}\".format(\n",
    "      int(text[7:11]),\n",
    "      month_map[text[3:6]],\n",
    "      int(text[0:2]),\n",
    "      int(text[12:14]),\n",
    "      int(text[15:17]),\n",
    "      int(text[18:20]))"
   ]
  },
  {
   "cell_type": "code",
   "execution_count": 33,
   "id": "f7a793362f220cbb",
   "metadata": {
    "ExecuteTime": {
     "end_time": "2024-10-17T07:18:00.641656500Z",
     "start_time": "2024-10-17T04:12:25.907053Z"
    }
   },
   "outputs": [
    {
     "data": {
      "text/plain": [
       "['01/Jul/1995:00:00:01 -0400',\n",
       " '01/Jul/1995:00:00:06 -0400',\n",
       " '01/Jul/1995:00:00:09 -0400',\n",
       " '01/Jul/1995:00:00:11 -0400',\n",
       " '01/Jul/1995:00:00:11 -0400']"
      ]
     },
     "execution_count": 33,
     "metadata": {},
     "output_type": "execute_result"
    }
   ],
   "source": [
    "sample_ts = [item['timestamp'] for item in logs_df.select('timestamp').take(5)]\n",
    "sample_ts"
   ]
  },
  {
   "cell_type": "code",
   "execution_count": 34,
   "id": "cf61f3b57c2183a3",
   "metadata": {
    "ExecuteTime": {
     "end_time": "2024-10-17T07:18:00.641656500Z",
     "start_time": "2024-10-17T04:12:26.016273Z"
    }
   },
   "outputs": [
    {
     "data": {
      "text/plain": [
       "['1995-07-01 00:00:01',\n",
       " '1995-07-01 00:00:06',\n",
       " '1995-07-01 00:00:09',\n",
       " '1995-07-01 00:00:11',\n",
       " '1995-07-01 00:00:11']"
      ]
     },
     "execution_count": 34,
     "metadata": {},
     "output_type": "execute_result"
    }
   ],
   "source": [
    "[parse_clf_time(item) for item in sample_ts]"
   ]
  },
  {
   "cell_type": "code",
   "execution_count": 35,
   "id": "b5e310b9",
   "metadata": {},
   "outputs": [
    {
     "data": {
      "text/plain": [
       "[('host', 'string'),\n",
       " ('timestamp', 'string'),\n",
       " ('method', 'string'),\n",
       " ('endpoint', 'string'),\n",
       " ('protocol', 'string'),\n",
       " ('status', 'int'),\n",
       " ('content_size', 'int')]"
      ]
     },
     "execution_count": 35,
     "metadata": {},
     "output_type": "execute_result"
    }
   ],
   "source": [
    "logs_df.dtypes"
   ]
  },
  {
   "cell_type": "code",
   "execution_count": 36,
   "id": "6ff32db4",
   "metadata": {},
   "outputs": [
    {
     "name": "stdout",
     "output_type": "stream",
     "text": [
      "+--------------------+------+--------------------+--------+------+------------+-------------------+\n",
      "|                host|method|            endpoint|protocol|status|content_size|               time|\n",
      "+--------------------+------+--------------------+--------+------+------------+-------------------+\n",
      "|        199.72.81.55|   GET|    /history/apollo/|HTTP/1.0|   200|        6245|1995-07-01 00:00:01|\n",
      "|unicomp6.unicomp.net|   GET| /shuttle/countdown/|HTTP/1.0|   200|        3985|1995-07-01 00:00:06|\n",
      "|      199.120.110.21|   GET|/shuttle/missions...|HTTP/1.0|   200|        4085|1995-07-01 00:00:09|\n",
      "|  burger.letters.com|   GET|/shuttle/countdow...|HTTP/1.0|   304|           0|1995-07-01 00:00:11|\n",
      "|      199.120.110.21|   GET|/shuttle/missions...|HTTP/1.0|   200|        4179|1995-07-01 00:00:11|\n",
      "|  burger.letters.com|   GET|/images/NASA-logo...|HTTP/1.0|   304|           0|1995-07-01 00:00:12|\n",
      "|  burger.letters.com|   GET|/shuttle/countdow...|HTTP/1.0|   200|           0|1995-07-01 00:00:12|\n",
      "|     205.212.115.106|   GET|/shuttle/countdow...|HTTP/1.0|   200|        3985|1995-07-01 00:00:12|\n",
      "|         d104.aa.net|   GET| /shuttle/countdown/|HTTP/1.0|   200|        3985|1995-07-01 00:00:13|\n",
      "|      129.94.144.152|   GET|                   /|HTTP/1.0|   200|        7074|1995-07-01 00:00:13|\n",
      "+--------------------+------+--------------------+--------+------+------------+-------------------+\n",
      "only showing top 10 rows\n",
      "\n"
     ]
    }
   ],
   "source": [
    "udf_parse_time = udf(parse_clf_time)\n",
    "\n",
    "logs_df = logs_df.select('*', udf_parse_time(logs_df['timestamp']).cast('timestamp').alias('time')).drop('timestamp')\n",
    "logs_df.show(10, truncate=True)"
   ]
  },
  {
   "cell_type": "code",
   "execution_count": 37,
   "id": "38a7b268",
   "metadata": {},
   "outputs": [
    {
     "name": "stdout",
     "output_type": "stream",
     "text": [
      "root\n",
      " |-- host: string (nullable = true)\n",
      " |-- method: string (nullable = true)\n",
      " |-- endpoint: string (nullable = true)\n",
      " |-- protocol: string (nullable = true)\n",
      " |-- status: integer (nullable = true)\n",
      " |-- content_size: integer (nullable = false)\n",
      " |-- time: timestamp (nullable = true)\n",
      "\n"
     ]
    }
   ],
   "source": [
    "logs_df.printSchema()"
   ]
  },
  {
   "cell_type": "code",
   "execution_count": 38,
   "id": "e37d64e9",
   "metadata": {},
   "outputs": [
    {
     "data": {
      "text/html": [
       "<div>\n",
       "<style scoped>\n",
       "    .dataframe tbody tr th:only-of-type {\n",
       "        vertical-align: middle;\n",
       "    }\n",
       "\n",
       "    .dataframe tbody tr th {\n",
       "        vertical-align: top;\n",
       "    }\n",
       "\n",
       "    .dataframe thead th {\n",
       "        text-align: right;\n",
       "    }\n",
       "</style>\n",
       "<table border=\"1\" class=\"dataframe\">\n",
       "  <thead>\n",
       "    <tr style=\"text-align: right;\">\n",
       "      <th></th>\n",
       "      <th>host</th>\n",
       "      <th>method</th>\n",
       "      <th>endpoint</th>\n",
       "      <th>protocol</th>\n",
       "      <th>status</th>\n",
       "      <th>content_size</th>\n",
       "      <th>time</th>\n",
       "    </tr>\n",
       "  </thead>\n",
       "  <tbody>\n",
       "    <tr>\n",
       "      <th>0</th>\n",
       "      <td>199.72.81.55</td>\n",
       "      <td>GET</td>\n",
       "      <td>/history/apollo/</td>\n",
       "      <td>HTTP/1.0</td>\n",
       "      <td>200</td>\n",
       "      <td>6245</td>\n",
       "      <td>1995-07-01 00:00:01</td>\n",
       "    </tr>\n",
       "    <tr>\n",
       "      <th>1</th>\n",
       "      <td>unicomp6.unicomp.net</td>\n",
       "      <td>GET</td>\n",
       "      <td>/shuttle/countdown/</td>\n",
       "      <td>HTTP/1.0</td>\n",
       "      <td>200</td>\n",
       "      <td>3985</td>\n",
       "      <td>1995-07-01 00:00:06</td>\n",
       "    </tr>\n",
       "    <tr>\n",
       "      <th>2</th>\n",
       "      <td>199.120.110.21</td>\n",
       "      <td>GET</td>\n",
       "      <td>/shuttle/missions/sts-73/mission-sts-73.html</td>\n",
       "      <td>HTTP/1.0</td>\n",
       "      <td>200</td>\n",
       "      <td>4085</td>\n",
       "      <td>1995-07-01 00:00:09</td>\n",
       "    </tr>\n",
       "    <tr>\n",
       "      <th>3</th>\n",
       "      <td>burger.letters.com</td>\n",
       "      <td>GET</td>\n",
       "      <td>/shuttle/countdown/liftoff.html</td>\n",
       "      <td>HTTP/1.0</td>\n",
       "      <td>304</td>\n",
       "      <td>0</td>\n",
       "      <td>1995-07-01 00:00:11</td>\n",
       "    </tr>\n",
       "    <tr>\n",
       "      <th>4</th>\n",
       "      <td>199.120.110.21</td>\n",
       "      <td>GET</td>\n",
       "      <td>/shuttle/missions/sts-73/sts-73-patch-small.gif</td>\n",
       "      <td>HTTP/1.0</td>\n",
       "      <td>200</td>\n",
       "      <td>4179</td>\n",
       "      <td>1995-07-01 00:00:11</td>\n",
       "    </tr>\n",
       "  </tbody>\n",
       "</table>\n",
       "</div>"
      ],
      "text/plain": [
       "                   host method  \\\n",
       "0          199.72.81.55    GET   \n",
       "1  unicomp6.unicomp.net    GET   \n",
       "2        199.120.110.21    GET   \n",
       "3    burger.letters.com    GET   \n",
       "4        199.120.110.21    GET   \n",
       "\n",
       "                                          endpoint  protocol  status  \\\n",
       "0                                 /history/apollo/  HTTP/1.0     200   \n",
       "1                              /shuttle/countdown/  HTTP/1.0     200   \n",
       "2     /shuttle/missions/sts-73/mission-sts-73.html  HTTP/1.0     200   \n",
       "3                  /shuttle/countdown/liftoff.html  HTTP/1.0     304   \n",
       "4  /shuttle/missions/sts-73/sts-73-patch-small.gif  HTTP/1.0     200   \n",
       "\n",
       "   content_size                time  \n",
       "0          6245 1995-07-01 00:00:01  \n",
       "1          3985 1995-07-01 00:00:06  \n",
       "2          4085 1995-07-01 00:00:09  \n",
       "3             0 1995-07-01 00:00:11  \n",
       "4          4179 1995-07-01 00:00:11  "
      ]
     },
     "execution_count": 38,
     "metadata": {},
     "output_type": "execute_result"
    }
   ],
   "source": [
    "logs_df.limit(5).toPandas()"
   ]
  },
  {
   "cell_type": "code",
   "execution_count": 39,
   "id": "ba3db981f2aff5c6",
   "metadata": {
    "ExecuteTime": {
     "end_time": "2024-10-17T07:18:00.648166700Z",
     "start_time": "2024-10-17T04:12:29.004746Z"
    }
   },
   "outputs": [
    {
     "data": {
      "text/plain": [
       "DataFrame[host: string, method: string, endpoint: string, protocol: string, status: int, content_size: int, time: timestamp]"
      ]
     },
     "execution_count": 39,
     "metadata": {},
     "output_type": "execute_result"
    }
   ],
   "source": [
    "logs_df.cache()"
   ]
  },
  {
   "cell_type": "markdown",
   "id": "c6e4aeadf1817c2f",
   "metadata": {},
   "source": [
    "## DATA ANALYSIS "
   ]
  },
  {
   "cell_type": "markdown",
   "id": "42f5452770ec22f5",
   "metadata": {},
   "source": [
    "### Content size statistics"
   ]
  },
  {
   "cell_type": "code",
   "execution_count": 40,
   "id": "ca78b3e078793e75",
   "metadata": {
    "ExecuteTime": {
     "end_time": "2024-10-17T07:18:00.648166700Z",
     "start_time": "2024-10-17T04:12:29.105930Z"
    }
   },
   "outputs": [
    {
     "data": {
      "text/html": [
       "<div>\n",
       "<style scoped>\n",
       "    .dataframe tbody tr th:only-of-type {\n",
       "        vertical-align: middle;\n",
       "    }\n",
       "\n",
       "    .dataframe tbody tr th {\n",
       "        vertical-align: top;\n",
       "    }\n",
       "\n",
       "    .dataframe thead th {\n",
       "        text-align: right;\n",
       "    }\n",
       "</style>\n",
       "<table border=\"1\" class=\"dataframe\">\n",
       "  <thead>\n",
       "    <tr style=\"text-align: right;\">\n",
       "      <th></th>\n",
       "      <th>summary</th>\n",
       "      <th>content_size</th>\n",
       "    </tr>\n",
       "  </thead>\n",
       "  <tbody>\n",
       "    <tr>\n",
       "      <th>0</th>\n",
       "      <td>count</td>\n",
       "      <td>3461612</td>\n",
       "    </tr>\n",
       "    <tr>\n",
       "      <th>1</th>\n",
       "      <td>mean</td>\n",
       "      <td>18928.844398216785</td>\n",
       "    </tr>\n",
       "    <tr>\n",
       "      <th>2</th>\n",
       "      <td>stddev</td>\n",
       "      <td>73031.47260949262</td>\n",
       "    </tr>\n",
       "    <tr>\n",
       "      <th>3</th>\n",
       "      <td>min</td>\n",
       "      <td>0</td>\n",
       "    </tr>\n",
       "    <tr>\n",
       "      <th>4</th>\n",
       "      <td>max</td>\n",
       "      <td>6823936</td>\n",
       "    </tr>\n",
       "  </tbody>\n",
       "</table>\n",
       "</div>"
      ],
      "text/plain": [
       "  summary        content_size\n",
       "0   count             3461612\n",
       "1    mean  18928.844398216785\n",
       "2  stddev   73031.47260949262\n",
       "3     min                   0\n",
       "4     max             6823936"
      ]
     },
     "execution_count": 40,
     "metadata": {},
     "output_type": "execute_result"
    }
   ],
   "source": [
    "content_size_summary_df = logs_df.describe(['content_size'])\n",
    "content_size_summary_df.toPandas()"
   ]
  },
  {
   "cell_type": "code",
   "execution_count": 41,
   "id": "a5be212ecadc6760",
   "metadata": {
    "ExecuteTime": {
     "end_time": "2024-10-17T07:18:00.648166700Z",
     "start_time": "2024-10-17T04:12:48.441192Z"
    }
   },
   "outputs": [
    {
     "data": {
      "text/html": [
       "<div>\n",
       "<style scoped>\n",
       "    .dataframe tbody tr th:only-of-type {\n",
       "        vertical-align: middle;\n",
       "    }\n",
       "\n",
       "    .dataframe tbody tr th {\n",
       "        vertical-align: top;\n",
       "    }\n",
       "\n",
       "    .dataframe thead th {\n",
       "        text-align: right;\n",
       "    }\n",
       "</style>\n",
       "<table border=\"1\" class=\"dataframe\">\n",
       "  <thead>\n",
       "    <tr style=\"text-align: right;\">\n",
       "      <th></th>\n",
       "      <th>min_content_size</th>\n",
       "      <th>max_content_size</th>\n",
       "      <th>mean_content_size</th>\n",
       "      <th>std_content_size</th>\n",
       "      <th>count_content_size</th>\n",
       "    </tr>\n",
       "  </thead>\n",
       "  <tbody>\n",
       "    <tr>\n",
       "      <th>0</th>\n",
       "      <td>0</td>\n",
       "      <td>6823936</td>\n",
       "      <td>18928.844398</td>\n",
       "      <td>73031.472609</td>\n",
       "      <td>3461612</td>\n",
       "    </tr>\n",
       "  </tbody>\n",
       "</table>\n",
       "</div>"
      ],
      "text/plain": [
       "   min_content_size  max_content_size  mean_content_size  std_content_size  \\\n",
       "0                 0           6823936       18928.844398      73031.472609   \n",
       "\n",
       "   count_content_size  \n",
       "0             3461612  "
      ]
     },
     "execution_count": 41,
     "metadata": {},
     "output_type": "execute_result"
    }
   ],
   "source": [
    "from pyspark.sql import functions as F\n",
    "\n",
    "(logs_df.agg(F.min(logs_df['content_size']).alias('min_content_size'),\n",
    "             F.max(logs_df['content_size']).alias('max_content_size'),\n",
    "             F.mean(logs_df['content_size']).alias('mean_content_size'),\n",
    "             F.stddev(logs_df['content_size']).alias('std_content_size'),\n",
    "             F.count(logs_df['content_size']).alias('count_content_size'))\n",
    "        .toPandas())"
   ]
  },
  {
   "cell_type": "markdown",
   "id": "722768d7af9a9430",
   "metadata": {},
   "source": [
    "### HTTP Status Code Analysis"
   ]
  },
  {
   "cell_type": "code",
   "execution_count": 42,
   "id": "15af5a606cb9335a",
   "metadata": {
    "ExecuteTime": {
     "end_time": "2024-10-17T07:18:00.648166700Z",
     "start_time": "2024-10-17T04:12:48.725982Z"
    }
   },
   "outputs": [
    {
     "name": "stdout",
     "output_type": "stream",
     "text": [
      "Total distinct HTTP status codes:  8\n"
     ]
    }
   ],
   "source": [
    "status_freq_df = (logs_df\n",
    "                     .groupBy('status')\n",
    "                     .count()\n",
    "                     .sort('status')\n",
    "                     .cache())\n",
    "\n",
    "print('Total distinct HTTP status codes: ',status_freq_df.count())"
   ]
  },
  {
   "cell_type": "code",
   "execution_count": 43,
   "id": "12e713d3",
   "metadata": {},
   "outputs": [
    {
     "name": "stdout",
     "output_type": "stream",
     "text": [
      "Total content_size:  16502\n",
      "Unique content: [0, 28, 50, 60, 62, 65, 66, 68, 72, 74, 75, 76, 77, 79, 81, 83, 84, 85, 86, 87, 88, 89, 90, 91, 92, 93, 94, 95, 96, 97, 98, 99, 100, 101, 102, 104, 105, 106, 108, 109, 110, 111, 112, 113, 114, 116, 128, 130, 136, 148, 156, 166, 168, 172, 176, 178, 180, 205, 206, 207, 210, 211, 220, 225, 226, 227, 228, 229, 230, 231, 234, 235, 236, 239, 241, 245, 262, 263, 283, 285, 286, 291, 300, 302, 305, 306, 308, 312, 313, 314, 315, 316, 317, 318, 319, 320, 321, 322, 323, 324, 325, 326, 327, 328, 329, 330, 331, 332, 333, 334, 335, 336, 339, 341, 342, 343, 344, 345, 348, 350, 351, 352, 355, 360, 361, 362, 363, 364, 366, 367, 368, 369, 370, 371, 372, 373, 374, 375, 377, 378, 379, 380, 381, 382, 383, 384, 386, 387, 389, 390, 391, 395, 396, 397, 398, 399, 402, 403, 404, 405, 406, 407, 409, 410, 411, 412, 413, 414, 415, 416, 418, 419, 421, 424, 425, 429, 432, 440, 441, 446, 450, 456, 457, 461, 462, 463, 464, 467, 469, 470, 472, 473, 474, 476, 477, 479, 482, 483, 486, 487, 488, 489, 490, 492, 493, 494, 495, 497, 499, 501, 502, 503, 505, 506, 507, 509, 511, 512, 514, 515, 516, 517, 518, 519, 521, 523, 524, 525, 526, 527, 528, 529, 530, 532, 533, 534, 536, 538, 539, 541, 542, 543, 544, 549, 551, 555, 557, 559, 562, 564, 565, 566, 570, 571, 575, 577, 580, 584, 585, 586, 588, 589, 590, 592, 593, 598, 601, 602, 603, 604, 605, 606, 607, 608, 609, 611, 612, 614, 619, 620, 621, 622, 624, 629, 632, 634, 635, 636, 638, 640, 641, 643, 644, 646, 650, 651, 653, 654, 657, 659, 661, 662, 663, 664, 665, 666, 668, 669, 672, 673, 676, 678, 680, 681, 682, 685, 686, 688, 689, 690, 691, 693, 695, 696, 698, 701, 702, 703, 704, 705, 710, 712, 715, 716, 718, 720, 721, 722, 723, 724, 725, 726, 727, 728, 729, 730, 731, 732, 733, 734, 735, 736, 737, 738, 739, 740, 741, 742, 743, 744, 745, 747, 750, 751, 752, 754, 756, 757, 758, 759, 760, 761, 762, 764, 765, 766, 767, 769, 771, 772, 773, 774, 775, 776, 777, 778, 779, 780, 781, 782, 786, 789, 790, 791, 792, 793, 794, 796, 797, 799, 801, 803, 805, 806, 809, 811, 816, 817, 819, 823, 824, 826, 829, 830, 831, 832, 835, 837, 838, 841, 843, 844, 848, 851, 853, 854, 856, 863, 865, 869, 871, 875, 876, 878, 879, 880, 883, 885, 889, 890, 891, 892, 894, 896, 897, 900, 901, 903, 906, 908, 909, 911, 913, 914, 915, 917, 918, 921, 922, 924, 925, 926, 929, 932, 934, 935, 936, 940, 943, 944, 945, 946, 948, 953, 955, 956, 957, 958, 959, 960, 962, 963, 964, 965, 966, 967, 969, 971, 972, 973, 974, 975, 977, 978, 979, 985, 986, 988, 995, 996, 998, 1000, 1001, 1002, 1003, 1004, 1005, 1006, 1007, 1009, 1015, 1016, 1018, 1022, 1028, 1029, 1030, 1033, 1035, 1037, 1038, 1039, 1040, 1041, 1042, 1043, 1044, 1046, 1047, 1048, 1050, 1052, 1053, 1055, 1056, 1057, 1059, 1061, 1065, 1066, 1067, 1069, 1072, 1074, 1075, 1077, 1078, 1079, 1081, 1082, 1085, 1086, 1087, 1088, 1089, 1090, 1091, 1093, 1095, 1096, 1097, 1100, 1101, 1103, 1104, 1105, 1107, 1110, 1111, 1114, 1115, 1116, 1117, 1118, 1120, 1122, 1123, 1124, 1127, 1131, 1132, 1134, 1135, 1136, 1137, 1138, 1140, 1144, 1147, 1152, 1153, 1154, 1155, 1156, 1157, 1160, 1161, 1162, 1164, 1165, 1166, 1167, 1170, 1173, 1174, 1175, 1176, 1177, 1178, 1179, 1182, 1184, 1185, 1186, 1190, 1193, 1194, 1195, 1197, 1198, 1199, 1200, 1201, 1203, 1204, 1205, 1208, 1213, 1214, 1215, 1217, 1220, 1221, 1222, 1223, 1224, 1225, 1227, 1230, 1231, 1232, 1236, 1237, 1238, 1239, 1244, 1245, 1247, 1250, 1251, 1253, 1255, 1258, 1262, 1265, 1266, 1267, 1268, 1270, 1271, 1273, 1274, 1278, 1281, 1282, 1283, 1284, 1287, 1288, 1289, 1290, 1291, 1292, 1293, 1294, 1299, 1300, 1301, 1303, 1304, 1305, 1306, 1307, 1310, 1311, 1313, 1314, 1315, 1316, 1318, 1319, 1322, 1323, 1325, 1328, 1329, 1331, 1333, 1334, 1336, 1337, 1338, 1339, 1340, 1341, 1343, 1344, 1347, 1349, 1352, 1355, 1356, 1357, 1359, 1360, 1363, 1365, 1366, 1367, 1371, 1372, 1373, 1374, 1375, 1377, 1378, 1380, 1381, 1382, 1387, 1388, 1389, 1391, 1392, 1393, 1395, 1396, 1400, 1401, 1404, 1405, 1406, 1408, 1409, 1410, 1411, 1412, 1414, 1415, 1418, 1424, 1425, 1426, 1427, 1428, 1429, 1430, 1431, 1432, 1434, 1436, 1437, 1438, 1439, 1440, 1443, 1444, 1447, 1448, 1450, 1452, 1453, 1454, 1456, 1457, 1458, 1459, 1460, 1461, 1462, 1464, 1466, 1467, 1468, 1470, 1475, 1476, 1477, 1478, 1482, 1484, 1485, 1486, 1492, 1498, 1502, 1504, 1506, 1510, 1511, 1512, 1513, 1514, 1515, 1517, 1521, 1523, 1525, 1527, 1528, 1530, 1532, 1534, 1535, 1536, 1537, 1539, 1540, 1541, 1542, 1543, 1544, 1547, 1549, 1554, 1555, 1558, 1559, 1560, 1564, 1566, 1570, 1572, 1573, 1574, 1575, 1577, 1580, 1581, 1582, 1583, 1584, 1585, 1587, 1588, 1589, 1590, 1591, 1592, 1594, 1595, 1596, 1597, 1599, 1601, 1602, 1603, 1605, 1607, 1608, 1609, 1610, 1611, 1615, 1616, 1618, 1619, 1623, 1624, 1625, 1627, 1629, 1630, 1633, 1634, 1635, 1636, 1637, 1639, 1640, 1643, 1645, 1646, 1648, 1649, 1650, 1652, 1653, 1657, 1658, 1659, 1662, 1663, 1664, 1667, 1669, 1670, 1672, 1674, 1678, 1680, 1683, 1685, 1686, 1687, 1689, 1692, 1694, 1699, 1704, 1705, 1708, 1709, 1711, 1712, 1713, 1714, 1715, 1716, 1719, 1720, 1721, 1725, 1726, 1727, 1731, 1732, 1733, 1734, 1735, 1736, 1739, 1740, 1743, 1744, 1747, 1748, 1749, 1750, 1751, 1753, 1754, 1755, 1759, 1761, 1763, 1765, 1766, 1767, 1768, 1770, 1772, 1773, 1779, 1780, 1783, 1785, 1786, 1787, 1790, 1793, 1794, 1797, 1798, 1799, 1801, 1809, 1812, 1815, 1819, 1820, 1821, 1822, 1824, 1826, 1827, 1828, 1830, 1834, 1837, 1839, 1840, 1841, 1843, 1844, 1846, 1847, 1850, 1851, 1854, 1855, 1857, 1860, 1861, 1866, 1871, 1876, 1879, 1880, 1881, 1882, 1883, 1885, 1887, 1889, 1890, 1894, 1897, 1899, 1900, 1902, 1903, 1904, 1909, 1911, 1914, 1915, 1916, 1917, 1918, 1920, 1921, 1923, 1924, 1926, 1929, 1932, 1933, 1935, 1937, 1938, 1940, 1944, 1946, 1948, 1949, 1952, 1953, 1957, 1958, 1960, 1963, 1964, 1965, 1966, 1967, 1969, 1972, 1973, 1974, 1976, 1978, 1981, 1982, 1984, 1985, 1986, 1989, 1990, 1991, 1992, 1993, 1994, 1995, 1997, 1999, 2000, 2001, 2002, 2004, 2007, 2009, 2011, 2012, 2016, 2019, 2020, 2021, 2022, 2023, 2027, 2028, 2030, 2031, 2032, 2034, 2038, 2042, 2044, 2048, 2049, 2054, 2058, 2059, 2060, 2063, 2064, 2066, 2067, 2071, 2072, 2075, 2076, 2077, 2078, 2079, 2080, 2081, 2082, 2083, 2084, 2085, 2090, 2091, 2092, 2093, 2096, 2097, 2100, 2101, 2105, 2108, 2112, 2117, 2118, 2120, 2121, 2124, 2125, 2126, 2127, 2128, 2129, 2131, 2134, 2136, 2137, 2138, 2141, 2142, 2143, 2146, 2150, 2152, 2156, 2158, 2160, 2161, 2162, 2166, 2167, 2168, 2169, 2171, 2172, 2173, 2175, 2177, 2178, 2182, 2184, 2187, 2188, 2189, 2194, 2198, 2199, 2200, 2202, 2207, 2210, 2212, 2215, 2216, 2218, 2220, 2221, 2223, 2224, 2225, 2232, 2233, 2234, 2236, 2237, 2238, 2241, 2242, 2244, 2247, 2248, 2250, 2251, 2252, 2253, 2255, 2256, 2257, 2258, 2260, 2261, 2263, 2264, 2267, 2270, 2278, 2280, 2282, 2286, 2292, 2295, 2296, 2298, 2299, 2302, 2303, 2304, 2306, 2308, 2312, 2313, 2314, 2315, 2321, 2322, 2323, 2324, 2325, 2329, 2334, 2337, 2341, 2343, 2345, 2351, 2354, 2355, 2357, 2358, 2359, 2362, 2363, 2366, 2367, 2370, 2371, 2379, 2382, 2384, 2386, 2390, 2394, 2396, 2397, 2400, 2401, 2402, 2406, 2409, 2410, 2411, 2416, 2421, 2423, 2424, 2425, 2426, 2428, 2434, 2435, 2436, 2437, 2438, 2440, 2443, 2447, 2450, 2451, 2456, 2460, 2461, 2462, 2464, 2465, 2470, 2471, 2473, 2475, 2476, 2478, 2480, 2481, 2482, 2483, 2484, 2485, 2486, 2487, 2488, 2489, 2490, 2491, 2492, 2493, 2494, 2495, 2496, 2497, 2498, 2499, 2500, 2501, 2502, 2503, 2506, 2513, 2517, 2519, 2521, 2522, 2526, 2527, 2532, 2533, 2536, 2537, 2540, 2541, 2542, 2544, 2545, 2549, 2552, 2555, 2557, 2558, 2559, 2560, 2561, 2563, 2566, 2570, 2572, 2577, 2578, 2581, 2582, 2583, 2585, 2587, 2590, 2591, 2595, 2599, 2600, 2601, 2602, 2605, 2607, 2608, 2609, 2610, 2614, 2616, 2618, 2619, 2622, 2623, 2627, 2629, 2636, 2637, 2638, 2640, 2642, 2643, 2644, 2646, 2647, 2651, 2653, 2654, 2656, 2657, 2658, 2659, 2660, 2662, 2668, 2669, 2670, 2672, 2673, 2674, 2676, 2679, 2680, 2681, 2682, 2683, 2684, 2685, 2687, 2690, 2692, 2693, 2694, 2696, 2697, 2700, 2704, 2708, 2710, 2711, 2714, 2716, 2717, 2718, 2722, 2725, 2726, 2727, 2728, 2732, 2733, 2734, 2735, 2739, 2740, 2741, 2742, 2743, 2746, 2747, 2748, 2749, 2751, 2754, 2759, 2763, 2764, 2766, 2769, 2772, 2780, 2782, 2788, 2791, 2792, 2794, 2795, 2796, 2799, 2800, 2802, 2806, 2807, 2808, 2810, 2811, 2812, 2813, 2814, 2815, 2816, 2820, 2822, 2823, 2824, 2826, 2829, 2832, 2836, 2840, 2843, 2845, 2846, 2847, 2849, 2850, 2852, 2854, 2856, 2860, 2861, 2864, 2865, 2867, 2868, 2871, 2873, 2878, 2880, 2881, 2884, 2889, 2890, 2893, 2894, 2897, 2900, 2901, 2902, 2904, 2909, 2911, 2914, 2915, 2919, 2922, 2927, 2928, 2931, 2933, 2934, 2936, 2938, 2940, 2941, 2946, 2947, 2951, 2952, 2955, 2960, 2961, 2962, 2963, 2964, 2965, 2968, 2972, 2974, 2976, 2977, 2978, 2979, 2981, 2982, 2983, 2984, 2985, 2990, 2992, 2995, 2997, 2998, 2999, 3000, 3001, 3004, 3005, 3007, 3008, 3012, 3014, 3015, 3016, 3019, 3022, 3025, 3026, 3027, 3030, 3031, 3033, 3041, 3043, 3045, 3046, 3047, 3048, 3049, 3052, 3054, 3056, 3057, 3058, 3061, 3062, 3063, 3064, 3065, 3066, 3067, 3068, 3070, 3071, 3072, 3073, 3074, 3076, 3077, 3081, 3085, 3089, 3090, 3091, 3092, 3095, 3105, 3106, 3107, 3108, 3109, 3110, 3111, 3112, 3114, 3116, 3117, 3120, 3121, 3123, 3124, 3127, 3129, 3132, 3133, 3136, 3137, 3139, 3141, 3144, 3145, 3146, 3147, 3149, 3150, 3151, 3155, 3156, 3160, 3161, 3162, 3163, 3164, 3165, 3166, 3167, 3168, 3169, 3170, 3171, 3174, 3175, 3176, 3178, 3184, 3185, 3186, 3188, 3195, 3196, 3197, 3199, 3200, 3203, 3205, 3212, 3214, 3215, 3216, 3217, 3218, 3219, 3224, 3225, 3226, 3227, 3228, 3230, 3238, 3239, 3251, 3252, 3253, 3257, 3258, 3259, 3260, 3261, 3262, 3263, 3264, 3270, 3271, 3273, 3274, 3275, 3276, 3277, 3280, 3281, 3283, 3286, 3287, 3290, 3292, 3293, 3294, 3297, 3300, 3301, 3303, 3304, 3305, 3306, 3307, 3309, 3311, 3312, 3313, 3317, 3318, 3319, 3320, 3321, 3322, 3327, 3332, 3334, 3336, 3337, 3340, 3341, 3342, 3343, 3344, 3345, 3347, 3349, 3350, 3355, 3360, 3361, 3362, 3363, 3364, 3365, 3367, 3368, 3373, 3375, 3376, 3377, 3379, 3381, 3382, 3387, 3389, 3390, 3391, 3396, 3401, 3403, 3408, 3410, 3412, 3414, 3415, 3416, 3417, 3419, 3420, 3421, 3422, 3423, 3424, 3426, 3428, 3432, 3434, 3435, 3436, 3437, 3438, 3439, 3440, 3441, 3442, 3446, 3447, 3448, 3450, 3455, 3459, 3460, 3461, 3464, 3466, 3467, 3469, 3470, 3471, 3474, 3477, 3478, 3479, 3486, 3491, 3492, 3494, 3495, 3497, 3499, 3500, 3503, 3505, 3506, 3507, 3509, 3510, 3511, 3512, 3513, 3517, 3518, 3520, 3521, 3524, 3526, 3527, 3528, 3529, 3530, 3531, 3532, 3533, 3535, 3536, 3537, 3538, 3540, 3541, 3542, 3543, 3544, 3545, 3546, 3547, 3548, 3549, 3550, 3551, 3553, 3555, 3556, 3557, 3558, 3559, 3562, 3563, 3564, 3566, 3567, 3568, 3569, 3570, 3571, 3572, 3573, 3574, 3577, 3578, 3579, 3580, 3581, 3582, 3583, 3584, 3585, 3586, 3587, 3589, 3590, 3592, 3593, 3595, 3596, 3597, 3598, 3599, 3601, 3604, 3605, 3606, 3607, 3608, 3609, 3610, 3611, 3612, 3613, 3615, 3617, 3618, 3619, 3620, 3621, 3622, 3623, 3624, 3625, 3626, 3627, 3628, 3629, 3630, 3631, 3632, 3633, 3635, 3636, 3639, 3640, 3644, 3645, 3646, 3647, 3648, 3650, 3651, 3652, 3653, 3654, 3655, 3656, 3657, 3658, 3659, 3660, 3662, 3663, 3664, 3665, 3666, 3667, 3668, 3672, 3673, 3674, 3675, 3676, 3678, 3679, 3680, 3681, 3683, 3684, 3688, 3689, 3690, 3691, 3692, 3693, 3695, 3696, 3697, 3698, 3702, 3703, 3705, 3706, 3707, 3708, 3709, 3710, 3713, 3714, 3718, 3722, 3723, 3726, 3728, 3729, 3732, 3735, 3738, 3742, 3744, 3745, 3750, 3751, 3752, 3753, 3754, 3758, 3759, 3761, 3767, 3768, 3769, 3770, 3773, 3774, 3775, 3777, 3780, 3781, 3787, 3788, 3789, 3790, 3791, 3796, 3803, 3804, 3805, 3806, 3807, 3808, 3809, 3810, 3812, 3814, 3815, 3816, 3820, 3821, 3822, 3823, 3824, 3826, 3828, 3830, 3831, 3832, 3834, 3835, 3838, 3841, 3842, 3844, 3847, 3848, 3849, 3850, 3852, 3853, 3854, 3856, 3859, 3860, 3861, 3862, 3864, 3867, 3869, 3871, 3872, 3873, 3874, 3875, 3876, 3877, 3878, 3879, 3885, 3886, 3887, 3888, 3889, 3891, 3895, 3896, 3897, 3898, 3899, 3902, 3903, 3905, 3906, 3907, 3908, 3909, 3910, 3911, 3914, 3922, 3923, 3925, 3926, 3931, 3933, 3934, 3938, 3940, 3942, 3943, 3948, 3949, 3951, 3952, 3953, 3966, 3967, 3973, 3974, 3975, 3977, 3978, 3980, 3983, 3984, 3985, 3987, 3988, 3989, 3990, 3991, 3993, 3995, 3996, 3998, 4000, 4002, 4004, 4005, 4006, 4007, 4008, 4009, 4012, 4013, 4014, 4018, 4021, 4022, 4024, 4025, 4031, 4032, 4033, 4034, 4038, 4039, 4042, 4043, 4045, 4046, 4047, 4048, 4053, 4054, 4055, 4057, 4059, 4060, 4062, 4064, 4065, 4066, 4067, 4071, 4072, 4073, 4075, 4078, 4080, 4081, 4082, 4083, 4084, 4085, 4086, 4087, 4091, 4092, 4093, 4094, 4096, 4097, 4098, 4099, 4100, 4101, 4102, 4105, 4107, 4108, 4109, 4110, 4113, 4114, 4115, 4119, 4121, 4124, 4127, 4129, 4131, 4133, 4134, 4139, 4140, 4141, 4142, 4143, 4144, 4145, 4146, 4150, 4151, 4152, 4153, 4157, 4158, 4159, 4160, 4162, 4167, 4168, 4171, 4175, 4178, 4179, 4180, 4183, 4184, 4185, 4186, 4188, 4189, 4190, 4194, 4195, 4202, 4204, 4206, 4208, 4209, 4219, 4221, 4226, 4227, 4233, 4234, 4236, 4240, 4242, 4243, 4247, 4248, 4249, 4250, 4251, 4255, 4256, 4257, 4260, 4261, 4263, 4264, 4267, 4269, 4271, 4274, 4276, 4280, 4281, 4282, 4283, 4284, 4286, 4287, 4291, 4295, 4296, 4297, 4301, 4303, 4304, 4307, 4308, 4309, 4312, 4313, 4314, 4316, 4319, 4323, 4324, 4325, 4326, 4327, 4328, 4332, 4333, 4334, 4335, 4336, 4337, 4338, 4345, 4346, 4347, 4348, 4352, 4353, 4355, 4364, 4366, 4367, 4369, 4370, 4376, 4377, 4378, 4383, 4390, 4392, 4393, 4394, 4396, 4397, 4399, 4400, 4404, 4405, 4407, 4409, 4410, 4412, 4413, 4415, 4417, 4418, 4419, 4420, 4421, 4424, 4425, 4428, 4429, 4430, 4432, 4433, 4434, 4435, 4439, 4441, 4443, 4447, 4448, 4449, 4452, 4453, 4454, 4457, 4458, 4461, 4462, 4463, 4464, 4466, 4467, 4469, 4470, 4471, 4473, 4474, 4475, 4476, 4478, 4479, 4481, 4484, 4485, 4489, 4490, 4492, 4494, 4498, 4502, 4506, 4507, 4510, 4512, 4516, 4519, 4521, 4524, 4525, 4526, 4527, 4528, 4531, 4534, 4535, 4536, 4537, 4538, 4539, 4540, 4541, 4546, 4548, 4550, 4551, 4552, 4553, 4554, 4556, 4562, 4563, 4564, 4565, 4570, 4571, 4573, 4574, 4575, 4577, 4578, 4580, 4581, 4583, 4584, 4587, 4589, 4590, 4591, 4592, 4593, 4594, 4596, 4599, 4601, 4602, 4603, 4604, 4606, 4608, 4609, 4612, 4613, 4614, 4616, 4617, 4620, 4622, 4625, 4627, 4628, 4629, 4630, 4637, 4638, 4639, 4640, 4642, 4643, 4644, 4645, 4646, 4647, 4649, 4651, 4653, 4654, 4655, 4656, 4657, 4658, 4659, 4661, 4662, 4663, 4664, 4665, 4667, 4668, 4669, 4670, 4673, 4674, 4676, 4679, 4680, 4682, 4686, 4687, 4688, 4689, 4690, 4692, 4693, 4694, 4695, 4696, 4697, 4698, 4699, 4702, 4703, 4704, 4705, 4706, 4711, 4713, 4714, 4715, 4716, 4717, 4718, 4719, 4720, 4722, 4724, 4725, 4726, 4727, 4732, 4734, 4737, 4740, 4741, 4742, 4744, 4745, 4747, 4748, 4749, 4752, 4753, 4756, 4757, 4763, 4769, 4770, 4774, 4775, 4776, 4777, 4778, 4779, 4780, 4781, 4783, 4784, 4787, 4789, 4791, 4792, 4794, 4795, 4796, 4797, 4798, 4799, 4800, 4801, 4802, 4804, 4807, 4811, 4813, 4814, 4815, 4818, 4821, 4822, 4823, 4824, 4826, 4829, 4830, 4832, 4833, 4837, 4838, 4839, 4841, 4843, 4846, 4848, 4849, 4851, 4853, 4855, 4859, 4860, 4861, 4865, 4867, 4868, 4869, 4871, 4872, 4873, 4874, 4877, 4878, 4882, 4884, 4887, 4889, 4893, 4901, 4903, 4904, 4905, 4908, 4909, 4914, 4915, 4916, 4918, 4919, 4921, 4922, 4924, 4927, 4929, 4931, 4932, 4933, 4934, 4936, 4937, 4938, 4939, 4941, 4942, 4943, 4944, 4946, 4947, 4948, 4949, 4950, 4951, 4955, 4957, 4961, 4963, 4965, 4966, 4969, 4970, 4971, 4972, 4973, 4974, 4975, 4976, 4977, 4979, 4980, 4981, 4983, 4984, 4986, 4988, 4990, 4991, 4992, 4995, 4997, 4998, 4999, 5000, 5003, 5005, 5008, 5010, 5011, 5012, 5013, 5014, 5016, 5017, 5018, 5019, 5025, 5026, 5029, 5030, 5032, 5034, 5035, 5036, 5037, 5042, 5043, 5044, 5046, 5047, 5048, 5049, 5052, 5053, 5055, 5059, 5061, 5064, 5066, 5068, 5069, 5071, 5072, 5076, 5077, 5078, 5079, 5082, 5085, 5086, 5089, 5091, 5095, 5096, 5099, 5100, 5101, 5105, 5106, 5112, 5113, 5114, 5115, 5116, 5119, 5120, 5121, 5123, 5124, 5129, 5130, 5132, 5133, 5134, 5135, 5137, 5138, 5139, 5141, 5143, 5144, 5145, 5146, 5147, 5148, 5150, 5152, 5153, 5154, 5155, 5158, 5161, 5163, 5166, 5167, 5170, 5171, 5172, 5173, 5174, 5176, 5179, 5180, 5181, 5182, 5183, 5184, 5185, 5187, 5192, 5193, 5194, 5196, 5199, 5200, 5201, 5202, 5203, 5205, 5209, 5211, 5213, 5215, 5217, 5218, 5220, 5222, 5223, 5224, 5226, 5227, 5229, 5230, 5231, 5232, 5233, 5234, 5235, 5236, 5237, 5238, 5239, 5241, 5242, 5243, 5246, 5247, 5250, 5252, 5259, 5261, 5262, 5264, 5266, 5268, 5269, 5271, 5273, 5281, 5282, 5284, 5286, 5287, 5289, 5291, 5293, 5295, 5298, 5299, 5301, 5302, 5306, 5307, 5308, 5309, 5310, 5311, 5312, 5313, 5315, 5316, 5317, 5318, 5319, 5320, 5322, 5324, 5325, 5326, 5329, 5332, 5334, 5335, 5338, 5339, 5340, 5341, 5343, 5344, 5345, 5346, 5347, 5348, 5351, 5352, 5353, 5355, 5356, 5357, 5358, 5363, 5365, 5369, 5371, 5373, 5375, 5382, 5384, 5385, 5387, 5390, 5391, 5392, 5394, 5395, 5396, 5397, 5402, 5404, 5405, 5406, 5408, 5410, 5412, 5414, 5415, 5416, 5417, 5418, 5421, 5423, 5424, 5426, 5428, 5429, 5432, 5434, 5437, 5440, 5441, 5442, 5443, 5445, 5446, 5447, 5448, 5450, 5451, 5452, 5453, 5454, 5455, 5456, 5458, 5459, 5462, 5463, 5465, 5466, 5471, 5473, 5474, 5475, 5476, 5479, 5480, 5483, 5485, 5486, 5487, 5489, 5491, 5492, 5493, 5494, 5495, 5497, 5499, 5501, 5502, 5503, 5506, 5508, 5509, 5511, 5512, 5513, 5514, 5517, 5518, 5519, 5520, 5521, 5522, 5523, 5524, 5526, 5529, 5530, 5531, 5532, 5533, 5534, 5535, 5537, 5538, 5541, 5542, 5543, 5544, 5545, 5546, 5548, 5550, 5552, 5554, 5557, 5558, 5562, 5563, 5564, 5566, 5568, 5570, 5571, 5572, 5574, 5576, 5578, 5583, 5584, 5586, 5587, 5588, 5592, 5596, 5597, 5599, 5601, 5602, 5603, 5604, 5605, 5606, 5609, 5611, 5612, 5613, 5614, 5615, 5617, 5619, 5621, 5622, 5623, 5625, 5626, 5627, 5628, 5629, 5630, 5632, 5634, 5637, 5638, 5642, 5643, 5644, 5645, 5646, 5651, 5653, 5655, 5656, 5657, 5658, 5659, 5660, 5661, 5662, 5663, 5664, 5666, 5667, 5668, 5669, 5670, 5671, 5672, 5674, 5676, 5677, 5678, 5679, 5684, 5685, 5686, 5688, 5690, 5691, 5692, 5693, 5694, 5696, 5697, 5699, 5700, 5702, 5703, 5705, 5708, 5709, 5714, 5715, 5716, 5717, 5718, 5719, 5720, 5721, 5722, 5723, 5724, 5725, 5727, 5730, 5731, 5733, 5734, 5735, 5736, 5738, 5740, 5742, 5743, 5744, 5745, 5746, 5747, 5748, 5749, 5752, 5753, 5756, 5757, 5759, 5761, 5762, 5763, 5764, 5765, 5766, 5767, 5768, 5769, 5770, 5771, 5772, 5774, 5776, 5777, 5780, 5781, 5782, 5784, 5785, 5787, 5788, 5789, 5790, 5791, 5796, 5797, 5799, 5800, 5802, 5803, 5804, 5805, 5806, 5807, 5809, 5810, 5811, 5812, 5813, 5814, 5815, 5816, 5817, 5818, 5819, 5821, 5823, 5824, 5825, 5826, 5827, 5828, 5829, 5833, 5834, 5835, 5836, 5837, 5838, 5839, 5840, 5841, 5842, 5843, 5844, 5845, 5846, 5847, 5848, 5849, 5850, 5851, 5852, 5854, 5855, 5856, 5858, 5859, 5860, 5861, 5862, 5863, 5864, 5865, 5866, 5867, 5868, 5870, 5871, 5872, 5873, 5874, 5875, 5877, 5878, 5879, 5880, 5881, 5882, 5883, 5884, 5886, 5887, 5888, 5889, 5890, 5891, 5893, 5894, 5895, 5896, 5897, 5898, 5899, 5900, 5901, 5902, 5903, 5904, 5905, 5906, 5909, 5910, 5911, 5913, 5914, 5915, 5917, 5919, 5920, 5924, 5925, 5926, 5927, 5928, 5930, 5931, 5933, 5934, 5937, 5939, 5940, 5942, 5943, 5944, 5945, 5946, 5948, 5949, 5950, 5951, 5953, 5956, 5957, 5958, 5959, 5960, 5961, 5962, 5963, 5964, 5965, 5966, 5967, 5968, 5969, 5972, 5973, 5974, 5977, 5978, 5979, 5980, 5981, 5982, 5984, 5985, 5986, 5987, 5988, 5989, 5990, 5992, 5993, 5994, 5995, 5996, 5998, 5999, 6003, 6004, 6006, 6010, 6011, 6013, 6015, 6017, 6018, 6020, 6021, 6022, 6023, 6025, 6028, 6030, 6032, 6033, 6034, 6035, 6036, 6037, 6038, 6039, 6040, 6041, 6042, 6043, 6044, 6045, 6047, 6048, 6049, 6050, 6052, 6053, 6054, 6055, 6057, 6058, 6059, 6060, 6061, 6062, 6063, 6064, 6066, 6067, 6069, 6071, 6072, 6074, 6075, 6076, 6077, 6078, 6079, 6080, 6081, 6083, 6084, 6085, 6086, 6087, 6089, 6091, 6093, 6094, 6095, 6097, 6098, 6099, 6102, 6104, 6105, 6106, 6107, 6108, 6110, 6111, 6112, 6113, 6114, 6115, 6116, 6118, 6119, 6120, 6121, 6122, 6123, 6125, 6126, 6127, 6130, 6132, 6133, 6134, 6135, 6136, 6137, 6138, 6139, 6140, 6141, 6142, 6143, 6144, 6145, 6146, 6147, 6148, 6151, 6153, 6157, 6158, 6160, 6161, 6162, 6163, 6164, 6165, 6166, 6167, 6168, 6169, 6170, 6172, 6173, 6174, 6175, 6176, 6177, 6178, 6179, 6181, 6182, 6183, 6184, 6186, 6187, 6189, 6190, 6191, 6192, 6193, 6194, 6195, 6201, 6202, 6203, 6204, 6205, 6206, 6207, 6208, 6210, 6212, 6213, 6214, 6215, 6216, 6217, 6218, 6219, 6220, 6221, 6222, 6223, 6224, 6225, 6226, 6227, 6229, 6230, 6231, 6232, 6233, 6234, 6235, 6236, 6237, 6238, 6239, 6241, 6242, 6243, 6244, 6245, 6246, 6247, 6248, 6250, 6251, 6252, 6253, 6254, 6255, 6256, 6258, 6259, 6260, 6262, 6263, 6264, 6265, 6266, 6267, 6268, 6269, 6271, 6272, 6273, 6274, 6275, 6276, 6277, 6278, 6279, 6281, 6282, 6283, 6284, 6286, 6287, 6288, 6289, 6290, 6292, 6293, 6294, 6295, 6296, 6297, 6298, 6299, 6300, 6301, 6302, 6303, 6304, 6306, 6308, 6309, 6310, 6311, 6312, 6313, 6314, 6315, 6317, 6318, 6319, 6320, 6322, 6323, 6324, 6325, 6327, 6328, 6329, 6332, 6333, 6334, 6335, 6336, 6337, 6338, 6339, 6340, 6341, 6342, 6343, 6345, 6347, 6348, 6349, 6350, 6354, 6355, 6356, 6357, 6358, 6359, 6360, 6361, 6362, 6363, 6365, 6366, 6369, 6370, 6371, 6373, 6374, 6375, 6376, 6377, 6379, 6380, 6381, 6382, 6383, 6384, 6385, 6386, 6387, 6388, 6389, 6390, 6391, 6392, 6393, 6394, 6395, 6396, 6397, 6398, 6399, 6400, 6401, 6402, 6403, 6405, 6406, 6407, 6408, 6409, 6412, 6413, 6414, 6415, 6417, 6418, 6419, 6421, 6423, 6424, 6425, 6426, 6428, 6429, 6430, 6431, 6432, 6433, 6434, 6435, 6436, 6438, 6439, 6441, 6442, 6443, 6444, 6446, 6447, 6450, 6451, 6452, 6453, 6454, 6455, 6456, 6457, 6459, 6461, 6462, 6464, 6465, 6467, 6468, 6469, 6470, 6471, 6472, 6473, 6474, 6476, 6477, 6478, 6479, 6480, 6481, 6482, 6483, 6484, 6485, 6486, 6488, 6489, 6490, 6491, 6492, 6493, 6494, 6495, 6496, 6497, 6498, 6499, 6500, 6502, 6503, 6504, 6505, 6506, 6507, 6508, 6509, 6510, 6511, 6512, 6513, 6514, 6515, 6516, 6518, 6520, 6521, 6524, 6526, 6528, 6529, 6530, 6532, 6533, 6534, 6535, 6536, 6537, 6538, 6539, 6540, 6541, 6542, 6543, 6544, 6545, 6546, 6547, 6548, 6549, 6550, 6551, 6552, 6554, 6555, 6556, 6557, 6558, 6559, 6560, 6561, 6563, 6564, 6566, 6567, 6568, 6569, 6570, 6571, 6572, 6573, 6574, 6575, 6576, 6577, 6578, 6579, 6580, 6581, 6583, 6586, 6587, 6588, 6589, 6590, 6592, 6593, 6594, 6596, 6597, 6598, 6599, 6600, 6601, 6602, 6603, 6604, 6605, 6606, 6607, 6608, 6610, 6612, 6613, 6614, 6616, 6617, 6618, 6620, 6621, 6622, 6623, 6624, 6625, 6626, 6629, 6630, 6631, 6632, 6633, 6634, 6636, 6637, 6639, 6640, 6641, 6642, 6643, 6644, 6645, 6646, 6647, 6648, 6649, 6651, 6652, 6654, 6655, 6656, 6657, 6658, 6659, 6660, 6661, 6662, 6663, 6664, 6665, 6666, 6667, 6668, 6669, 6670, 6671, 6672, 6673, 6674, 6675, 6677, 6678, 6679, 6680, 6681, 6682, 6683, 6684, 6685, 6686, 6687, 6688, 6689, 6690, 6691, 6694, 6696, 6697, 6698, 6700, 6701, 6702, 6703, 6704, 6705, 6706, 6707, 6708, 6709, 6710, 6711, 6712, 6713, 6714, 6715, 6716, 6717, 6719, 6720, 6722, 6723, 6724, 6725, 6726, 6728, 6729, 6730, 6732, 6733, 6734, 6735, 6737, 6738, 6739, 6740, 6741, 6742, 6743, 6744, 6745, 6746, 6747, 6748, 6750, 6751, 6752, 6753, 6754, 6755, 6756, 6757, 6758, 6759, 6760, 6761, 6762, 6763, 6765, 6768, 6769, 6770, 6771, 6772, 6773, 6775, 6777, 6778, 6779, 6781, 6782, 6783, 6784, 6786, 6787, 6788, 6789, 6790, 6791, 6792, 6793, 6794, 6795, 6796, 6797, 6798, 6799, 6800, 6801, 6802, 6803, 6805, 6806, 6807, 6809, 6811, 6812, 6813, 6814, 6815, 6817, 6818, 6819, 6820, 6821, 6822, 6823, 6824, 6825, 6826, 6827, 6828, 6829, 6830, 6831, 6833, 6834, 6835, 6836, 6837, 6838, 6839, 6840, 6842, 6843, 6847, 6848, 6849, 6850, 6851, 6852, 6853, 6854, 6855, 6856, 6858, 6859, 6860, 6861, 6862, 6864, 6865, 6866, 6867, 6868, 6869, 6870, 6873, 6874, 6875, 6876, 6877, 6878, 6879, 6880, 6881, 6882, 6883, 6885, 6887, 6888, 6889, 6890, 6891, 6892, 6895, 6896, 6897, 6898, 6899, 6900, 6901, 6902, 6903, 6904, 6906, 6907, 6909, 6910, 6911, 6912, 6913, 6914, 6916, 6917, 6919, 6921, 6922, 6923, 6924, 6925, 6926, 6927, 6928, 6929, 6930, 6932, 6934, 6935, 6936, 6937, 6938, 6939, 6940, 6941, 6942, 6943, 6944, 6946, 6947, 6948, 6949, 6950, 6951, 6953, 6954, 6955, 6957, 6958, 6959, 6960, 6961, 6962, 6963, 6964, 6965, 6966, 6968, 6970, 6971, 6972, 6977, 6978, 6980, 6981, 6982, 6983, 6984, 6985, 6986, 6987, 6988, 6989, 6991, 6993, 6994, 6995, 6997, 6998, 6999, 7000, 7001, 7002, 7003, 7004, 7005, 7006, 7007, 7008, 7009, 7011, 7013, 7014, 7017, 7019, 7020, 7021, 7023, 7024, 7025, 7027, 7028, 7029, 7031, 7033, 7034, 7035, 7036, 7037, 7038, 7039, 7040, 7041, 7042, 7043, 7044, 7045, 7047, 7048, 7049, 7050, 7052, 7053, 7054, 7055, 7057, 7058, 7059, 7060, 7061, 7062, 7063, 7064, 7066, 7067, 7068, 7069, 7070, 7071, 7072, 7073, 7074, 7075, 7076, 7077, 7078, 7079, 7082, 7083, 7084, 7085, 7086, 7087, 7089, 7090, 7091, 7092, 7093, 7094, 7095, 7096, 7097, 7098, 7099, 7100, 7101, 7102, 7103, 7104, 7105, 7106, 7107, 7108, 7109, 7110, 7111, 7113, 7114, 7116, 7117, 7118, 7119, 7121, 7122, 7124, 7125, 7126, 7127, 7128, 7129, 7130, 7131, 7132, 7134, 7135, 7136, 7137, 7138, 7139, 7140, 7141, 7142, 7143, 7144, 7145, 7147, 7149, 7150, 7151, 7152, 7153, 7155, 7156, 7157, 7158, 7160, 7164, 7166, 7167, 7168, 7169, 7170, 7172, 7173, 7174, 7175, 7176, 7177, 7178, 7179, 7181, 7182, 7184, 7185, 7186, 7187, 7188, 7190, 7192, 7193, 7194, 7197, 7198, 7199, 7200, 7201, 7202, 7205, 7206, 7209, 7210, 7217, 7221, 7223, 7224, 7225, 7226, 7227, 7228, 7229, 7230, 7232, 7233, 7235, 7236, 7238, 7239, 7242, 7243, 7244, 7245, 7246, 7247, 7248, 7251, 7254, 7256, 7257, 7259, 7263, 7267, 7272, 7274, 7275, 7277, 7278, 7279, 7280, 7282, 7283, 7286, 7288, 7289, 7291, 7292, 7294, 7296, 7297, 7298, 7299, 7300, 7301, 7302, 7303, 7305, 7306, 7307, 7308, 7310, 7312, 7313, 7316, 7317, 7318, 7319, 7321, 7322, 7323, 7325, 7326, 7327, 7328, 7329, 7331, 7332, 7333, 7334, 7335, 7336, 7337, 7338, 7339, 7345, 7346, 7347, 7349, 7350, 7353, 7357, 7360, 7361, 7362, 7364, 7366, 7368, 7369, 7370, 7371, 7372, 7373, 7375, 7378, 7379, 7382, 7384, 7389, 7390, 7391, 7392, 7393, 7395, 7397, 7398, 7399, 7401, 7403, 7405, 7407, 7410, 7411, 7412, 7414, 7415, 7416, 7417, 7418, 7420, 7421, 7422, 7424, 7428, 7430, 7431, 7432, 7433, 7437, 7438, 7439, 7442, 7444, 7445, 7446, 7447, 7449, 7450, 7451, 7453, 7455, 7457, 7459, 7460, 7462, 7463, 7465, 7467, 7470, 7471, 7472, 7474, 7477, 7478, 7481, 7482, 7483, 7484, 7486, 7488, 7489, 7491, 7494, 7495, 7497, 7500, 7502, 7506, 7510, 7512, 7516, 7518, 7521, 7523, 7524, 7525, 7527, 7529, 7531, 7534, 7540, 7541, 7542, 7553, 7555, 7557, 7558, 7564, 7565, 7566, 7567, 7568, 7569, 7571, 7572, 7573, 7575, 7577, 7580, 7582, 7584, 7586, 7587, 7589, 7590, 7591, 7592, 7593, 7594, 7595, 7596, 7597, 7599, 7607, 7608, 7609, 7610, 7612, 7614, 7615, 7617, 7618, 7621, 7626, 7628, 7629, 7630, 7631, 7634, 7635, 7638, 7639, 7641, 7642, 7644, 7646, 7647, 7650, 7651, 7653, 7658, 7659, 7661, 7662, 7663, 7667, 7669, 7673, 7674, 7675, 7678, 7679, 7682, 7688, 7690, 7693, 7697, 7699, 7701, 7704, 7706, 7712, 7716, 7719, 7723, 7725, 7732, 7733, 7735, 7736, 7740, 7741, 7743, 7744, 7746, 7747, 7751, 7752, 7755, 7756, 7757, 7760, 7762, 7763, 7764, 7768, 7773, 7774, 7775, 7776, 7777, 7778, 7781, 7782, 7784, 7789, 7791, 7792, 7795, 7796, 7797, 7798, 7803, 7805, 7810, 7813, 7814, 7815, 7816, 7821, 7822, 7829, 7834, 7838, 7841, 7843, 7844, 7850, 7855, 7857, 7858, 7859, 7860, 7863, 7865, 7866, 7867, 7869, 7875, 7877, 7878, 7879, 7880, 7881, 7883, 7886, 7888, 7889, 7890, 7891, 7892, 7896, 7897, 7898, 7899, 7903, 7904, 7905, 7908, 7910, 7913, 7916, 7925, 7926, 7933, 7938, 7939, 7947, 7949, 7950, 7951, 7955, 7960, 7961, 7962, 7964, 7966, 7969, 7971, 7973, 7977, 7980, 7987, 7988, 7990, 7991, 7994, 7996, 7997, 7998, 7999, 8000, 8005, 8006, 8008, 8013, 8027, 8028, 8034, 8037, 8039, 8043, 8048, 8049, 8051, 8060, 8067, 8072, 8078, 8083, 8085, 8087, 8089, 8091, 8092, 8094, 8096, 8101, 8104, 8106, 8107, 8109, 8111, 8121, 8122, 8134, 8146, 8149, 8150, 8153, 8162, 8169, 8180, 8181, 8189, 8192, 8200, 8202, 8203, 8205, 8209, 8215, 8230, 8242, 8254, 8255, 8265, 8271, 8272, 8273, 8275, 8277, 8286, 8289, 8300, 8313, 8323, 8324, 8329, 8337, 8339, 8340, 8342, 8357, 8361, 8365, 8367, 8368, 8372, 8377, 8379, 8380, 8382, 8393, 8395, 8396, 8403, 8405, 8415, 8417, 8418, 8421, 8436, 8438, 8439, 8441, 8442, 8448, 8454, 8455, 8457, 8465, 8468, 8469, 8470, 8478, 8480, 8492, 8494, 8495, 8497, 8500, 8516, 8517, 8521, 8525, 8526, 8528, 8529, 8537, 8546, 8555, 8563, 8565, 8566, 8570, 8573, 8581, 8583, 8584, 8590, 8591, 8593, 8594, 8599, 8647, 8648, 8656, 8657, 8663, 8669, 8670, 8672, 8674, 8677, 8678, 8679, 8688, 8689, 8695, 8696, 8699, 8701, 8704, 8705, 8708, 8709, 8710, 8714, 8720, 8725, 8740, 8745, 8749, 8752, 8759, 8763, 8776, 8780, 8804, 8811, 8812, 8827, 8831, 8837, 8839, 8840, 8844, 8848, 8885, 8886, 8887, 8888, 8892, 8895, 8902, 8908, 8914, 8926, 8931, 8942, 8944, 8956, 8957, 8958, 8960, 8966, 8970, 8980, 8982, 8983, 8985, 8987, 8988, 8994, 8997, 8999, 9000, 9002, 9004, 9005, 9029, 9036, 9037, 9046, 9084, 9086, 9089, 9091, 9092, 9093, 9094, 9095, 9096, 9098, 9105, 9106, 9108, 9109, 9120, 9123, 9126, 9142, 9153, 9155, 9180, 9191, 9193, 9194, 9196, 9202, 9213, 9216, 9221, 9224, 9228, 9239, 9240, 9242, 9252, 9253, 9256, 9258, 9271, 9272, 9273, 9274, 9276, 9278, 9290, 9298, 9299, 9300, 9301, 9303, 9304, 9308, 9310, 9311, 9322, 9324, 9329, 9331, 9341, 9346, 9347, 9354, 9359, 9362, 9374, 9376, 9378, 9379, 9382, 9384, 9385, 9387, 9389, 9391, 9393, 9396, 9400, 9405, 9420, 9422, 9425, 9433, 9434, 9439, 9444, 9449, 9450, 9456, 9463, 9467, 9470, 9474, 9476, 9483, 9486, 9487, 9488, 9489, 9490, 9497, 9499, 9511, 9513, 9515, 9516, 9519, 9522, 9527, 9535, 9537, 9538, 9560, 9561, 9566, 9581, 9586, 9614, 9615, 9630, 9642, 9648, 9650, 9652, 9669, 9710, 9732, 9739, 9743, 9744, 9750, 9756, 9757, 9761, 9768, 9771, 9775, 9799, 9827, 9839, 9848, 9851, 9860, 9866, 9867, 9872, 9879, 9892, 9923, 9924, 9925, 9931, 9937, 9948, 9952, 9968, 9978, 9982, 9987, 9990, 9994, 10000, 10002, 10015, 10032, 10036, 10053, 10054, 10063, 10072, 10075, 10078, 10081, 10099, 10102, 10113, 10116, 10118, 10119, 10120, 10133, 10135, 10136, 10138, 10144, 10148, 10150, 10166, 10183, 10184, 10205, 10222, 10228, 10240, 10249, 10256, 10283, 10285, 10297, 10304, 10316, 10370, 10371, 10389, 10390, 10395, 10397, 10399, 10401, 10426, 10432, 10458, 10479, 10493, 10495, 10499, 10505, 10515, 10566, 10572, 10576, 10600, 10686, 10716, 10717, 10738, 10752, 10755, 10791, 10841, 10874, 10877, 10891, 10901, 10913, 10917, 10923, 10926, 10936, 10940, 10966, 10992, 10993, 10995, 11000, 11026, 11030, 11066, 11076, 11085, 11110, 11116, 11122, 11136, 11137, 11138, 11142, 11172, 11175, 11192, 11215, 11225, 11236, 11250, 11264, 11274, 11292, 11295, 11298, 11300, 11309, 11326, 11332, 11337, 11356, 11362, 11363, 11368, 11369, 11372, 11377, 11395, 11396, 11417, 11425, 11465, 11473, 11480, 11492, 11504, 11508, 11510, 11511, 11513, 11514, 11534, 11591, 11592, 11599, 11628, 11642, 11644, 11646, 11648, 11669, 11672, 11687, 11723, 11725, 11726, 11732, 11747, 11757, 11763, 11764, 11768, 11775, 11800, 11804, 11825, 11833, 11836, 11844, 11852, 11853, 11857, 11858, 11892, 11902, 11903, 11905, 11906, 11908, 11910, 11914, 11918, 11920, 11934, 11948, 11963, 11988, 11996, 12021, 12027, 12040, 12045, 12047, 12053, 12054, 12070, 12082, 12085, 12107, 12118, 12120, 12121, 12128, 12138, 12146, 12169, 12181, 12205, 12207, 12238, 12249, 12278, 12280, 12283, 12290, 12302, 12305, 12377, 12382, 12384, 12408, 12413, 12418, 12428, 12448, 12449, 12451, 12457, 12560, 12561, 12562, 12567, 12573, 12592, 12594, 12611, 12627, 12632, 12641, 12647, 12659, 12682, 12686, 12711, 12722, 12828, 12832, 12836, 12859, 12884, 12888, 12890, 12924, 12942, 12944, 12945, 12966, 12972, 12980, 12981, 12985, 13005, 13011, 13018, 13072, 13089, 13114, 13116, 13137, 13142, 13149, 13161, 13172, 13180, 13189, 13200, 13211, 13212, 13218, 13239, 13247, 13255, 13282, 13298, 13312, 13318, 13325, 13328, 13340, 13349, 13354, 13364, 13372, 13374, 13380, 13387, 13389, 13391, 13393, 13398, 13426, 13436, 13447, 13450, 13452, 13453, 13464, 13468, 13469, 13470, 13471, 13505, 13508, 13535, 13539, 13540, 13545, 13550, 13551, 13566, 13572, 13583, 13586, 13589, 13591, 13598, 13600, 13601, 13602, 13605, 13606, 13608, 13622, 13626, 13627, 13628, 13631, 13635, 13643, 13644, 13659, 13664, 13697, 13733, 13739, 13740, 13747, 13762, 13775, 13802, 13804, 13824, 13837, 13851, 13891, 13920, 13939, 13970, 13982, 13994, 14020, 14022, 14048, 14070, 14097, 14098, 14101, 14108, 14112, 14120, 14127, 14136, 14163, 14164, 14176, 14180, 14248, 14280, 14298, 14347, 14351, 14360, 14363, 14385, 14388, 14410, 14426, 14427, 14434, 14440, 14444, 14445, 14478, 14489, 14516, 14550, 14588, 14633, 14639, 14647, 14665, 14682, 14683, 14708, 14734, 14745, 14833, 14859, 14873, 14877, 14881, 14888, 14897, 14915, 14921, 14928, 14977, 15002, 15014, 15033, 15037, 15042, 15083, 15098, 15102, 15117, 15121, 15133, 15153, 15158, 15168, 15196, 15229, 15255, 15257, 15265, 15267, 15271, 15273, 15293, 15294, 15327, 15351, 15357, 15360, 15361, 15406, 15407, 15409, 15429, 15461, 15464, 15470, 15513, 15522, 15528, 15573, 15610, 15668, 15670, 15671, 15687, 15688, 15695, 15703, 15708, 15713, 15815, 15825, 15827, 15864, 15872, 15889, 15893, 15898, 15906, 15918, 15930, 15980, 16007, 16020, 16070, 16087, 16092, 16102, 16148, 16184, 16187, 16197, 16199, 16236, 16258, 16285, 16293, 16294, 16326, 16371, 16376, 16384, 16460, 16467, 16541, 16562, 16563, 16567, 16588, 16591, 16602, 16630, 16640, 16645, 16666, 16676, 16692, 16707, 16723, 16752, 16769, 16800, 16834, 16858, 16869, 16890, 16928, 16929, 16932, 16938, 16966, 16979, 16991, 17083, 17151, 17158, 17184, 17230, 17246, 17248, 17259, 17266, 17314, 17321, 17399, 17403, 17408, 17423, 17439, 17452, 17459, 17547, 17549, 17572, 17579, 17592, 17597, 17603, 17633, 17662, 17688, 17699, 17724, 17735, 17752, 17777, 17815, 17831, 17837, 17852, 17857, 17866, 17868, 17895, 17897, 17920, 17939, 17990, 18011, 18026, 18028, 18050, 18057, 18058, 18081, 18083, 18084, 18085, 18086, 18087, 18097, 18105, 18108, 18110, 18111, 18113, 18114, 18123, 18128, 18142, 18149, 18153, 18159, 18161, 18162, 18178, 18184, 18198, 18201, 18215, 18221, 18230, 18251, 18253, 18254, 18262, 18265, 18266, 18279, 18290, 18292, 18299, 18303, 18304, 18329, 18332, 18374, 18379, 18402, 18404, 18442, 18465, 18472, 18477, 18478, 18486, 18491, 18492, 18499, 18501, 18514, 18516, 18528, 18542, 18547, 18552, 18556, 18557, 18566, 18586, 18587, 18592, 18613, 18616, 18642, 18655, 18656, 18657, 18666, 18668, 18707, 18721, 18742, 18744, 18780, 18788, 18790, 18800, 18807, 18814, 18828, 18830, 18834, 18835, 18867, 18877, 18881, 18885, 18886, 18897, 18903, 18905, 18914, 18922, 18933, 18936, 18939, 18945, 18953, 18965, 18978, 18992, 18998, 19005, 19016, 19036, 19038, 19065, 19072, 19075, 19077, 19083, 19084, 19088, 19092, 19111, 19114, 19116, 19123, 19150, 19210, 19223, 19252, 19256, 19260, 19280, 19283, 19290, 19303, 19311, 19316, 19320, 19332, 19338, 19339, 19341, 19349, 19351, 19355, 19386, 19419, 19446, 19477, 19478, 19487, 19495, 19503, 19508, 19512, 19521, 19539, 19547, 19554, 19587, 19615, 19662, 19670, 19676, 19680, 19706, 19753, 19794, 19809, 19820, 19881, 19917, 19925, 19930, 19932, 19968, 19982, 19986, 19999, 20018, 20022, 20024, 20053, 20082, 20098, 20100, 20113, 20119, 20127, 20191, 20193, 20200, 20220, 20221, 20224, 20226, 20227, 20232, 20233, 20235, 20249, 20271, 20287, 20303, 20304, 20311, 20316, 20320, 20327, 20345, 20357, 20361, 20367, 20378, 20403, 20417, 20432, 20445, 20484, 20486, 20564, 20572, 20575, 20583, 20615, 20633, 20641, 20643, 20647, 20652, 20658, 20674, 20684, 20686, 20690, 20697, 20707, 20726, 20776, 20833, 20845, 20848, 20877, 20882, 20890, 20903, 20913, 20925, 20960, 20962, 20978, 20983, 20984, 20987, 20992, 20995, 21025, 21026, 21036, 21063, 21086, 21107, 21137, 21169, 21181, 21200, 21206, 21214, 21228, 21230, 21236, 21269, 21276, 21277, 21339, 21384, 21385, 21408, 21419, 21421, 21423, 21424, 21437, 21464, 21521, 21523, 21524, 21526, 21556, 21566, 21572, 21583, 21591, 21605, 21618, 21687, 21689, 21709, 21716, 21724, 21754, 21764, 21793, 21957, 21968, 21978, 22000, 22011, 22096, 22143, 22150, 22206, 22208, 22275, 22284, 22298, 22308, 22327, 22330, 22354, 22399, 22421, 22461, 22475, 22480, 22487, 22491, 22497, 22504, 22511, 22512, 22528, 22556, 22561, 22571, 22596, 22604, 22620, 22650, 22652, 22659, 22660, 22686, 22702, 22717, 22727, 22742, 22829, 22838, 22852, 22886, 22948, 22972, 22991, 23043, 23044, 23052, 23076, 23107, 23132, 23153, 23196, 23237, 23292, 23299, 23384, 23404, 23410, 23416, 23435, 23444, 23449, 23460, 23476, 23488, 23508, 23582, 23652, 23670, 23696, 23735, 23741, 23764, 23775, 23780, 23787, 23788, 23798, 23833, 23836, 23846, 23936, 23950, 23963, 24000, 24007, 24019, 24065, 24092, 24120, 24131, 24161, 24189, 24201, 24224, 24227, 24236, 24241, 24267, 24278, 24298, 24300, 24310, 24363, 24378, 24464, 24481, 24489, 24514, 24518, 24522, 24532, 24535, 24558, 24568, 24570, 24576, 24601, 24605, 24606, 24652, 24661, 24735, 24771, 24772, 24785, 24809, 24812, 24819, 24859, 24915, 24929, 24948, 24952, 24961, 24969, 24987, 24998, 25000, 25003, 25012, 25034, 25053, 25063, 25067, 25076, 25081, 25083, 25099, 25103, 25114, 25117, 25121, 25143, 25169, 25186, 25195, 25218, 25240, 25257, 25275, 25277, 25308, 25326, 25331, 25345, 25372, 25386, 25410, 25435, 25439, 25445, 25452, 25456, 25459, 25462, 25465, 25466, 25467, 25477, 25479, 25515, 25517, 25518, 25533, 25549, 25560, 25570, 25583, 25585, 25586, 25588, 25595, 25611, 25612, 25634, 25637, 25647, 25650, 25658, 25671, 25677, 25697, 25725, 25747, 25753, 25754, 25772, 25773, 25774, 25810, 25812, 25814, 25819, 25847, 25850, 25858, 25859, 25862, 25866, 25884, 25911, 25921, 25924, 25954, 25970, 25984, 25991, 25994, 25998, 26005, 26033, 26035, 26039, 26044, 26061, 26090, 26098, 26101, 26103, 26112, 26128, 26133, 26138, 26160, 26167, 26175, 26182, 26195, 26217, 26221, 26223, 26232, 26253, 26268, 26271, 26290, 26300, 26308, 26314, 26341, 26342, 26355, 26356, 26363, 26364, 26375, 26382, 26423, 26438, 26461, 26462, 26478, 26508, 26529, 26533, 26542, 26554, 26569, 26581, 26587, 26588, 26602, 26628, 26633, 26634, 26638, 26680, 26699, 26719, 26726, 26737, 26747, 26748, 26769, 26778, 26787, 26806, 26819, 26820, 26828, 26838, 26876, 26884, 26890, 26899, 26900, 26908, 26924, 26934, 26946, 26952, 26989, 26990, 26992, 26993, 26994, 27017, 27020, 27026, 27028, 27034, 27043, 27060, 27063, 27093, 27099, 27109, 27133, 27148, 27151, 27162, 27212, 27227, 27238, 27249, 27253, 27286, 27344, 27354, 27365, 27367, 27382, 27394, 27402, 27423, 27426, 27429, 27480, 27481, 27488, 27510, 27515, 27519, 27526, 27543, 27556, 27572, 27615, 27616, 27625, 27628, 27631, 27652, 27665, 27667, 27671, 27698, 27707, 27712, 27725, 27741, 27743, 27755, 27763, 27772, 27788, 27792, 27796, 27831, 27846, 27847, 27850, 27853, 27871, 27872, 27899, 27912, 27936, 27950, 27951, 27975, 28010, 28012, 28020, 28025, 28049, 28051, 28066, 28070, 28085, 28086, 28102, 28107, 28108, 28129, 28142, 28147, 28151, 28184, 28189, 28195, 28208, 28211, 28219, 28240, 28245, 28254, 28258, 28266, 28275, 28291, 28292, 28303, 28317, 28321, 28343, 28344, 28353, 28354, 28358, 28360, 28368, 28379, 28393, 28399, 28409, 28415, 28421, 28426, 28439, 28442, 28443, 28446, 28447, 28460, 28472, 28509, 28513, 28515, 28516, 28531, 28538, 28540, 28543, 28567, 28571, 28578, 28581, 28589, 28594, 28617, 28638, 28651, 28656, 28659, 28676, 28685, 28692, 28697, 28704, 28728, 28729, 28730, 28733, 28744, 28756, 28763, 28765, 28803, 28814, 28821, 28829, 28830, 28836, 28847, 28859, 28874, 28876, 28877, 28879, 28893, 28895, 28900, 28905, 28911, 28919, 28943, 28978, 28980, 28982, 28988, 29008, 29053, 29067, 29085, 29088, 29097, 29100, 29113, 29125, 29133, 29139, 29152, 29153, 29172, 29186, 29193, 29195, 29196, 29197, 29199, 29200, 29211, 29213, 29217, 29255, 29256, 29257, 29263, 29270, 29279, 29287, 29301, 29334, 29336, 29350, 29362, 29363, 29370, 29374, 29375, 29376, 29386, 29393, 29394, 29396, 29398, 29409, 29415, 29417, 29420, 29430, 29439, 29454, 29461, 29462, 29477, 29478, 29479, 29494, 29519, 29536, 29539, 29543, 29546, 29548, 29553, 29557, 29571, 29572, 29593, 29594, 29598, 29602, 29608, 29612, 29625, 29626, 29629, 29633, 29634, 29636, 29638, 29640, 29647, 29660, 29662, 29663, 29665, 29669, 29688, 29711, 29712, 29717, 29724, 29725, 29737, 29740, 29763, 29780, 29797, 29798, 29817, 29823, 29824, 29826, 29831, 29845, 29846, 29858, 29861, 29864, 29874, 29875, 29881, 29893, 29902, 29903, 29909, 29919, 29924, 29930, 29934, 29935, 29936, 29938, 29940, 29942, 29956, 29957, 29962, 29967, 29981, 29987, 29993, 30000, 30001, 30005, 30013, 30016, 30024, 30037, 30039, 30040, 30043, 30050, 30058, 30067, 30079, 30081, 30083, 30087, 30089, 30094, 30099, 30103, 30111, 30118, 30121, 30125, 30131, 30133, 30160, 30172, 30176, 30177, 30178, 30179, 30182, 30185, 30187, 30201, 30205, 30228, 30230, 30231, 30232, 30264, 30268, 30269, 30273, 30274, 30277, 30292, 30302, 30307, 30313, 30314, 30317, 30319, 30322, 30327, 30335, 30342, 30344, 30345, 30348, 30350, 30363, 30366, 30368, 30370, 30377, 30382, 30383, 30386, 30401, 30409, 30411, 30413, 30414, 30416, 30427, 30440, 30441, 30446, 30467, 30468, 30486, 30492, 30494, 30495, 30496, 30502, 30505, 30507, 30514, 30519, 30522, 30534, 30539, 30553, 30575, 30576, 30577, 30580, 30584, 30587, 30598, 30605, 30612, 30613, 30614, 30621, 30625, 30631, 30653, 30661, 30662, 30666, 30673, 30675, 30691, 30695, 30697, 30721, 30723, 30734, 30739, 30758, 30760, 30766, 30777, 30780, 30786, 30797, 30801, 30811, 30844, 30856, 30857, 30867, 30872, 30873, 30876, 30887, 30899, 30910, 30920, 30933, 30939, 30942, 30943, 30954, 30959, 30972, 30977, 30980, 30989, 30993, 30995, 31003, 31014, 31032, 31035, 31037, 31048, 31049, 31058, 31061, 31085, 31091, 31115, 31120, 31124, 31136, 31145, 31151, 31158, 31172, 31174, 31186, 31187, 31188, 31191, 31193, 31208, 31209, 31217, 31225, 31227, 31230, 31234, 31240, 31242, 31249, 31278, 31281, 31296, 31326, 31327, 31328, 31331, 31340, 31342, 31345, 31347, 31351, 31375, 31389, 31391, 31393, 31396, 31429, 31430, 31448, 31459, 31462, 31466, 31469, 31474, 31475, 31477, 31483, 31488, 31490, 31493, 31494, 31505, 31509, 31515, 31522, 31537, 31547, 31549, 31561, 31564, 31565, 31570, 31577, 31602, 31611, 31612, 31614, 31630, 31631, 31637, 31663, 31677, 31678, 31691, 31694, 31705, 31725, 31728, 31730, 31740, 31750, 31756, 31757, 31761, 31779, 31784, 31789, 31801, 31816, 31824, 31835, 31848, 31867, 31869, 31874, 31875, 31886, 31897, 31913, 31914, 31919, 31949, 31980, 31993, 31997, 32001, 32003, 32016, 32019, 32022, 32027, 32031, 32036, 32044, 32052, 32054, 32060, 32069, 32081, 32082, 32084, 32099, 32103, 32106, 32107, 32121, 32129, 32144, 32147, 32159, 32160, 32165, 32172, 32177, 32178, 32187, 32191, 32201, 32215, 32230, 32234, 32239, 32240, 32241, 32252, 32254, 32266, 32271, 32283, 32284, 32285, 32290, 32292, 32300, 32303, 32314, 32343, 32344, 32353, 32372, 32384, 32403, 32418, 32425, 32426, 32443, 32448, 32458, 32460, 32463, 32465, 32473, 32474, 32478, 32483, 32492, 32501, 32503, 32504, 32508, 32511, 32513, 32520, 32521, 32528, 32545, 32550, 32554, 32555, 32568, 32574, 32582, 32618, 32619, 32621, 32654, 32658, 32659, 32660, 32662, 32669, 32671, 32673, 32679, 32690, 32693, 32695, 32700, 32706, 32709, 32710, 32711, 32712, 32718, 32723, 32724, 32729, 32733, 32734, 32740, 32747, 32768, 32772, 32793, 32802, 32805, 32810, 32815, 32818, 32819, 32828, 32837, 32838, 32857, 32862, 32865, 32875, 32879, 32881, 32885, 32899, 32901, 32906, 32908, 32915, 32920, 32930, 32939, 32943, 32945, 32950, 32951, 32959, 32962, 32968, 32971, 32977, 32990, 32994, 33002, 33005, 33006, 33012, 33013, 33017, 33020, 33023, 33031, 33032, 33038, 33040, 33048, 33050, 33054, 33058, 33072, 33073, 33077, 33083, 33086, 33091, 33107, 33108, 33110, 33111, 33115, 33117, 33121, 33127, 33132, 33137, 33139, 33141, 33142, 33171, 33184, 33189, 33196, 33199, 33204, 33211, 33212, 33214, 33217, 33219, 33227, 33230, 33232, 33238, 33240, 33242, 33243, 33251, 33258, 33259, 33264, 33265, 33266, 33270, 33272, 33275, 33277, 33281, 33283, 33289, 33291, 33292, 33301, 33303, 33305, 33306, 33308, 33311, 33316, 33319, 33325, 33335, 33336, 33343, 33346, 33360, 33371, 33373, 33385, 33386, 33387, 33397, 33405, 33407, 33409, 33413, 33423, 33425, 33432, 33433, 33440, 33445, 33446, 33452, 33464, 33467, 33469, 33477, 33494, 33500, 33505, 33519, 33521, 33532, 33538, 33550, 33552, 33555, 33556, 33562, 33563, 33570, 33571, 33580, 33584, 33587, 33599, 33604, 33609, 33614, 33616, 33623, 33630, 33633, 33636, 33637, 33641, 33645, 33651, 33657, 33662, 33665, 33666, 33667, 33670, 33677, 33678, 33684, 33685, 33686, 33690, 33693, 33704, 33706, 33707, 33708, 33709, 33710, 33712, 33722, 33724, 33727, 33728, 33732, 33761, 33767, 33773, 33780, 33786, 33789, 33800, 33803, 33804, 33805, 33818, 33819, 33823, 33835, 33839, 33841, 33842, 33846, 33848, 33853, 33862, 33864, 33866, 33867, 33875, 33876, 33877, 33879, 33881, 33882, 33884, 33886, 33888, 33893, 33909, 33913, 33919, 33940, 33942, 33951, 33952, 33956, 33963, 33964, 33970, 33971, 33980, 33990, 33998, 34000, 34005, 34009, 34010, 34017, 34022, 34025, 34026, 34029, 34041, 34047, 34059, 34060, 34063, 34077, 34079, 34081, 34082, 34089, 34093, 34097, 34099, 34110, 34111, 34113, 34125, 34126, 34147, 34152, 34155, 34157, 34158, 34162, 34164, 34180, 34186, 34189, 34193, 34195, 34197, 34202, 34212, 34213, 34215, 34216, 34222, 34236, 34237, 34243, 34244, 34245, 34250, 34265, 34279, 34291, 34293, 34306, 34307, 34309, 34318, 34328, 34353, 34359, 34365, 34368, 34369, 34370, 34374, 34380, 34382, 34386, 34388, 34395, 34399, 34401, 34410, 34411, 34429, 34439, 34440, 34451, 34455, 34460, 34466, 34469, 34471, 34477, 34479, 34484, 34506, 34508, 34509, 34515, 34522, 34523, 34533, 34534, 34539, 34542, 34546, 34547, 34552, 34555, 34561, 34565, 34568, 34569, 34570, 34575, 34588, 34596, 34598, 34604, 34608, 34611, 34620, 34631, 34639, 34640, 34644, 34650, 34656, 34657, 34659, 34661, 34664, 34683, 34684, 34688, 34689, 34695, 34704, 34709, 34710, 34715, 34722, 34725, 34727, 34730, 34756, 34757, 34764, 34765, 34766, 34767, 34773, 34780, 34787, 34791, 34801, 34806, 34808, 34812, 34828, 34830, 34832, 34834, 34843, 34855, 34858, 34859, 34860, 34862, 34869, 34879, 34885, 34887, 34891, 34897, 34898, 34901, 34911, 34923, 34928, 34955, 34958, 34960, 34970, 34971, 34974, 34979, 34989, 35003, 35005, 35006, 35010, 35013, 35022, 35028, 35033, 35034, 35037, 35042, 35044, 35050, 35054, 35055, 35058, 35059, 35061, 35067, 35069, 35074, 35075, 35081, 35085, 35101, 35106, 35111, 35112, 35115, 35121, 35131, 35132, 35143, 35145, 35173, 35179, 35182, 35193, 35202, 35205, 35209, 35221, 35230, 35232, 35236, 35240, 35243, 35246, 35256, 35258, 35259, 35263, 35273, 35276, 35282, 35285, 35293, 35296, 35307, 35308, 35315, 35318, 35329, 35330, 35331, 35340, 35342, 35344, 35348, 35350, 35357, 35359, 35367, 35379, 35381, 35384, 35387, 35389, 35390, 35392, 35398, 35403, 35411, 35428, 35436, 35443, 35456, 35465, 35480, 35509, 35534, 35539, 35540, 35557, 35559, 35577, 35592, 35596, 35600, 35602, 35603, 35605, 35609, 35612, 35614, 35616, 35617, 35624, 35629, 35631, 35635, 35640, 35643, 35646, 35655, 35659, 35664, 35671, 35674, 35675, 35679, 35680, 35681, 35696, 35705, 35709, 35712, 35716, 35718, 35721, 35723, 35728, 35732, 35734, 35737, 35745, 35754, 35767, 35770, 35772, 35783, 35787, 35788, 35793, 35816, 35829, 35840, 35841, 35857, 35863, 35883, 35884, 35886, 35904, 35906, 35912, 35917, 35928, 35929, 35933, 35940, 35942, 35943, 35946, 35949, 35951, 35952, 35953, 35966, 35967, 35974, 35977, 35978, 35980, 35983, 35986, 35993, 35998, 36003, 36007, 36008, 36016, 36018, 36023, 36029, 36030, 36032, 36039, 36044, 36046, 36050, 36055, 36063, 36067, 36068, 36071, 36095, 36096, 36098, 36099, 36117, 36119, 36121, 36122, 36126, 36127, 36134, 36136, 36143, 36146, 36162, 36167, 36168, 36170, 36171, 36174, 36176, 36192, 36193, 36195, 36196, 36206, 36208, 36220, 36243, 36248, 36249, 36262, 36266, 36276, 36280, 36284, 36287, 36289, 36290, 36296, 36297, 36301, 36303, 36304, 36305, 36309, 36313, 36314, 36318, 36320, 36327, 36329, 36339, 36352, 36359, 36366, 36368, 36374, 36378, 36380, 36382, 36386, 36390, 36391, 36401, 36404, 36408, 36409, 36417, 36423, 36426, 36427, 36428, 36430, 36434, 36435, 36439, 36440, 36455, 36460, 36467, 36480, 36483, 36486, 36492, 36493, 36495, 36497, 36498, 36499, 36501, 36505, 36506, 36513, 36529, 36546, 36549, 36550, 36554, 36556, 36558, 36567, 36571, 36577, 36580, 36581, 36582, 36583, 36585, 36590, 36591, 36593, 36606, 36608, 36611, 36612, 36622, 36626, 36627, 36633, 36641, 36643, 36644, 36646, 36647, 36651, 36654, 36656, 36663, 36664, 36671, 36678, 36679, 36681, 36682, 36684, 36688, 36694, 36712, 36714, 36716, 36723, 36725, 36730, 36743, 36745, 36749, 36750, 36758, 36785, 36797, 36799, 36807, 36811, 36819, 36820, 36822, 36826, 36828, 36840, 36841, 36849, 36852, 36853, 36856, 36858, 36863, 36864, 36865, 36867, 36872, 36881, 36886, 36888, 36889, 36895, 36899, 36900, 36902, 36910, 36916, 36917, 36921, 36925, 36942, 36946, 36950, 36956, 36962, 36969, 36971, 36973, 36979, 36982, 36985, 36989, 36995, 36998, 36999, 37001, 37005, 37008, 37010, 37015, 37027, 37035, 37040, 37052, 37054, 37057, 37059, 37063, 37073, 37075, 37090, 37094, 37099, 37102, 37103, 37111, 37115, 37118, 37119, 37122, 37124, 37132, 37136, 37137, 37150, 37153, 37154, 37159, 37160, 37165, 37172, 37173, 37179, 37180, 37181, 37187, 37188, 37189, 37191, 37193, 37199, 37204, 37206, 37211, 37213, 37220, 37225, 37236, 37237, 37238, 37243, 37246, 37251, 37258, 37261, 37265, 37271, 37273, 37280, 37283, 37287, 37289, 37298, 37304, 37309, 37310, 37317, 37322, 37323, 37325, 37326, 37331, 37334, 37335, 37337, 37339, 37341, 37343, 37344, 37349, 37352, 37364, 37366, 37369, 37371, 37382, 37383, 37386, 37392, 37394, 37397, 37403, 37408, 37412, 37416, 37418, 37422, 37424, 37426, 37432, 37433, 37436, 37444, 37447, 37455, 37457, 37459, 37460, 37461, 37462, 37466, 37467, 37469, 37473, 37478, 37494, 37495, 37496, 37498, 37505, 37506, 37511, 37512, 37517, 37518, 37523, 37533, 37541, 37547, 37550, 37553, 37557, 37558, 37559, 37561, 37570, 37572, 37576, 37578, 37585, 37587, 37589, 37596, 37612, 37619, 37620, 37627, 37628, 37632, 37634, 37643, 37644, 37646, 37648, 37652, 37658, 37663, 37664, 37669, 37675, 37677, 37680, 37681, 37685, 37686, 37687, 37689, 37704, 37706, 37707, 37708, 37709, 37722, 37728, 37730, 37734, 37736, 37740, 37742, 37748, 37749, 37753, 37754, 37760, 37763, 37765, 37771, 37773, 37775, 37785, 37787, 37788, 37790, 37803, 37819, 37822, 37834, 37835, 37847, 37848, 37850, 37853, 37861, 37866, 37870, 37871, 37874, 37878, 37883, 37891, 37892, 37905, 37907, 37913, 37921, 37927, 37928, 37930, 37931, 37938, 37948, 37954, 37956, 37958, 37960, 37964, 37975, 37978, 37979, 37981, 37982, 37987, 37997, 38000, 38001, 38003, 38019, 38023, 38026, 38031, 38041, 38042, 38053, 38056, 38059, 38063, 38071, 38079, 38082, 38085, 38096, 38099, 38100, 38101, 38106, 38133, 38136, 38140, 38159, 38162, 38164, 38166, 38168, 38172, 38175, 38177, 38178, 38182, 38189, 38191, 38196, 38199, 38210, 38213, 38217, 38219, 38221, 38227, 38234, 38244, 38250, 38255, 38278, 38279, 38286, 38294, 38295, 38298, 38299, 38301, 38302, 38304, 38307, 38314, 38317, 38321, 38326, 38335, 38343, 38344, 38345, 38347, 38352, 38361, 38369, 38375, 38391, 38404, 38409, 38410, 38418, 38420, 38421, 38424, 38432, 38433, 38435, 38441, 38443, 38446, 38450, 38467, 38468, 38470, 38471, 38480, 38482, 38484, 38485, 38486, 38488, 38493, 38499, 38500, 38508, 38511, 38516, 38521, 38525, 38526, 38532, 38534, 38541, 38542, 38544, 38550, 38554, 38562, 38565, 38572, 38580, 38588, 38590, 38593, 38599, 38601, 38603, 38604, 38608, 38609, 38618, 38622, 38624, 38626, 38633, 38634, 38639, 38644, 38649, 38650, 38651, 38654, 38656, 38675, 38677, 38681, 38684, 38685, 38694, 38697, 38701, 38706, 38707, 38710, 38711, 38713, 38716, 38718, 38719, 38720, 38725, 38730, 38731, 38734, 38741, 38745, 38747, 38752, 38753, 38756, 38766, 38768, 38774, 38775, 38777, 38780, 38787, 38796, 38799, 38804, 38810, 38816, 38819, 38820, 38821, 38825, 38827, 38830, 38831, 38838, 38841, 38845, 38848, 38851, 38859, 38863, 38873, 38874, 38875, 38879, 38882, 38887, 38889, 38904, 38914, 38917, 38918, 38919, 38921, 38923, 38925, 38929, 38931, 38932, 38936, 38963, 38976, 38979, 38980, 38988, 38991, 38993, 38994, 38998, 38999, 39002, 39012, 39017, 39018, 39034, 39037, 39039, 39043, 39044, 39045, 39056, 39067, 39068, 39072, 39075, 39081, 39085, 39087, 39088, 39092, 39108, 39112, 39117, 39118, 39124, 39133, 39147, 39156, 39160, 39161, 39168, 39187, 39189, 39190, 39198, 39204, 39207, 39211, 39213, 39214, 39217, 39219, 39223, 39224, 39225, 39226, 39229, 39230, 39231, 39236, 39237, 39240, 39242, 39243, 39245, 39252, 39254, 39267, 39272, 39273, 39274, 39277, 39280, 39283, 39300, 39306, 39311, 39317, 39318, 39323, 39331, 39334, 39335, 39345, 39351, 39356, 39357, 39359, 39363, 39364, 39370, 39372, 39376, 39377, 39379, 39380, 39385, 39388, 39401, 39403, 39409, 39413, 39420, 39422, 39423, 39428, 39430, 39432, 39436, 39442, 39443, 39445, 39464, 39465, 39470, 39472, 39474, 39475, 39477, 39484, 39486, 39487, 39490, 39498, 39506, 39514, 39515, 39518, 39522, 39529, 39530, 39531, 39532, 39536, 39540, 39546, 39547, 39548, 39549, 39554, 39555, 39563, 39568, 39584, 39585, 39587, 39588, 39589, 39595, 39600, 39605, 39609, 39610, 39611, 39612, 39613, 39620, 39629, 39631, 39635, 39638, 39642, 39647, 39648, 39653, 39654, 39664, 39665, 39672, 39676, 39689, 39697, 39701, 39706, 39712, 39714, 39729, 39736, 39740, 39749, 39751, 39753, 39755, 39758, 39759, 39761, 39763, 39771, 39777, 39778, 39781, 39782, 39786, 39790, 39798, 39799, 39802, 39811, 39813, 39821, 39822, 39823, 39826, 39831, 39838, 39855, 39863, 39866, 39867, 39869, 39876, 39877, 39878, 39880, 39889, 39890, 39897, 39901, 39902, 39904, 39906, 39911, 39917, 39918, 39919, 39923, 39931, 39938, 39946, 39947, 39951, 39954, 39956, 39960, 39962, 39965, 39967, 39969, 39973, 39979, 39985, 39992, 39993, 39995, 40002, 40004, 40005, 40012, 40014, 40017, 40018, 40019, 40020, 40021, 40029, 40030, 40038, 40040, 40043, 40044, 40046, 40050, 40051, 40055, 40064, 40068, 40070, 40072, 40075, 40077, 40079, 40082, 40087, 40090, 40091, 40101, 40110, 40117, 40118, 40123, 40125, 40129, 40130, 40135, 40136, 40160, 40161, 40180, 40186, 40189, 40191, 40193, 40194, 40196, 40202, 40205, 40208, 40214, 40216, 40223, 40227, 40229, 40230, 40235, 40245, 40248, 40253, 40260, 40276, 40284, 40285, 40291, 40292, 40294, 40296, 40298, 40299, 40305, 40310, 40312, 40315, 40320, 40323, 40337, 40339, 40342, 40345, 40354, 40358, 40360, 40371, 40374, 40377, 40378, 40380, 40381, 40385, 40399, 40406, 40411, 40418, 40424, 40426, 40428, 40429, 40433, 40437, 40440, 40441, 40443, 40445, 40446, 40448, 40449, 40464, 40469, 40472, 40475, 40478, 40485, 40486, 40487, 40491, 40502, 40503, 40504, 40506, 40507, 40518, 40519, 40523, 40525, 40537, 40546, 40550, 40553, 40555, 40556, 40560, 40564, 40573, 40578, 40579, 40582, 40584, 40591, 40607, 40608, 40611, 40619, 40621, 40622, 40623, 40624, 40625, 40627, 40634, 40637, 40640, 40641, 40643, 40660, 40662, 40665, 40666, 40677, 40682, 40687, 40691, 40692, 40693, 40696, 40697, 40703, 40705, 40710, 40711, 40712, 40716, 40721, 40730, 40734, 40735, 40736, 40739, 40740, 40741, 40742, 40749, 40753, 40755, 40756, 40759, 40761, 40765, 40766, 40767, 40768, 40770, 40781, 40783, 40785, 40791, 40792, 40794, 40797, 40804, 40806, 40808, 40811, 40813, 40814, 40815, 40826, 40836, 40837, 40846, 40847, 40849, 40850, 40858, 40861, 40862, 40872, 40883, 40889, 40898, 40899, 40904, 40905, 40908, 40915, 40934, 40935, 40938, 40939, 40948, 40950, 40953, 40955, 40960, 40961, 40965, 40967, 40969, 40978, 40980, 40982, 40986, 40988, 40991, 40992, 40994, 40996, 40997, 40999, 41001, 41004, 41007, 41013, 41019, 41020, 41025, 41028, 41029, 41036, 41039, 41046, 41057, 41060, 41061, 41062, 41063, 41065, 41068, 41073, 41074, 41081, 41087, 41091, 41115, 41117, 41125, 41132, 41139, 41141, 41142, 41146, 41147, 41148, 41150, 41151, 41159, 41160, 41161, 41163, 41167, 41171, 41176, 41177, 41179, 41180, 41182, 41185, 41189, 41190, 41192, 41193, 41195, 41201, 41202, 41204, 41205, 41210, 41211, 41213, 41214, 41218, 41220, 41221, 41223, 41231, 41233, 41237, 41239, 41242, 41243, 41245, 41246, 41247, 41250, 41251, 41258, 41260, 41261, 41274, 41275, 41278, 41279, 41282, 41284, 41285, 41287, 41298, 41300, 41302, 41305, 41308, 41312, 41314, 41327, 41340, 41342, 41347, 41351, 41352, 41354, 41359, 41363, 41365, 41368, 41369, 41381, 41384, 41387, 41388, 41390, 41391, 41392, 41397, 41401, 41402, 41405, 41406, 41417, 41419, 41421, 41425, 41439, 41443, 41445, 41447, 41453, 41455, 41456, 41462, 41463, 41464, 41467, 41473, 41481, 41485, 41494, 41495, 41496, 41507, 41514, 41515, 41517, 41522, 41526, 41527, 41530, 41531, 41533, 41538, 41539, 41540, 41549, 41551, 41560, 41565, 41568, 41572, 41573, 41574, 41581, 41583, 41584, 41588, 41597, 41599, 41602, 41611, 41616, 41619, 41627, 41639, 41641, 41645, 41647, 41655, 41659, 41664, 41665, 41668, 41671, 41676, 41680, 41682, 41686, 41689, 41694, 41697, 41698, 41700, 41701, 41706, 41710, 41712, 41715, 41716, 41724, 41728, 41736, 41742, 41745, 41749, 41751, 41754, 41758, 41762, 41766, 41767, 41781, 41782, 41785, 41786, 41787, 41789, 41793, 41797, 41801, 41803, 41810, 41815, 41818, 41820, 41823, 41825, 41830, 41837, 41840, 41842, 41844, 41845, 41847, 41850, 41853, 41854, 41860, 41869, 41874, 41883, 41885, 41890, 41894, 41901, 41905, 41912, 41913, 41920, 41921, 41923, 41925, 41927, 41935, 41937, 41939, 41944, 41945, 41951, 41952, 41959, 41962, 41973, 41976, 41978, 41979, 41982, 41985, 41986, 41989, 41996, 41997, 42001, 42003, 42013, 42014, 42017, 42019, 42024, 42025, 42026, 42035, 42038, 42048, 42049, 42052, 42058, 42059, 42063, 42070, 42073, 42074, 42077, 42084, 42085, 42088, 42089, 42090, 42092, 42095, 42099, 42101, 42102, 42103, 42105, 42106, 42108, 42109, 42110, 42112, 42113, 42115, 42122, 42123, 42124, 42125, 42126, 42133, 42134, 42136, 42141, 42143, 42146, 42148, 42149, 42152, 42154, 42155, 42157, 42162, 42163, 42164, 42170, 42174, 42175, 42176, 42180, 42183, 42185, 42195, 42208, 42209, 42212, 42216, 42220, 42222, 42223, 42224, 42229, 42241, 42243, 42244, 42247, 42248, 42249, 42252, 42253, 42254, 42255, 42256, 42260, 42261, 42262, 42263, 42269, 42276, 42277, 42279, 42282, 42284, 42286, 42287, 42302, 42304, 42309, 42315, 42316, 42324, 42329, 42335, 42343, 42345, 42346, 42349, 42350, 42356, 42360, 42362, 42363, 42366, 42369, 42372, 42375, 42380, 42382, 42384, 42390, 42392, 42393, 42394, 42395, 42399, 42402, 42405, 42408, 42416, 42418, 42420, 42422, 42423, 42430, 42431, 42433, 42442, 42448, 42452, 42454, 42456, 42457, 42459, 42461, 42467, 42469, 42474, 42487, 42498, 42501, 42502, 42503, 42505, 42506, 42508, 42511, 42513, 42518, 42519, 42520, 42525, 42527, 42531, 42534, 42538, 42539, 42542, 42543, 42545, 42546, 42549, 42551, 42553, 42560, 42567, 42570, 42573, 42576, 42583, 42586, 42587, 42588, 42590, 42592, 42597, 42599, 42601, 42602, 42603, 42606, 42607, 42608, 42611, 42612, 42615, 42617, 42620, 42623, 42625, 42637, 42638, 42652, 42655, 42657, 42660, 42662, 42666, 42667, 42668, 42672, 42673, 42682, 42683, 42686, 42688, 42692, 42693, 42694, 42695, 42697, 42700, 42701, 42704, 42705, 42713, 42717, 42726, 42727, 42728, 42732, 42733, 42737, 42740, 42741, 42745, 42748, 42750, 42752, 42753, 42754, 42760, 42761, 42768, 42771, 42772, 42775, 42779, 42783, 42786, 42787, 42788, 42789, 42790, 42794, 42796, 42801, 42802, 42808, 42809, 42817, 42822, 42825, 42826, 42830, 42835, 42843, 42844, 42846, 42851, 42853, 42854, 42856, 42857, 42859, 42860, 42867, 42868, 42869, 42872, 42874, 42875, 42876, 42880, 42882, 42884, 42886, 42894, 42900, 42901, 42902, 42904, 42905, 42907, 42908, 42909, 42912, 42916, 42917, 42920, 42921, 42929, 42934, 42935, 42941, 42943, 42945, 42947, 42948, 42950, 42952, 42956, 42959, 42961, 42962, 42966, 42970, 42972, 42975, 42980, 42981, 42984, 42993, 42995, 42996, 42998, 43007, 43010, 43013, 43014, 43016, 43017, 43020, 43021, 43025, 43029, 43032, 43033, 43041, 43042, 43048, 43050, 43053, 43057, 43062, 43069, 43072, 43076, 43080, 43082, 43085, 43087, 43091, 43094, 43095, 43096, 43098, 43099, 43100, 43101, 43108, 43114, 43115, 43116, 43119, 43120, 43122, 43123, 43124, 43127, 43132, 43133, 43134, 43135, 43144, 43146, 43149, 43152, 43154, 43155, 43158, 43164, 43167, 43168, 43170, 43177, 43181, 43182, 43186, 43187, 43190, 43191, 43192, 43200, 43203, 43204, 43206, 43212, 43214, 43215, 43220, 43222, 43224, 43225, 43226, 43227, 43229, 43233, 43236, 43240, 43249, 43264, 43265, 43266, 43267, 43269, 43273, 43274, 43277, 43278, 43279, 43280, 43286, 43288, 43289, 43290, 43291, 43294, 43299, 43300, 43301, 43302, 43306, 43307, 43309, 43314, 43315, 43319, 43321, 43322, 43323, 43324, 43327, 43328, 43329, 43330, 43331, 43332, 43333, 43337, 43341, 43342, 43343, 43350, 43351, 43353, 43358, 43359, 43361, 43368, 43372, 43375, 43386, 43389, 43391, 43392, 43393, 43395, 43397, 43399, 43400, 43401, 43404, 43405, 43406, 43412, 43415, 43419, 43420, 43423, 43424, 43427, 43428, 43432, 43440, 43441, 43442, 43447, 43451, 43458, 43461, 43463, 43465, 43470, 43471, 43472, 43473, 43478, 43480, 43481, 43485, 43487, 43488, 43490, 43493, 43498, 43501, 43503, 43505, 43508, 43509, 43511, 43513, 43517, 43519, 43522, 43526, 43528, 43531, 43538, 43541, 43543, 43550, 43551, 43554, 43555, 43562, 43567, 43570, 43571, 43573, 43576, 43582, 43585, 43587, 43591, 43596, 43599, 43600, 43602, 43604, 43607, 43608, 43609, 43610, 43611, 43616, 43618, 43620, 43622, 43631, 43634, 43638, 43640, 43643, 43649, 43650, 43655, 43664, 43666, 43668, 43682, 43692, 43693, 43694, 43700, 43701, 43702, 43703, 43704, 43705, 43709, 43710, 43712, 43714, 43716, 43717, 43720, 43722, 43724, 43729, 43737, 43738, 43742, 43748, 43751, 43752, 43756, 43761, 43763, 43768, 43775, 43777, 43779, 43780, 43787, 43789, 43792, 43797, 43798, 43799, 43802, 43804, 43808, 43811, 43815, 43818, 43820, 43823, 43828, 43829, 43834, 43838, 43839, 43846, 43848, 43861, 43868, 43870, 43879, 43880, 43883, 43884, 43885, 43890, 43898, 43903, 43909, 43910, 43912, 43913, 43914, 43915, 43916, 43917, 43918, 43919, 43924, 43935, 43937, 43942, 43946, 43947, 43948, 43949, 43951, 43952, 43960, 43966, 43970, 43971, 43974, 43975, 43981, 43988, 43993, 43996, 44000, 44006, 44011, 44012, 44015, 44016, 44018, 44024, 44025, 44027, 44041, 44042, 44045, 44050, 44052, 44058, 44064, 44065, 44066, 44077, 44080, 44082, 44089, 44090, 44092, 44093, 44095, 44098, 44102, 44104, 44109, 44111, 44112, 44114, 44116, 44121, 44122, 44124, 44125, 44132, 44135, 44139, 44141, 44142, 44143, 44144, 44148, 44149, 44151, 44152, 44153, 44154, 44163, 44166, 44170, 44171, 44172, 44174, 44179, 44186, 44188, 44189, 44193, 44205, 44207, 44208, 44210, 44211, 44216, 44217, 44220, 44221, 44223, 44233, 44235, 44237, 44238, 44242, 44250, 44251, 44252, 44253, 44255, 44256, 44259, 44260, 44261, 44263, 44266, 44269, 44271, 44273, 44277, 44278, 44279, 44280, 44289, 44291, 44292, 44293, 44297, 44300, 44301, 44305, 44306, 44307, 44309, 44310, 44314, 44315, 44317, 44318, 44320, 44321, 44324, 44327, 44329, 44330, 44332, 44336, 44338, 44339, 44340, 44344, 44346, 44351, 44353, 44356, 44358, 44360, 44364, 44365, 44368, 44370, 44372, 44374, 44375, 44376, 44378, 44379, 44381, 44382, 44386, 44387, 44389, 44390, 44396, 44399, 44401, 44402, 44405, 44406, 44411, 44414, 44415, 44417, 44419, 44422, 44429, 44431, 44432, 44433, 44435, 44438, 44441, 44442, 44443, 44446, 44448, 44449, 44450, 44453, 44455, 44457, 44463, 44464, 44467, 44469, 44473, 44478, 44487, 44489, 44491, 44492, 44497, 44499, 44501, 44503, 44506, 44507, 44508, 44511, 44513, 44519, 44520, 44522, 44524, 44525, 44526, 44530, 44531, 44535, 44536, 44541, 44545, 44546, 44547, 44548, 44549, 44551, 44553, 44556, 44560, 44562, 44564, 44566, 44567, 44569, 44572, 44575, 44576, 44577, 44582, 44583, 44584, 44585, 44588, 44591, 44592, 44593, 44594, 44603, 44604, 44605, 44608, 44609, 44615, 44620, 44624, 44626, 44628, 44630, 44634, 44636, 44637, 44638, 44640, 44643, 44646, 44650, 44652, 44659, 44660, 44661, 44662, 44664, 44670, 44671, 44672, 44674, 44676, 44677, 44679, 44680, 44682, 44686, 44687, 44688, 44690, 44691, 44700, 44701, 44702, 44703, 44704, 44705, 44706, 44712, 44720, 44721, 44731, 44733, 44734, 44737, 44738, 44739, 44741, 44743, 44749, 44753, 44756, 44759, 44761, 44762, 44763, 44767, 44771, 44772, 44773, 44774, 44775, 44776, 44777, 44780, 44783, 44784, 44785, 44786, 44787, 44792, 44794, 44795, 44796, 44800, 44805, 44806, 44808, 44809, 44810, 44811, 44814, 44816, 44817, 44818, 44819, 44821, 44823, 44824, 44826, 44827, 44828, 44829, 44833, 44834, 44835, 44836, 44837, 44838, 44839, 44841, 44843, 44844, 44847, 44848, 44849, 44851, 44855, 44862, 44864, 44868, 44877, 44878, 44879, 44883, 44887, 44891, 44892, 44898, 44899, 44900, 44901, 44903, 44909, 44910, 44912, 44915, 44916, 44917, 44921, 44922, 44923, 44925, 44929, 44930, 44935, 44936, 44939, 44940, 44943, 44945, 44946, 44947, 44949, 44951, 44953, 44955, 44959, 44965, 44966, 44967, 44972, 44973, 44975, 44976, 44978, 44980, 44983, 44985, 44986, 44990, 44992, 45001, 45002, 45003, 45006, 45008, 45010, 45012, 45014, 45017, 45021, 45022, 45024, 45026, 45029, 45030, 45033, 45036, 45037, 45039, 45040, 45041, 45044, 45046, 45047, 45050, 45051, 45052, 45053, 45055, 45056, 45059, 45061, 45067, 45070, 45073, 45075, 45079, 45080, 45085, 45086, 45087, 45088, 45089, 45090, 45091, 45095, 45096, 45103, 45105, 45106, 45107, 45110, 45112, 45114, 45116, 45120, 45124, 45129, 45130, 45132, 45136, 45141, 45142, 45143, 45144, 45146, 45148, 45149, 45151, 45154, 45158, 45160, 45166, 45168, 45170, 45171, 45175, 45182, 45183, 45185, 45187, 45188, 45189, 45191, 45193, 45196, 45201, 45202, 45203, 45205, 45206, 45207, 45208, 45213, 45216, 45218, 45220, 45224, 45227, 45228, 45229, 45230, 45233, 45241, 45243, 45244, 45245, 45249, 45250, 45251, 45254, 45255, 45261, 45263, 45266, 45268, 45271, 45273, 45274, 45276, 45277, 45278, 45279, 45280, 45281, 45284, 45285, 45294, 45301, 45305, 45306, 45308, 45311, 45313, 45316, 45321, 45322, 45323, 45325, 45329, 45330, 45334, 45335, 45336, 45340, 45342, 45346, 45348, 45350, 45352, 45357, 45358, 45361, 45362, 45364, 45368, 45378, 45379, 45381, 45382, 45383, 45384, 45385, 45390, 45395, 45396, 45400, 45402, 45403, 45409, 45412, 45414, 45415, 45423, 45426, 45427, 45432, 45438, 45440, 45441, 45444, 45448, 45453, 45454, 45458, 45462, 45463, 45464, 45467, 45475, 45476, 45477, 45478, 45482, 45483, 45484, 45486, 45487, 45489, 45491, 45494, 45497, 45504, 45508, 45510, 45513, 45514, 45515, 45517, 45518, 45525, 45527, 45531, 45533, 45537, 45539, 45541, 45543, 45544, 45553, 45555, 45556, 45562, 45563, 45566, 45573, 45576, 45578, 45584, 45586, 45591, 45592, 45596, 45599, 45601, 45602, 45612, 45613, 45616, 45623, 45626, 45628, 45629, 45630, 45631, 45632, 45633, 45636, 45643, 45647, 45648, 45649, 45650, 45652, 45655, 45658, 45664, 45665, 45668, 45672, 45674, 45676, 45677, 45680, 45682, 45683, 45687, 45688, 45690, 45692, 45693, 45696, 45707, 45709, 45711, 45712, 45719, 45721, 45727, 45730, 45731, 45732, 45733, 45734, 45736, 45737, 45750, 45753, 45769, 45771, 45777, 45779, 45780, 45785, 45789, 45795, 45798, 45799, 45801, 45802, 45804, 45810, 45812, 45814, 45817, 45820, 45821, 45823, 45826, 45832, 45833, 45834, 45837, 45838, 45839, 45844, 45846, 45850, 45851, 45852, 45859, 45865, 45870, 45874, 45878, 45882, 45884, 45887, 45889, 45894, 45895, 45898, 45899, 45900, 45904, 45905, 45906, 45911, 45912, 45913, 45914, 45915, 45917, 45923, 45925, 45929, 45931, 45932, 45938, 45940, 45945, 45951, 45965, 45966, 45967, 45969, 45970, 45971, 45973, 45974, 45978, 45982, 45983, 45986, 45996, 46000, 46002, 46003, 46005, 46007, 46010, 46011, 46029, 46033, 46034, 46035, 46038, 46040, 46041, 46043, 46045, 46048, 46050, 46051, 46053, 46058, 46061, 46063, 46064, 46066, 46067, 46070, 46078, 46079, 46085, 46088, 46093, 46097, 46112, 46116, 46122, 46124, 46130, 46132, 46137, 46139, 46144, 46145, 46147, 46148, 46155, 46157, 46161, 46162, 46167, 46168, 46170, 46171, 46174, 46176, 46177, 46179, 46183, 46185, 46191, 46197, 46204, 46208, 46209, 46210, 46215, 46218, 46220, 46222, 46227, 46230, 46233, 46236, 46241, 46244, 46245, 46252, 46254, 46257, 46259, 46261, 46263, 46266, 46271, 46277, 46280, 46281, 46282, 46283, 46286, 46287, 46289, 46291, 46294, 46296, 46307, 46311, 46312, 46316, 46320, 46323, 46325, 46326, 46328, 46331, 46332, 46334, 46337, 46338, 46342, 46343, 46345, 46346, 46354, 46355, 46356, 46360, 46362, 46365, 46368, 46370, 46376, 46378, 46380, 46384, 46385, 46386, 46387, 46388, 46389, 46390, 46394, 46399, 46402, 46405, 46407, 46410, 46412, 46415, 46417, 46418, 46425, 46431, 46435, 46438, 46439, 46450, 46452, 46458, 46460, 46461, 46462, 46463, 46465, 46466, 46469, 46470, 46475, 46477, 46481, 46482, 46489, 46492, 46495, 46499, 46502, 46509, 46510, 46511, 46514, 46516, 46520, 46521, 46522, 46525, 46526, 46530, 46532, 46534, 46536, 46537, 46543, 46546, 46550, 46555, 46557, 46561, 46562, 46563, 46568, 46569, 46572, 46573, 46575, 46579, 46581, 46583, 46587, 46588, 46589, 46590, 46591, 46592, 46593, 46596, 46600, 46601, 46602, 46604, 46606, 46609, 46611, 46612, 46613, 46614, 46617, 46618, 46619, 46622, 46625, 46629, 46633, 46638, 46639, 46640, 46643, 46644, 46647, 46651, 46652, 46653, 46659, 46666, 46669, 46671, 46672, 46673, 46674, 46679, 46681, 46682, 46683, 46685, 46687, 46691, 46697, 46700, 46703, 46707, 46710, 46711, 46716, 46719, 46721, 46724, 46725, 46727, 46728, 46731, 46732, 46735, 46737, 46738, 46739, 46740, 46742, 46750, 46753, 46757, 46760, 46762, 46763, 46764, 46773, 46776, 46781, 46787, 46789, 46790, 46792, 46795, 46796, 46799, 46802, 46805, 46808, 46811, 46816, 46819, 46821, 46822, 46824, 46827, 46828, 46830, 46831, 46832, 46835, 46836, 46839, 46840, 46842, 46847, 46848, 46853, 46854, 46860, 46864, 46866, 46867, 46868, 46870, 46871, 46874, 46878, 46879, 46887, 46888, 46889, 46894, 46897, 46898, 46899, 46900, 46903, 46915, 46919, 46920, 46922, 46926, 46928, 46929, 46933, 46937, 46939, 46943, 46946, 46950, 46952, 46955, 46957, 46962, 46964, 46967, 46969, 46973, 46974, 46979, 46981, 46989, 46990, 46992, 46994, 46995, 46996, 46997, 46999, 47000, 47005, 47006, 47007, 47012, 47014, 47016, 47020, 47023, 47026, 47029, 47031, 47036, 47038, 47042, 47052, 47053, 47054, 47055, 47057, 47058, 47063, 47066, 47071, 47075, 47076, 47077, 47085, 47086, 47087, 47093, 47094, 47096, 47100, 47101, 47103, 47104, 47108, 47109, 47110, 47119, 47120, 47122, 47124, 47127, 47128, 47131, 47132, 47134, 47139, 47143, 47144, 47145, 47153, 47161, 47163, 47165, 47168, 47169, 47174, 47175, 47177, 47184, 47191, 47192, 47196, 47198, 47207, 47208, 47212, 47224, 47225, 47230, 47237, 47242, 47243, 47244, 47245, 47249, 47255, 47257, 47264, 47266, 47268, 47269, 47270, 47275, 47277, 47280, 47287, 47288, 47289, 47290, 47291, 47296, 47299, 47301, 47302, 47305, 47316, 47317, 47322, 47328, 47329, 47331, 47334, 47339, 47342, 47343, 47347, 47351, 47358, 47364, 47369, 47370, 47374, 47375, 47376, 47379, 47389, 47394, 47400, 47403, 47413, 47415, 47422, 47427, 47435, 47437, 47442, 47444, 47447, 47448, 47450, 47452, 47453, 47454, 47456, 47457, 47459, 47460, 47461, 47467, 47468, 47477, 47485, 47486, 47489, 47491, 47494, 47499, 47516, 47518, 47522, 47524, 47525, 47529, 47533, 47534, 47551, 47555, 47561, 47570, 47571, 47573, 47574, 47577, 47578, 47581, 47582, 47584, 47589, 47592, 47603, 47604, 47607, 47609, 47612, 47613, 47615, 47621, 47622, 47632, 47635, 47636, 47642, 47643, 47644, 47650, 47651, 47654, 47659, 47661, 47662, 47673, 47678, 47681, 47686, 47689, 47693, 47699, 47706, 47710, 47711, 47712, 47719, 47721, 47731, 47734, 47736, 47737, 47740, 47741, 47742, 47748, 47749, 47759, 47767, 47768, 47771, 47772, 47776, 47777, 47786, 47796, 47809, 47812, 47815, 47824, 47828, 47834, 47839, 47843, 47861, 47872, 47874, 47877, 47883, 47900, 47901, 47902, 47916, 47919, 47925, 47926, 47934, 47935, 47936, 47937, 47938, 47941, 47951, 47958, 47962, 47966, 47967, 47973, 47979, 47981, 47983, 47988, 47989, 47992, 47994, 47996, 48007, 48010, 48012, 48016, 48023, 48025, 48029, 48032, 48039, 48051, 48068, 48071, 48077, 48083, 48093, 48109, 48110, 48111, 48117, 48133, 48135, 48137, 48140, 48147, 48149, 48150, 48152, 48159, 48166, 48174, 48178, 48179, 48181, 48182, 48183, 48187, 48189, 48193, 48194, 48199, 48202, 48205, 48206, 48211, 48216, 48227, 48231, 48234, 48238, 48239, 48243, 48247, 48262, 48265, 48269, 48271, 48274, 48276, 48277, 48288, 48290, 48294, 48298, 48300, 48301, 48303, 48305, 48314, 48317, 48318, 48323, 48327, 48329, 48337, 48338, 48353, 48357, 48358, 48360, 48362, 48363, 48371, 48373, 48376, 48378, 48381, 48384, 48386, 48394, 48396, 48399, 48410, 48420, 48431, 48435, 48439, 48451, 48459, 48462, 48468, 48471, 48473, 48474, 48479, 48488, 48489, 48490, 48491, 48495, 48497, 48503, 48511, 48513, 48514, 48516, 48518, 48522, 48523, 48525, 48526, 48534, 48542, 48543, 48545, 48547, 48552, 48560, 48561, 48564, 48568, 48572, 48574, 48577, 48578, 48589, 48591, 48592, 48595, 48602, 48603, 48614, 48623, 48624, 48627, 48631, 48636, 48640, 48642, 48645, 48652, 48655, 48659, 48662, 48673, 48678, 48682, 48690, 48700, 48702, 48704, 48706, 48707, 48715, 48716, 48717, 48720, 48723, 48725, 48727, 48735, 48756, 48760, 48765, 48766, 48771, 48785, 48795, 48797, 48798, 48801, 48808, 48809, 48813, 48819, 48822, 48831, 48835, 48836, 48837, 48838, 48855, 48859, 48865, 48869, 48888, 48892, 48896, 48898, 48900, 48914, 48929, 48930, 48935, 48938, 48944, 48945, 48951, 48954, 48956, 48961, 48963, 48964, 48979, 48992, 48994, 48995, 48999, 49008, 49014, 49016, 49022, 49024, 49026, 49038, 49040, 49046, 49054, 49056, 49064, 49069, 49079, 49080, 49087, 49095, 49098, 49106, 49109, 49120, 49124, 49126, 49133, 49146, 49149, 49152, 49157, 49160, 49163, 49168, 49173, 49174, 49182, 49188, 49192, 49193, 49197, 49198, 49199, 49201, 49202, 49212, 49215, 49223, 49225, 49226, 49227, 49229, 49233, 49241, 49243, 49256, 49258, 49262, 49269, 49274, 49278, 49280, 49282, 49284, 49287, 49289, 49297, 49301, 49302, 49310, 49311, 49317, 49319, 49323, 49324, 49325, 49326, 49328, 49338, 49340, 49342, 49346, 49351, 49357, 49358, 49366, 49372, 49376, 49377, 49384, 49389, 49394, 49395, 49397, 49400, 49410, 49425, 49428, 49436, 49437, 49443, 49449, 49452, 49455, 49457, 49458, 49464, 49465, 49466, 49468, 49469, 49470, 49473, 49479, 49484, 49486, 49487, 49489, 49490, 49505, 49507, 49512, 49522, 49524, 49525, 49526, 49527, 49528, 49529, 49531, 49534, 49542, 49543, 49551, 49553, 49554, 49555, 49556, 49559, 49563, 49564, 49566, 49568, 49570, 49577, 49579, 49581, 49587, 49588, 49590, 49592, 49596, 49603, 49606, 49608, 49610, 49611, 49613, 49621, 49623, 49626, 49627, 49629, 49630, 49640, 49641, 49644, 49645, 49650, 49651, 49656, 49657, 49661, 49663, 49665, 49674, 49677, 49679, 49680, 49682, 49686, 49689, 49691, 49695, 49697, 49702, 49703, 49704, 49705, 49707, 49708, 49725, 49728, 49729, 49731, 49738, 49742, 49744, 49746, 49748, 49751, 49753, 49756, 49759, 49763, 49769, 49771, 49773, 49774, 49776, 49779, 49789, 49794, 49800, 49801, 49802, 49804, 49806, 49814, 49815, 49818, 49821, 49822, 49829, 49830, 49831, 49835, 49839, 49841, 49842, 49846, 49847, 49852, 49855, 49858, 49864, 49866, 49872, 49877, 49879, 49882, 49883, 49884, 49886, 49890, 49892, 49895, 49899, 49900, 49905, 49909, 49910, 49913, 49916, 49917, 49919, 49925, 49926, 49932, 49946, 49948, 49951, 49955, 49959, 49964, 49966, 49967, 49970, 49971, 49974, 49978, 49979, 49980, 49993, 49996, 49997, 49998, 50000, 50002, 50007, 50008, 50011, 50018, 50019, 50021, 50031, 50033, 50041, 50042, 50052, 50058, 50068, 50073, 50075, 50076, 50082, 50083, 50085, 50088, 50090, 50091, 50093, 50095, 50096, 50098, 50099, 50102, 50107, 50108, 50109, 50110, 50111, 50112, 50114, 50118, 50119, 50120, 50124, 50131, 50139, 50140, 50144, 50146, 50149, 50150, 50160, 50162, 50164, 50168, 50174, 50177, 50178, 50181, 50182, 50186, 50187, 50189, 50191, 50196, 50197, 50199, 50205, 50207, 50216, 50219, 50225, 50233, 50236, 50245, 50248, 50249, 50253, 50254, 50255, 50256, 50261, 50268, 50273, 50277, 50279, 50280, 50281, 50282, 50285, 50286, 50290, 50293, 50298, 50299, 50301, 50309, 50311, 50312, 50314, 50316, 50317, 50328, 50330, 50333, 50334, 50339, 50341, 50343, 50350, 50352, 50355, 50361, 50364, 50367, 50368, 50396, 50399, 50406, 50407, 50410, 50415, 50419, 50421, 50422, 50423, 50429, 50433, 50437, 50443, 50446, 50447, 50448, 50451, 50453, 50455, 50457, 50460, 50466, 50469, 50470, 50472, 50473, 50476, 50477, 50482, 50485, 50486, 50502, 50503, 50504, 50505, 50507, 50511, 50515, 50518, 50519, 50521, 50528, 50530, 50533, 50535, 50538, 50539, 50543, 50544, 50547, 50552, 50554, 50557, 50561, 50563, 50564, 50565, 50571, 50575, 50577, 50584, 50589, 50593, 50595, 50598, 50601, 50604, 50618, 50620, 50624, 50628, 50629, 50637, 50638, 50642, 50645, 50649, 50653, 50656, 50658, 50660, 50670, 50671, 50678, 50685, 50687, 50688, 50699, 50702, 50704, 50707, 50716, 50719, 50720, 50721, 50722, 50734, 50737, 50738, 50743, 50747, 50748, 50750, 50751, 50752, 50756, 50757, 50759, 50761, 50763, 50764, 50765, 50766, 50774, 50775, 50780, 50782, 50789, 50796, 50799, 50800, 50804, 50810, 50811, 50812, 50814, 50816, 50818, 50822, 50823, 50825, 50826, 50827, 50829, 50831, 50834, 50835, 50837, 50840, 50841, 50843, 50848, 50854, 50857, 50860, 50863, 50864, 50868, 50870, 50874, 50875, 50876, 50878, 50879, 50880, 50881, 50882, 50885, 50888, 50889, 50890, 50893, 50896, 50897, 50900, 50903, 50907, 50908, 50916, 50920, 50923, 50924, 50925, 50926, 50927, 50928, 50933, 50935, 50936, 50937, 50940, 50942, 50944, 50947, 50951, 50953, 50959, 50962, 50964, 50965, 50968, 50969, 50971, 50972, 50973, 50974, 50975, 50980, 50984, 50991, 50992, 50993, 50997, 51000, 51007, 51008, 51016, 51018, 51019, 51021, 51025, 51030, 51031, 51034, 51035, 51036, 51040, 51041, 51042, 51043, 51047, 51051, 51052, 51054, 51057, 51058, 51059, 51060, 51066, 51068, 51069, 51070, 51072, 51075, 51076, 51077, 51078, 51079, 51080, 51081, 51083, 51087, 51090, 51091, 51092, 51094, 51095, 51096, 51098, 51099, 51100, 51103, 51106, 51109, 51114, 51115, 51119, 51120, 51125, 51129, 51130, 51131, 51133, 51134, 51137, 51138, 51140, 51141, 51143, 51145, 51147, 51148, 51150, 51151, 51153, 51156, 51158, 51160, 51161, 51162, 51163, 51164, 51167, 51168, 51169, 51175, 51179, 51182, 51183, 51185, 51188, 51190, 51193, 51200, 51202, 51205, 51207, 51212, 51213, 51214, 51223, 51226, 51236, 51237, 51240, 51243, 51244, 51245, 51249, 51254, 51256, 51257, 51265, 51267, 51268, 51269, 51270, 51277, 51278, 51279, 51280, 51281, 51283, 51284, 51288, 51289, 51291, 51292, 51293, 51298, 51302, 51305, 51306, 51309, 51311, 51312, 51313, 51316, 51317, 51318, 51319, 51321, 51322, 51323, 51326, 51328, 51331, 51333, 51335, 51341, 51344, 51346, 51348, 51349, 51363, 51364, 51365, 51371, 51372, 51373, 51374, 51376, 51377, 51379, 51381, 51382, 51383, 51386, 51389, 51390, 51393, 51397, 51398, 51401, 51404, 51405, 51411, 51412, 51414, 51419, 51423, 51425, 51427, 51428, 51430, 51431, 51432, 51436, 51437, 51442, 51444, 51446, 51448, 51450, 51451, 51452, 51455, 51462, 51466, 51474, 51475, 51480, 51482, 51483, 51484, 51485, 51486, 51488, 51489, 51490, 51493, 51494, 51497, 51498, 51499, 51501, 51503, 51507, 51508, 51510, 51512, 51514, 51516, 51517, 51521, 51523, 51526, 51528, 51533, 51536, 51540, 51541, 51542, 51544, 51545, 51546, 51547, 51553, 51565, 51570, 51573, 51591, 51595, 51596, 51599, 51607, 51611, 51613, 51615, 51617, 51621, 51622, 51625, 51626, 51631, 51632, 51633, 51634, 51636, 51644, 51647, 51648, 51658, 51673, 51675, 51677, 51678, 51688, 51690, 51693, 51694, 51696, 51699, 51702, 51703, 51705, 51716, 51717, 51725, 51726, 51727, 51728, 51731, 51736, 51741, 51750, 51752, 51762, 51766, 51771, 51772, 51778, 51786, 51788, 51789, 51793, 51795, 51798, 51799, 51801, 51805, 51810, 51818, 51823, 51824, 51825, 51826, 51827, 51838, 51843, 51852, 51855, 51863, 51864, 51875, 51878, 51886, 51887, 51896, 51897, 51898, 51901, 51904, 51913, 51918, 51928, 51930, 51931, 51936, 51939, 51948, 51951, 51961, 51963, 51964, 51965, 51966, 51975, 51978, 51981, 51986, 51988, 52000, 52006, 52008, 52009, 52010, 52011, 52015, 52016, 52019, 52020, 52021, 52027, 52028, 52031, 52036, 52037, 52039, 52040, 52047, 52051, 52055, 52061, 52068, 52069, 52071, 52073, 52077, 52083, 52087, 52091, 52094, 52098, 52102, 52103, 52110, 52120, 52124, 52130, 52131, 52134, 52138, 52151, 52152, 52153, 52158, 52162, 52168, 52170, 52173, 52176, 52179, 52183, 52185, 52189, 52190, 52193, 52200, 52203, 52206, 52209, 52217, 52220, 52222, 52223, 52225, 52227, 52233, 52238, 52240, 52241, 52242, 52247, 52248, 52251, 52256, 52261, 52282, 52287, 52290, 52295, 52302, 52305, 52311, 52314, 52315, 52332, 52335, 52348, 52358, 52363, 52372, 52378, 52389, 52398, 52400, 52401, 52409, 52410, 52412, 52420, 52423, 52424, 52426, 52438, 52449, 52450, 52461, 52466, 52468, 52476, 52478, 52480, 52487, 52491, 52496, 52499, 52506, 52510, 52513, 52515, 52516, 52527, 52539, 52552, 52559, 52561, 52569, 52570, 52571, 52577, 52580, 52590, 52595, 52596, 52598, 52603, 52612, 52618, 52622, 52628, 52652, 52660, 52670, 52675, 52677, 52678, 52690, 52694, 52700, 52701, 52707, 52718, 52728, 52729, 52733, 52742, 52750, 52756, 52757, 52759, 52762, 52773, 52774, 52778, 52779, 52781, 52783, 52787, 52790, 52792, 52793, 52809, 52811, 52824, 52835, 52847, 52855, 52857, 52861, 52876, 52882, 52892, 52898, 52900, 52901, 52903, 52904, 52912, 52923, 52924, 52926, 52938, 52939, 52944, 52947, 52952, 52955, 52956, 52957, 52962, 52965, 52967, 52972, 52975, 52978, 52994, 52995, 53000, 53003, 53021, 53030, 53031, 53034, 53036, 53044, 53045, 53047, 53049, 53050, 53057, 53060, 53063, 53065, 53069, 53084, 53085, 53087, 53090, 53094, 53097, 53102, 53117, 53124, 53126, 53128, 53137, 53139, 53145, 53146, 53153, 53157, 53177, 53184, 53185, 53186, 53188, 53191, 53195, 53196, 53199, 53201, 53206, 53207, 53208, 53212, 53216, 53219, 53220, 53225, 53226, 53230, 53232, 53233, 53240, 53244, 53249, 53252, 53256, 53272, 53273, 53276, 53277, 53281, 53283, 53285, 53294, 53301, 53305, 53308, 53310, 53313, 53314, 53318, 53319, 53320, 53323, 53328, 53334, 53336, 53337, 53348, 53359, 53360, 53365, 53366, 53367, 53370, 53371, 53385, 53387, 53390, 53400, 53401, 53403, 53406, 53409, 53413, 53414, 53424, 53427, 53429, 53431, 53438, 53451, 53452, 53456, 53457, 53467, 53471, 53475, 53477, 53481, 53484, 53487, 53490, 53492, 53497, 53499, 53501, 53507, 53509, 53510, 53511, 53512, 53519, 53522, 53523, 53524, 53534, 53535, 53541, 53542, 53544, 53546, 53547, 53549, 53550, 53552, 53554, 53557, 53558, 53559, 53566, 53569, 53572, 53573, 53589, 53592, 53594, 53598, 53599, 53605, 53608, 53611, 53612, 53615, 53619, 53621, 53629, 53631, 53633, 53634, 53645, 53649, 53661, 53665, 53666, 53669, 53671, 53673, 53676, 53682, 53685, 53695, 53699, 53703, 53705, 53707, 53709, 53713, 53720, 53721, 53729, 53738, 53742, 53743, 53744, 53747, 53750, 53751, 53755, 53757, 53759, 53760, 53761, 53762, 53763, 53764, 53779, 53780, 53784, 53789, 53801, 53815, 53820, 53827, 53830, 53835, 53847, 53848, 53858, 53861, 53868, 53869, 53871, 53876, 53882, 53883, 53901, 53902, 53909, 53912, 53919, 53928, 53939, 53950, 53951, 53963, 53975, 53976, 53984, 53991, 54006, 54009, 54010, 54014, 54028, 54037, 54057, 54058, 54065, 54066, 54069, 54076, 54082, 54091, 54093, 54095, 54096, 54131, 54151, 54160, 54169, 54207, 54214, 54218, 54236, 54255, 54264, 54271, 54279, 54292, 54303, 54345, 54356, 54358, 54361, 54363, 54365, 54378, 54382, 54393, 54403, 54405, 54429, 54433, 54435, 54443, 54444, 54462, 54531, 54537, 54561, 54573, 54582, 54587, 54615, 54619, 54634, 54680, 54690, 54706, 54729, 54732, 54759, 54777, 54806, 54813, 54824, 54840, 54860, 54877, 54884, 54895, 54896, 54901, 54903, 54932, 54933, 54962, 54964, 54974, 54992, 54999, 55019, 55025, 55029, 55030, 55043, 55051, 55066, 55109, 55140, 55146, 55163, 55189, 55198, 55200, 55207, 55215, 55249, 55255, 55283, 55284, 55288, 55293, 55294, 55296, 55316, 55339, 55357, 55362, 55363, 55386, 55397, 55434, 55442, 55444, 55471, 55473, 55482, 55491, 55526, 55527, 55545, 55549, 55554, 55563, 55566, 55569, 55575, 55576, 55652, 55655, 55658, 55666, 55673, 55704, 55736, 55751, 55752, 55805, 55814, 55819, 55823, 55833, 55846, 55864, 55898, 55910, 55956, 55958, 55961, 55976, 55980, 55993, 56028, 56029, 56036, 56041, 56084, 56106, 56112, 56132, 56157, 56176, 56206, 56238, 56250, 56265, 56275, 56301, 56325, 56408, 56467, 56470, 56478, 56491, 56505, 56548, 56563, 56566, 56576, 56591, 56637, 56646, 56671, 56675, 56676, 56677, 56685, 56702, 56719, 56744, 56780, 56799, 56807, 56816, 56820, 56859, 56873, 56888, 56889, 56921, 56957, 56960, 56990, 57007, 57030, 57040, 57048, 57050, 57063, 57066, 57073, 57104, 57117, 57132, 57135, 57137, 57156, 57171, 57198, 57216, 57230, 57246, 57256, 57288, 57313, 57337, 57344, 57361, 57403, 57419, 57433, 57435, 57449, 57481, 57612, 57640, 57651, 57657, 57660, 57698, 57769, 57816, 57821, 57822, 57839, 57868, 57883, 57896, 57909, 57924, 57992, 57993, 58013, 58026, 58062, 58108, 58175, 58176, 58178, 58179, 58199, 58224, 58225, 58251, 58267, 58270, 58275, 58285, 58311, 58374, 58377, 58414, 58420, 58421, 58483, 58487, 58521, 58537, 58551, 58579, 58651, 58688, 58690, 58732, 58761, 58808, 58810, 58811, 58813, 58820, 58848, 58868, 58911, 58936, 58956, 58986, 59060, 59097, 59103, 59122, 59133, 59159, 59172, 59206, 59220, 59237, 59272, 59273, 59282, 59284, 59294, 59305, 59306, 59324, 59337, 59396, 59398, 59413, 59416, 59478, 59520, 59577, 59600, 59628, 59703, 59724, 59727, 59728, 59731, 59740, 59752, 59769, 59778, 59787, 59797, 59846, 59863, 59865, 59887, 59910, 59919, 59941, 59953, 59963, 60016, 60048, 60053, 60094, 60148, 60182, 60185, 60194, 60280, 60465, 60476, 60477, 60501, 60509, 60516, 60519, 60576, 60584, 60594, 60619, 60627, 60669, 60692, 60763, 60800, 60862, 60908, 60938, 60951, 60955, 60966, 60997, 61034, 61036, 61064, 61067, 61070, 61080, 61118, 61154, 61171, 61258, 61329, 61335, 61339, 61358, 61386, 61395, 61417, 61433, 61448, 61490, 61507, 61517, 61537, 61570, 61611, 61649, 61666, 61672, 61686, 61703, 61716, 61749, 61790, 61800, 61823, 61848, 61885, 61888, 61929, 61943, 61951, 61962, 61981, 61987, 62047, 62050, 62142, 62149, 62166, 62169, 62171, 62175, 62188, 62248, 62294, 62328, 62338, 62344, 62365, 62368, 62371, 62407, 62409, 62410, 62422, 62458, 62488, 62507, 62521, 62536, 62594, 62618, 62620, 62629, 62635, 62661, 62694, 62750, 62761, 62772, 62804, 62819, 62830, 62852, 62857, 62896, 62902, 62921, 62923, 62935, 62945, 62948, 62990, 62995, 63037, 63052, 63059, 63060, 63062, 63063, 63065, 63066, 63086, 63121, 63122, 63177, 63192, 63195, 63272, 63276, 63281, 63282, 63309, 63315, 63336, 63393, 63405, 63414, 63431, 63432, 63435, 63450, 63466, 63468, 63473, 63477, 63487, 63492, 63507, 63510, 63515, 63527, 63537, 63548, 63556, 63559, 63571, 63581, 63590, 63607, 63611, 63641, 63647, 63653, 63676, 63680, 63697, 63707, 63711, 63714, 63719, 63749, 63750, 63797, 63815, 63827, 63840, 63845, 63852, 63855, 63873, 63900, 63915, 63920, 63927, 63942, 63975, 63977, 63998, 64008, 64016, 64034, 64038, 64040, 64057, 64059, 64060, 64063, 64069, 64075, 64095, 64099, 64150, 64161, 64181, 64213, 64218, 64233, 64234, 64248, 64258, 64267, 64269, 64270, 64276, 64281, 64300, 64309, 64316, 64318, 64323, 64337, 64354, 64363, 64366, 64373, 64376, 64378, 64379, 64381, 64402, 64403, 64409, 64412, 64414, 64427, 64448, 64471, 64475, 64481, 64486, 64489, 64493, 64496, 64499, 64518, 64520, 64521, 64522, 64532, 64538, 64543, 64552, 64554, 64556, 64557, 64563, 64581, 64584, 64586, 64587, 64593, 64598, 64605, 64608, 64614, 64616, 64617, 64619, 64620, 64623, 64625, 64632, 64638, 64647, 64653, 64655, 64656, 64658, 64665, 64668, 64673, 64692, 64697, 64700, 64712, 64713, 64715, 64727, 64728, 64730, 64734, 64739, 64754, 64755, 64767, 64779, 64780, 64791, 64797, 64799, 64806, 64808, 64809, 64812, 64815, 64821, 64830, 64834, 64840, 64844, 64845, 64846, 64848, 64854, 64861, 64870, 64888, 64900, 64909, 64910, 64923, 64927, 64933, 64939, 64941, 64944, 64966, 64968, 64972, 64995, 65001, 65004, 65007, 65011, 65019, 65028, 65031, 65032, 65043, 65044, 65052, 65062, 65077, 65080, 65081, 65089, 65093, 65102, 65107, 65115, 65119, 65123, 65128, 65131, 65132, 65134, 65135, 65146, 65171, 65177, 65179, 65194, 65195, 65209, 65212, 65215, 65218, 65222, 65225, 65231, 65233, 65234, 65240, 65251, 65257, 65258, 65263, 65270, 65275, 65282, 65284, 65285, 65296, 65309, 65315, 65318, 65322, 65323, 65325, 65333, 65334, 65342, 65346, 65349, 65352, 65355, 65357, 65364, 65367, 65373, 65375, 65381, 65397, 65403, 65406, 65411, 65412, 65421, 65439, 65447, 65451, 65454, 65462, 65465, 65469, 65472, 65478, 65480, 65481, 65489, 65496, 65501, 65504, 65510, 65511, 65517, 65522, 65523, 65528, 65536, 65547, 65549, 65567, 65568, 65570, 65571, 65575, 65576, 65577, 65583, 65592, 65595, 65602, 65614, 65622, 65628, 65629, 65632, 65640, 65646, 65658, 65667, 65674, 65676, 65683, 65685, 65689, 65703, 65706, 65710, 65724, 65733, 65734, 65737, 65745, 65748, 65760, 65767, 65775, 65779, 65781, 65784, 65787, 65799, 65808, 65812, 65817, 65818, 65827, 65832, 65833, 65836, 65837, 65839, 65842, 65846, 65854, 65857, 65860, 65861, 65863, 65867, 65869, 65875, 65894, 65905, 65912, 65915, 65921, 65929, 65930, 65936, 65941, 65956, 65957, 65959, 65969, 65974, 65975, 65990, 65992, 65993, 65994, 65998, 66002, 66005, 66016, 66018, 66031, 66032, 66038, 66041, 66053, 66055, 66056, 66058, 66059, 66070, 66079, 66082, 66083, 66094, 66103, 66110, 66114, 66116, 66118, 66119, 66121, 66126, 66129, 66130, 66131, 66132, 66134, 66136, 66138, 66143, 66146, 66148, 66152, 66156, 66159, 66162, 66168, 66171, 66173, 66174, 66175, 66181, 66183, 66192, 66200, 66202, 66216, 66219, 66225, 66226, 66233, 66235, 66246, 66247, 66249, 66254, 66255, 66260, 66263, 66265, 66280, 66285, 66290, 66298, 66306, 66308, 66309, 66311, 66315, 66316, 66330, 66336, 66343, 66354, 66355, 66362, 66371, 66379, 66381, 66384, 66387, 66406, 66407, 66415, 66420, 66422, 66425, 66427, 66432, 66439, 66446, 66447, 66451, 66452, 66456, 66459, 66460, 66474, 66475, 66486, 66487, 66491, 66492, 66497, 66499, 66500, 66501, 66519, 66532, 66540, 66544, 66551, 66554, 66562, 66584, 66587, 66594, 66607, 66610, 66617, 66623, 66626, 66627, 66631, 66632, 66642, 66646, 66647, 66650, 66652, 66653, 66655, 66658, 66673, 66676, 66687, 66690, 66693, 66695, 66700, 66701, 66702, 66703, 66707, 66711, 66720, 66726, 66727, 66735, 66737, 66750, 66764, 66767, 66768, 66771, 66772, 66783, 66797, 66805, 66815, 66820, 66826, 66827, 66837, 66840, 66845, 66851, 66853, 66859, 66861, 66869, 66871, 66878, 66884, 66888, 66892, 66898, 66904, 66907, 66912, 66918, 66919, 66920, 66929, 66930, 66946, 66951, 66952, 66955, 66956, 66957, 66959, 66960, 66962, 66966, 66970, 66989, 66995, 66996, 67017, 67019, 67026, 67028, 67041, 67045, 67047, 67048, 67053, 67058, 67061, 67062, 67063, 67065, 67067, 67072, 67076, 67077, 67080, 67091, 67092, 67095, 67096, 67102, 67105, 67110, 67117, 67122, 67126, 67129, 67130, 67141, 67144, 67146, 67147, 67151, 67163, 67165, 67167, 67169, 67171, 67172, 67174, 67185, 67194, 67207, 67213, 67217, 67218, 67222, 67224, 67229, 67242, 67247, 67265, 67283, 67288, 67290, 67297, 67299, 67301, 67304, 67310, 67316, 67324, 67327, 67328, 67337, 67352, 67360, 67363, 67366, 67372, 67373, 67380, 67382, 67391, 67397, 67398, 67402, 67417, 67445, 67454, 67456, 67463, 67467, 67468, 67476, 67478, 67481, 67482, 67485, 67494, 67500, 67504, 67505, 67514, 67529, 67536, 67538, 67549, 67553, 67559, 67571, 67580, 67581, 67582, 67589, 67593, 67599, 67607, 67612, 67614, 67617, 67622, 67623, 67625, 67629, 67637, 67644, 67645, 67655, 67656, 67658, 67666, 67674, 67675, 67677, 67680, 67681, 67682, 67689, 67693, 67700, 67706, 67710, 67754, 67757, 67761, 67768, 67773, 67785, 67796, 67801, 67803, 67809, 67816, 67817, 67821, 67856, 67861, 67872, 67876, 67880, 67887, 67891, 67896, 67903, 67929, 67936, 67939, 67942, 67951, 67960, 67961, 67969, 67975, 67987, 67992, 68009, 68016, 68022, 68023, 68024, 68026, 68028, 68031, 68034, 68042, 68044, 68049, 68052, 68060, 68071, 68077, 68078, 68085, 68086, 68088, 68096, 68101, 68103, 68105, 68114, 68123, 68126, 68133, 68134, 68135, 68137, 68146, 68152, 68156, 68160, 68163, 68170, 68174, 68193, 68194, 68196, 68197, 68199, 68201, 68218, 68226, 68241, 68243, 68244, 68245, 68258, 68259, 68276, 68277, 68281, 68285, 68288, 68299, 68303, 68306, 68309, 68311, 68323, 68326, 68349, 68353, 68356, 68379, 68387, 68396, 68410, 68416, 68420, 68429, 68431, 68435, 68449, 68468, 68474, 68477, 68485, 68488, 68492, 68497, 68500, 68503, 68504, 68505, 68510, 68519, 68533, 68558, 68567, 68568, 68578, 68584, 68591, 68593, 68600, 68614, 68629, 68633, 68635, 68643, 68647, 68649, 68655, 68660, 68669, 68675, 68676, 68690, 68702, 68703, 68709, 68711, 68714, 68718, 68725, 68729, 68735, 68750, 68765, 68778, 68801, 68807, 68810, 68835, 68841, 68843, 68850, 68858, 68867, 68873, 68883, 68910, 68913, 68919, 68923, 68925, 68941, 68949, 68971, 68974, 68989, 69001, 69005, 69012, 69016, 69018, 69024, 69027, 69042, 69045, 69049, 69055, 69063, 69064, 69067, 69073, 69081, 69084, 69108, 69112, 69124, 69127, 69133, 69167, 69168, 69170, 69176, 69190, 69193, 69196, 69203, 69218, 69220, 69226, 69235, 69236, 69242, 69248, 69259, 69263, 69271, 69275, 69289, 69290, 69295, 69311, 69313, 69320, 69322, 69323, 69326, 69331, 69332, 69337, 69341, 69346, 69352, 69356, 69358, 69367, 69383, 69385, 69389, 69405, 69416, 69422, 69428, 69432, 69447, 69449, 69450, 69461, 69462, 69467, 69468, 69470, 69476, 69477, 69482, 69486, 69497, 69513, 69518, 69532, 69537, 69548, 69558, 69566, 69572, 69600, 69605, 69606, 69618, 69623, 69635, 69656, 69657, 69673, 69675, 69678, 69682, 69685, 69696, 69700, 69703, 69712, 69714, 69721, 69724, 69736, 69744, 69747, 69750, 69753, 69759, 69760, 69774, 69777, 69781, 69784, 69793, 69795, 69796, 69817, 69858, 69859, 69867, 69885, 69897, 69898, 69904, 69909, 69916, 69920, 69922, 69940, 69943, 69958, 69964, 69967, 69980, 70013, 70018, 70025, 70028, 70036, 70052, 70070, 70076, 70078, 70094, 70096, 70099, 70102, 70103, 70108, 70118, 70121, 70124, 70128, 70132, 70133, 70135, 70151, 70165, 70168, 70173, 70190, 70191, 70217, 70224, 70226, 70238, 70250, 70257, 70260, 70271, 70277, 70281, 70283, 70295, 70298, 70304, 70314, 70340, 70362, 70365, 70377, 70379, 70388, 70394, 70397, 70401, 70412, 70443, 70447, 70471, 70494, 70504, 70506, 70524, 70536, 70554, 70567, 70575, 70581, 70582, 70599, 70600, 70608, 70609, 70612, 70615, 70617, 70624, 70633, 70635, 70647, 70648, 70657, 70665, 70669, 70675, 70708, 70712, 70714, 70724, 70726, 70730, 70745, 70747, 70748, 70757, 70762, 70769, 70771, 70772, 70775, 70793, 70795, 70804, 70823, 70829, 70834, 70838, 70843, 70846, 70856, 70858, 70861, 70862, 70868, 70892, 70898, 70915, 70925, 70928, 70935, 70956, 70959, 70965, 70977, 70998, 71015, 71016, 71022, 71024, 71030, 71042, 71044, 71063, 71064, 71066, 71076, 71079, 71099, 71103, 71105, 71121, 71130, 71135, 71136, 71150, 71153, 71174, 71180, 71184, 71206, 71208, 71209, 71211, 71217, 71218, 71226, 71232, 71233, 71241, 71242, 71248, 71254, 71257, 71268, 71269, 71275, 71284, 71286, 71292, 71302, 71304, 71311, 71317, 71319, 71340, 71346, 71356, 71362, 71368, 71374, 71377, 71385, 71386, 71391, 71392, 71399, 71408, 71412, 71416, 71427, 71433, 71437, 71440, 71448, 71449, 71450, 71490, 71507, 71513, 71525, 71526, 71530, 71585, 71589, 71603, 71606, 71609, 71614, 71615, 71623, 71633, 71639, 71640, 71646, 71651, 71654, 71655, 71656, 71657, 71708, 71719, 71728, 71743, 71754, 71766, 71767, 71782, 71786, 71789, 71794, 71819, 71822, 71854, 71861, 71864, 71868, 71878, 71882, 71887, 71889, 71924, 71926, 71928, 71944, 71948, 71949, 71957, 71969, 71978, 71988, 71989, 71995, 71999, 72005, 72010, 72035, 72037, 72039, 72054, 72062, 72064, 72065, 72068, 72069, 72073, 72082, 72090, 72100, 72102, 72105, 72107, 72108, 72113, 72117, 72118, 72128, 72132, 72137, 72138, 72144, 72150, 72168, 72182, 72185, 72189, 72195, 72198, 72199, 72208, 72218, 72219, 72228, 72232, 72233, 72234, 72239, 72253, 72255, 72261, 72288, 72295, 72301, 72303, 72304, 72323, 72324, 72329, 72343, 72355, 72357, 72367, 72373, 72374, 72379, 72394, 72407, 72412, 72413, 72417, 72418, 72423, 72425, 72429, 72431, 72432, 72442, 72443, 72446, 72451, 72453, 72457, 72472, 72476, 72477, 72481, 72491, 72513, 72514, 72517, 72528, 72534, 72536, 72540, 72542, 72567, 72576, 72580, 72582, 72583, 72589, 72606, 72608, 72609, 72611, 72612, 72634, 72645, 72657, 72661, 72666, 72670, 72679, 72694, 72700, 72707, 72718, 72724, 72728, 72731, 72737, 72738, 72739, 72753, 72761, 72770, 72777, 72781, 72788, 72789, 72793, 72796, 72797, 72810, 72815, 72818, 72823, 72834, 72837, 72838, 72843, 72844, 72848, 72851, 72855, 72866, 72876, 72880, 72881, 72882, 72887, 72891, 72909, 72910, 72911, 72922, 72925, 72931, 72935, 72946, 72953, 72962, 72965, 72968, 72973, 72980, 72982, 72989, 72996, 73006, 73018, 73021, 73025, 73032, 73035, 73040, 73043, 73044, 73059, 73065, 73066, 73069, 73079, 73080, 73081, 73084, 73087, 73095, 73106, 73109, 73117, 73119, 73124, 73128, 73131, 73132, 73136, 73146, 73158, 73161, 73163, 73167, 73172, 73174, 73176, 73182, 73183, 73185, 73194, 73218, 73222, 73226, 73231, 73232, 73235, 73241, 73243, 73245, 73246, 73249, 73250, 73252, 73254, 73261, 73263, 73268, 73278, 73282, 73289, 73294, 73311, 73319, 73330, 73341, 73348, 73360, 73364, 73368, 73370, 73381, 73388, 73392, 73403, 73404, 73408, 73412, 73418, 73421, 73429, 73434, 73441, 73444, 73456, 73465, 73469, 73474, 73489, 73496, 73499, 73506, 73507, 73511, 73529, 73532, 73545, 73561, 73566, 73572, 73576, 73583, 73611, 73613, 73618, 73620, 73628, 73643, 73650, 73651, 73654, 73657, 73658, 73666, 73682, 73693, 73699, 73702, 73716, 73717, 73726, 73728, 73743, 73749, 73760, 73764, 73766, 73782, 73785, 73790, 73814, 73821, 73853, 73859, 73863, 73875, 73889, 73895, 73904, 73916, 73920, 73928, 73929, 73943, 73953, 73968, 73971, 73979, 73992, 74002, 74013, 74020, 74025, 74040, 74044, 74055, 74065, 74067, 74080, 74095, 74097, 74101, 74107, 74116, 74121, 74142, 74149, 74169, 74170, 74175, 74200, 74203, 74232, 74241, 74257, 74267, 74270, 74273, 74276, 74305, 74306, 74320, 74323, 74333, 74336, 74338, 74351, 74365, 74371, 74374, 74425, 74447, 74473, 74477, 74495, 74497, 74517, 74537, 74538, 74553, 74564, 74576, 74588, 74591, 74594, 74595, 74598, 74601, 74604, 74609, 74658, 74660, 74675, 74679, 74685, 74691, 74699, 74702, 74706, 74711, 74742, 74744, 74769, 74773, 74778, 74784, 74787, 74794, 74796, 74817, 74833, 74844, 74857, 74880, 74895, 74899, 74916, 74922, 74928, 74938, 74943, 74964, 74968, 74986, 74989, 74994, 75001, 75003, 75007, 75023, 75026, 75046, 75053, 75065, 75067, 75085, 75086, 75094, 75095, 75098, 75100, 75104, 75116, 75122, 75127, 75128, 75142, 75147, 75163, 75170, 75171, 75172, 75178, 75190, 75193, 75196, 75203, 75206, 75208, 75209, 75212, 75227, 75235, 75256, 75272, 75279, 75281, 75290, 75294, 75296, 75297, 75298, 75308, 75312, 75315, 75321, 75326, 75344, 75353, 75354, 75360, 75362, 75365, 75372, 75374, 75375, 75378, 75387, 75389, 75396, 75399, 75429, 75449, 75464, 75467, 75486, 75488, 75491, 75503, 75515, 75518, 75531, 75532, 75543, 75555, 75559, 75562, 75573, 75574, 75577, 75582, 75606, 75618, 75621, 75628, 75630, 75646, 75655, 75679, 75699, 75706, 75711, 75714, 75735, 75744, 75754, 75758, 75771, 75793, 75794, 75797, 75818, 75827, 75830, 75837, 75838, 75853, 75874, 75884, 75886, 75892, 75893, 75899, 75914, 75919, 75925, 75928, 75934, 75952, 75955, 75964, 75970, 75977, 76001, 76003, 76033, 76038, 76046, 76048, 76067, 76079, 76110, 76116, 76128, 76136, 76140, 76151, 76157, 76178, 76187, 76193, 76196, 76248, 76270, 76283, 76287, 76333, 76348, 76351, 76357, 76368, 76372, 76374, 76420, 76434, 76458, 76468, 76474, 76476, 76492, 76494, 76500, 76509, 76515, 76516, 76527, 76540, 76564, 76567, 76576, 76577, 76588, 76595, 76604, 76621, 76622, 76625, 76628, 76643, 76649, 76652, 76664, 76676, 76697, 76703, 76706, 76711, 76712, 76715, 76720, 76721, 76726, 76730, 76732, 76754, 76759, 76781, 76786, 76787, 76806, 76815, 76827, 76864, 76871, 76873, 76887, 76898, 76899, 76903, 76911, 76927, 76933, 76939, 76944, 76947, 76956, 76963, 76972, 76975, 76988, 77036, 77041, 77050, 77060, 77064, 77075, 77091, 77095, 77099, 77126, 77137, 77155, 77163, 77187, 77190, 77191, 77201, 77206, 77240, 77246, 77247, 77248, 77251, 77262, 77270, 77284, 77289, 77296, 77320, 77342, 77351, 77352, 77355, 77357, 77370, 77375, 77392, 77398, 77406, 77412, 77415, 77416, 77427, 77458, 77460, 77470, 77471, 77472, 77483, 77487, 77491, 77502, 77505, 77510, 77512, 77518, 77521, 77525, 77561, 77563, 77576, 77577, 77586, 77598, 77606, 77612, 77619, 77641, 77646, 77656, 77662, 77674, 77678, 77682, 77683, 77689, 77691, 77697, 77708, 77748, 77756, 77763, 77765, 77768, 77772, 77776, 77791, 77798, 77802, 77809, 77827, 77832, 77842, 77868, 77874, 77899, 77900, 77920, 77962, 77971, 77974, 77975, 78001, 78006, 78007, 78010, 78025, 78026, 78029, 78030, 78033, 78047, 78056, 78067, 78077, 78092, 78123, 78134, 78136, 78166, 78173, 78183, 78184, 78213, 78224, 78232, 78239, 78276, 78294, 78295, 78299, 78316, 78324, 78328, 78358, 78369, 78382, 78402, 78431, 78443, 78452, 78522, 78523, 78530, 78545, 78547, 78558, 78588, 78597, 78622, 78634, 78645, 78653, 78659, 78672, 78675, 78681, 78708, 78726, 78766, 78803, 78859, 78910, 78987, 79045, 79056, 79066, 79088, 79090, 79093, 79105, 79183, 79195, 79248, 79310, 79315, 79323, 79342, 79381, 79429, 79452, 79460, 79564, 79594, 79595, 79637, 79674, 79791, 79827, 79855, 80008, 80023, 80091, 80309, 80337, 80565, 80572, 80635, 80678, 81071, 81305, 81400, 81518, 81794, 81803, 81920, 81993, 82051, 82180, 82485, 82549, 82656, 82693, 82782, 82850, 83093, 83205, 83238, 83283, 83408, 83445, 83519, 83601, 83724, 83747, 83816, 83915, 83992, 84047, 84250, 84388, 84413, 84481, 84494, 84503, 84540, 84638, 84828, 84905, 84907, 84921, 85058, 85060, 85285, 85382, 85403, 85405, 85465, 85750, 85783, 85813, 85890, 85936, 86124, 86139, 86153, 86379, 86381, 86411, 86465, 86468, 86494, 86984, 87040, 87210, 87282, 87361, 87363, 87377, 87749, 87763, 87766, 87878, 87920, 88016, 88311, 88378, 88411, 88441, 88555, 88567, 88610, 88744, 88751, 88767, 88857, 88877, 88887, 88891, 89208, 89319, 89495, 89716, 90112, 90116, 90197, 90214, 90323, 90387, 90684, 90735, 90755, 90851, 90910, 91047, 91123, 91141, 91159, 91319, 91409, 91595, 91829, 91915, 91962, 92199, 92229, 92233, 92420, 92476, 92477, 92490, 92549, 92620, 92900, 93276, 93461, 93501, 93671, 93923, 94009, 94227, 94403, 94578, 94916, 94934, 95235, 95582, 95661, 95722, 95736, 95805, 95922, 96036, 96064, 96255, 96265, 96345, 96469, 96559, 96901, 96944, 97035, 97042, 97220, 97227, 97404, 97545, 97675, 97747, 97749, 98046, 98304, 98327, 98396, 98655, 98728, 98745, 98749, 99231, 99248, 99570, 99652, 99782, 99808, 99852, 99870, 99942, 99981, 100203, 100223, 100268, 100269, 100481, 100665, 100705, 100851, 101087, 101095, 101267, 101360, 101465, 101521, 101571, 101647, 101688, 101691, 101950, 102016, 102105, 102326, 102358, 102381, 102500, 103191, 103193, 103367, 103657, 103736, 103839, 104278, 104404, 104455, 104493, 104549, 104562, 104579, 104736, 104914, 104916, 104981, 104987, 105040, 105052, 105210, 105324, 105571, 105766, 105768, 106008, 106334, 106352, 106418, 106496, 106517, 106535, 106586, 106714, 106928, 107123, 107126, 107133, 107198, 107321, 107330, 107469, 107484, 107593, 108069, 108128, 108237, 108434, 108832, 108984, 109165, 109279, 109356, 109358, 109388, 109448, 109592, 109606, 109712, 110052, 110102, 110110, 110452, 110456, 110694, 110856, 110875, 110993, 111060, 111517, 111944, 112064, 112322, 112331, 112349, 112416, 112573, 112815, 113007, 113289, 113364, 113478, 113610, 113873, 113876, 113886, 113946, 114139, 114688, 114813, 114995, 115345, 115348, 115498, 115546, 115599, 115636, 115854, 115903, 116075, 116123, 116155, 116194, 116197, 116365, 116367, 116479, 116555, 116798, 117063, 117168, 117170, 117547, 118600, 118824, 118869, 119105, 119122, 119175, 119190, 119354, 119357, 119441, 119561, 119594, 119623, 119768, 120053, 120227, 120291, 121141, 121267, 121758, 122209, 122494, 122716, 122880, 122997, 123117, 123359, 123531, 123591, 123710, 124379, 124381, 124444, 124457, 124759, 124991, 125249, 125691, 125771, 126692, 127045, 127130, 127372, 127470, 127557, 127564, 127711, 127775, 127871, 128819, 128881, 128894, 129498, 129824, 130081, 130427, 130481, 130724, 130811, 130866, 130876, 130902, 130925, 130927, 130928, 131072, 131104, 131107, 131163, 131165, 131166, 131168, 131243, 131486, 131658, 132025, 132176, 132188, 132268, 132406, 132627, 132697, 132942, 133270, 133376, 133580, 133693, 133791, 134220, 134392, 134413, 134774, 134858, 134910, 134949, 135384, 135470, 135561, 135584, 135624, 135702, 135743, 136166, 136804, 136806, 136860, 137160, 137403, 138294, 138467, 138988, 139168, 139264, 139500, 139505, 139911, 139990, 140364, 140644, 140688, 140745, 140787, 140805, 140927, 141166, 141308, 141395, 142051, 142145, 142188, 142213, 142215, 142275, 142534, 142603, 142756, 142983, 143703, 144114, 144361, 144397, 144742, 144849, 144990, 145080, 145520, 145810, 146231, 146325, 146577, 146589, 146717, 146816, 147105, 147230, 147456, 147490, 147585, 147667, 147730, 147808, 148082, 148499, 148757, 149051, 149114, 149121, 149317, 149444, 149490, 149519, 150199, 150299, 150525, 151103, 151645, 152454, 152595, 152676, 152679, 153240, 153362, 153439, 153725, 154200, 154223, 154290, 154523, 154669, 154678, 154988, 155648, 156447, 156534, 156760, 156828, 156874, 156992, 157052, 157152, 157313, 157826, 158030, 158068, 158202, 158447, 158555, 158745, 158941, 159004, 159011, 159062, 159129, 159431, 159673, 159794, 159813, 159921, 160051, 160116, 160543, 160627, 161060, 161158, 161232, 161541, 161653, 161920, 161922, 162421, 162605, 162719, 162777, 162908, 162913, 163031, 163063, 163182, 163195, 163258, 163741, 163786, 163840, 163953, 164037, 164056, 164281, 164466, 164562, 164646, 164670, 164707, 164952, 165448, 165550, 165722, 165768, 166183, 166204, 166277, 166955, 167169, 167249, 167448, 167533, 167615, 167692, 167826, 167843, 168093, 168536, 168657, 168988, 169190, 169831, 169883, 170130, 170209, 170265, 170295, 170406, 171219, 171325, 171870, 171887, 171925, 172032, 172453, 172498, 172537, 172605, 173319, 173401, 173576, 173919, 173980, 173983, 174016, 174018, 174019, 174452, 174454, 174455, 174457, 174514, 174518, 174609, 175332, 175558, 175591, 175619, 175621, 175759, 176101, 176414, 176581, 177086, 177274, 177395, 177415, 177937, 178050, 178735, 178950, 179107, 180106, 180224, 181519, 181791, 182126, 182323, 182610, 182894, 182914, 183219, 184095, 184149, 185045, 185370, 185636, 185818, 185825, 185923, 186720, 187300, 187531, 188157, 188416, 188546, 188666, 189038, 189067, 189208, 189287, 189847, 189856, 189900, 190269, 190418, 190573, 190667, 190757, 191120, 191829, 191954, 192319, 192340, 192755, 193054, 193196, 193663, 193700, 194441, 194680, 195012, 195155, 195299, 195757, 195867, 196608, 196777, 196989, 197651, 198086, 198198, 198216, 198285, 198390, 198471, 198686, 199220, 199231, 199278, 199526, 199636, 199746, 200023, 200051, 200053, 200243, 200688, 200787, 201176, 202446, 203142, 203145, 203413, 203429, 203448, 203887, 204800, 204859, 205184, 205748, 205904, 206222, 206329, 206344, 206458, 206807, 207395, 207699, 208028, 209237, 209356, 209473, 209507, 209645, 209905, 209976, 210277, 210472, 210533, 210882, 211329, 211758, 211997, 212290, 212530, 212992, 213076, 213174, 213844, 214436, 214611, 215162, 215409, 215411, 215432, 217289, 218249, 218371, 218390, 218446, 219675, 220526, 220803, 220870, 220985, 220992, 221011, 221184, 221419, 221426, 221696, 221860, 221980, 222059, 222133, 222788, 222832, 224192, 224210, 224494, 225774, 226200, 226251, 226287, 226436, 226860, 227892, 228220, 228440, 228714, 229074, 229209, 229338, 229376, 230271, 230479, 231790, 231973, 232393, 232591, 232790, 233842, 234150, 234206, 234648, 234846, 234977, 235030, 235052, 235101, 235735, 235839, 235862, 236269, 236355, 236521, 236998, 237042, 237327, 237568, 237663, 237672, 238143, 238239, 238411, 238493, 238847, 239045, 239147, 239269, 239342, 239429, 239444, 239521, 239722, 239904, 239962, 240028, 240249, 240406, 240458, 240531, 240772, 240963, 241160, 241209, 241221, 241302, 241368, 241603, 241853, 242121, 242247, 242293, 242335, 242561, 243512, 244950, 245760, 246534, 246665, 247843, 247998, 249157, 250843, 250849, 253257, 253678, 253952, 254209, 254533, 254633, 255754, 256771, 256806, 257194, 257828, 257875, 258162, 258334, 258766, 258839, 261008, 261356, 262082, 262144, 265138, 265272, 265743, 265987, 266273, 268783, 270336, 271473, 274059, 274189, 274985, 275517, 276721, 277423, 277518, 278528, 278560, 279854, 280014, 280354, 282197, 283389, 283528, 284874, 286229, 286688, 286720, 288091, 288981, 289337, 289892, 289919, 291945, 292236, 294008, 294233, 294912, 295161, 296052, 297851, 298302, 298853, 298878, 299190, 299403, 299697, 300870, 301235, 301281, 302386, 302628, 303104, 304560, 305236, 305315, 305647, 305722, 308740, 310570, 311296, 311519, 312024, 314253, 314400, 316945, 319206, 319488, 322802, 326004, 327381, 327520, 327680, 329521, 331445, 332556, 332828, 333264, 333863, 335872, 337360, 337555, 338399, 339877, 344064, 346187, 347930, 352138, 352248, 352256, 353332, 359062, 360448, 368413, 368640, 369047, 372172, 373188, 373657, 374987, 375226, 376693, 376832, 377238, 385024, 387662, 392932, 393216, 395231, 401408, 401595, 402466, 404382, 406106, 409600, 417792, 420854, 422033, 425984, 426940, 433399, 434176, 434759, 438460, 439760, 442368, 446883, 447453, 450560, 456893, 458752, 460339, 465250, 466671, 466944, 475136, 476083, 483328, 487455, 488494, 491520, 497430, 499177, 499712, 501126, 507904, 513911, 516096, 516688, 517624, 524288, 532480, 533406, 537920, 540672, 543680, 548658, 548864, 557056, 565248, 569296, 569688, 573440, 579732, 580710, 581632, 583607, 586769, 588606, 589824, 590345, 593699, 594246, 598016, 602394, 606208, 608220, 612927, 614400, 614799, 615470, 616828, 622592, 624036, 628083, 629622, 630784, 634657, 638976, 647168, 655211, 655360, 663552, 664733, 668858, 671744, 679936, 681125, 683594, 685487, 688128, 692697, 692912, 696320, 704512, 705039, 710461, 712704, 717587, 720896, 722165, 726461, 729088, 737280, 745472, 747520, 753664, 761856, 769761, 770048, 773469, 773470, 778240, 786432, 790897, 794624, 802816, 806727, 811008, 818032, 819200, 821947, 821965, 821989, 827392, 835394, 835584, 843776, 846656, 851968, 852121, 859159, 859175, 859736, 859759, 859768, 859778, 859782, 860160, 861740, 868352, 876544, 884736, 887988, 892928, 901120, 909312, 917504, 925696, 929196, 933888, 936810, 942080, 946425, 950272, 952257, 958464, 966656, 974848, 977801, 983040, 991232, 997451, 999424, 1007616, 1013716, 1015808, 1024000, 1030878, 1032192, 1040384, 1043093, 1048576, 1056768, 1064960, 1065779, 1073152, 1081049, 1081344, 1082916, 1083124, 1089536, 1097728, 1105920, 1114112, 1121554, 1130496, 1138688, 1155072, 1163264, 1169007, 1182717, 1187840, 1188908, 1196032, 1201961, 1220608, 1236992, 1239732, 1245184, 1269716, 1318912, 1392640, 1400832, 1417216, 1449953, 1507328, 1572864, 1589248, 1613824, 1646592, 1654784, 1671168, 1695744, 1724752, 1767078, 1769472, 1892352, 1925120, 1943014, 1969293, 1975581, 2015232, 2048000, 2220032, 2572288, 2661134, 2785280, 2854989, 2889868, 2957312, 2973350, 2981888, 3155499, 3421948, 6823936]\n"
     ]
    }
   ],
   "source": [
    "content_freq_df = (logs_df\n",
    "                     .groupBy('content_size')\n",
    "                     .count()\n",
    "                     .sort('content_size')\n",
    "                     .cache())\n",
    "\n",
    "print('Total content_size: ',content_freq_df.count())\n",
    "# Display unique method names\n",
    "unique_methods = content_freq_df.select(\"content_size\").rdd.flatMap(lambda x: x).collect()\n",
    "print(\"Unique content:\", unique_methods)"
   ]
  },
  {
   "cell_type": "code",
   "execution_count": 44,
   "id": "11fd116a",
   "metadata": {},
   "outputs": [
    {
     "name": "stdout",
     "output_type": "stream",
     "text": [
      "Total method:  5\n",
      "Unique method names: ['', 'GET', 'HEAD', 'POST', \"�|\\x05\\x11t\\x03�9ð'À|\\x05\\x11u\"]\n"
     ]
    }
   ],
   "source": [
    "method_freq_df = (logs_df\n",
    "                     .groupBy('method')\n",
    "                     .count()\n",
    "                     .sort('method')\n",
    "                     .cache())\n",
    "\n",
    "print('Total method: ',method_freq_df.count())\n",
    "# Display unique method names\n",
    "unique_methods = method_freq_df.select(\"method\").rdd.flatMap(lambda x: x).collect()\n",
    "print(\"Unique method names:\", unique_methods)\n"
   ]
  },
  {
   "cell_type": "code",
   "execution_count": 45,
   "id": "ae44c37a",
   "metadata": {},
   "outputs": [
    {
     "name": "stdout",
     "output_type": "stream",
     "text": [
      "+---------------+-------+\n",
      "|         method|  count|\n",
      "+---------------+-------+\n",
      "|           POST|    222|\n",
      "|           HEAD|   7915|\n",
      "|            GET|3451720|\n",
      "|               |   1753|\n",
      "|�|\u0005\u0011t\u0003�9ð'À|\u0005\u0011u|      2|\n",
      "+---------------+-------+\n",
      "\n"
     ]
    }
   ],
   "source": [
    "# Group by 'method' column and count occurrences of each method\n",
    "method_counts = logs_df.groupBy(\"method\").count()\n",
    "\n",
    "# Show the counts of each method\n",
    "method_counts.show()\n"
   ]
  },
  {
   "cell_type": "code",
   "execution_count": null,
   "id": "7029514a3b97c557",
   "metadata": {
    "ExecuteTime": {
     "end_time": "2024-10-17T07:18:00.648166700Z",
     "start_time": "2024-10-17T04:12:49.149074Z"
    }
   },
   "outputs": [
    {
     "data": {
      "text/html": [
       "<div>\n",
       "<style scoped>\n",
       "    .dataframe tbody tr th:only-of-type {\n",
       "        vertical-align: middle;\n",
       "    }\n",
       "\n",
       "    .dataframe tbody tr th {\n",
       "        vertical-align: top;\n",
       "    }\n",
       "\n",
       "    .dataframe thead th {\n",
       "        text-align: right;\n",
       "    }\n",
       "</style>\n",
       "<table border=\"1\" class=\"dataframe\">\n",
       "  <thead>\n",
       "    <tr style=\"text-align: right;\">\n",
       "      <th></th>\n",
       "      <th>status</th>\n",
       "      <th>count</th>\n",
       "    </tr>\n",
       "  </thead>\n",
       "  <tbody>\n",
       "    <tr>\n",
       "      <th>0</th>\n",
       "      <td>200</td>\n",
       "      <td>3100524</td>\n",
       "    </tr>\n",
       "    <tr>\n",
       "      <th>2</th>\n",
       "      <td>304</td>\n",
       "      <td>266773</td>\n",
       "    </tr>\n",
       "    <tr>\n",
       "      <th>1</th>\n",
       "      <td>302</td>\n",
       "      <td>73070</td>\n",
       "    </tr>\n",
       "    <tr>\n",
       "      <th>5</th>\n",
       "      <td>404</td>\n",
       "      <td>20899</td>\n",
       "    </tr>\n",
       "    <tr>\n",
       "      <th>4</th>\n",
       "      <td>403</td>\n",
       "      <td>225</td>\n",
       "    </tr>\n",
       "    <tr>\n",
       "      <th>6</th>\n",
       "      <td>500</td>\n",
       "      <td>65</td>\n",
       "    </tr>\n",
       "    <tr>\n",
       "      <th>7</th>\n",
       "      <td>501</td>\n",
       "      <td>41</td>\n",
       "    </tr>\n",
       "    <tr>\n",
       "      <th>3</th>\n",
       "      <td>400</td>\n",
       "      <td>15</td>\n",
       "    </tr>\n",
       "  </tbody>\n",
       "</table>\n",
       "</div>"
      ],
      "text/plain": [
       "   status    count\n",
       "0     200  3100524\n",
       "2     304   266773\n",
       "1     302    73070\n",
       "5     404    20899\n",
       "4     403      225\n",
       "6     500       65\n",
       "7     501       41\n",
       "3     400       15"
      ]
     },
     "execution_count": 41,
     "metadata": {},
     "output_type": "execute_result"
    }
   ],
   "source": [
    "status_freq_pd_df = (status_freq_df\n",
    "                         .toPandas()\n",
    "                         .sort_values(by=['count'],\n",
    "                                      ascending=False))\n",
    "status_freq_pd_df"
   ]
  },
  {
   "cell_type": "code",
   "execution_count": null,
   "id": "5e31b7e9",
   "metadata": {},
   "outputs": [],
   "source": [
    "method_pd_df = (status_freq_df\n",
    "                         .toPandas()\n",
    "                         .sort_values(by=['count'],\n",
    "                                      ascending=False))\n",
    "method_pd_df"
   ]
  },
  {
   "cell_type": "code",
   "execution_count": null,
   "id": "f3dcab69",
   "metadata": {},
   "outputs": [
    {
     "name": "stdout",
     "output_type": "stream",
     "text": [
      "Defaulting to user installation because normal site-packages is not writeableNote: you may need to restart the kernel to use updated packages.\n",
      "\n",
      "Requirement already satisfied: seaborn in c:\\users\\lethi\\appdata\\roaming\\python\\python39\\site-packages (0.13.2)\n",
      "Requirement already satisfied: numpy!=1.24.0,>=1.20 in c:\\users\\lethi\\appdata\\roaming\\python\\python39\\site-packages (from seaborn) (2.0.2)\n",
      "Requirement already satisfied: pandas>=1.2 in c:\\users\\lethi\\appdata\\roaming\\python\\python39\\site-packages (from seaborn) (2.2.3)\n",
      "Requirement already satisfied: matplotlib!=3.6.1,>=3.4 in c:\\users\\lethi\\appdata\\roaming\\python\\python39\\site-packages (from seaborn) (3.9.2)\n",
      "Requirement already satisfied: contourpy>=1.0.1 in c:\\users\\lethi\\appdata\\roaming\\python\\python39\\site-packages (from matplotlib!=3.6.1,>=3.4->seaborn) (1.3.0)\n",
      "Requirement already satisfied: cycler>=0.10 in c:\\users\\lethi\\appdata\\roaming\\python\\python39\\site-packages (from matplotlib!=3.6.1,>=3.4->seaborn) (0.12.1)\n",
      "Requirement already satisfied: fonttools>=4.22.0 in c:\\users\\lethi\\appdata\\roaming\\python\\python39\\site-packages (from matplotlib!=3.6.1,>=3.4->seaborn) (4.54.1)\n",
      "Requirement already satisfied: kiwisolver>=1.3.1 in c:\\users\\lethi\\appdata\\roaming\\python\\python39\\site-packages (from matplotlib!=3.6.1,>=3.4->seaborn) (1.4.7)\n",
      "Requirement already satisfied: packaging>=20.0 in c:\\users\\lethi\\appdata\\roaming\\python\\python39\\site-packages (from matplotlib!=3.6.1,>=3.4->seaborn) (24.1)\n",
      "Requirement already satisfied: pillow>=8 in c:\\users\\lethi\\appdata\\roaming\\python\\python39\\site-packages (from matplotlib!=3.6.1,>=3.4->seaborn) (10.4.0)\n",
      "Requirement already satisfied: pyparsing>=2.3.1 in c:\\users\\lethi\\appdata\\roaming\\python\\python39\\site-packages (from matplotlib!=3.6.1,>=3.4->seaborn) (3.2.0)\n",
      "Requirement already satisfied: python-dateutil>=2.7 in c:\\users\\lethi\\appdata\\roaming\\python\\python39\\site-packages (from matplotlib!=3.6.1,>=3.4->seaborn) (2.9.0.post0)\n",
      "Requirement already satisfied: importlib-resources>=3.2.0 in c:\\users\\lethi\\appdata\\roaming\\python\\python39\\site-packages (from matplotlib!=3.6.1,>=3.4->seaborn) (6.4.5)\n",
      "Requirement already satisfied: pytz>=2020.1 in c:\\users\\lethi\\appdata\\roaming\\python\\python39\\site-packages (from pandas>=1.2->seaborn) (2024.2)\n",
      "Requirement already satisfied: tzdata>=2022.7 in c:\\users\\lethi\\appdata\\roaming\\python\\python39\\site-packages (from pandas>=1.2->seaborn) (2024.2)\n",
      "Requirement already satisfied: zipp>=3.1.0 in c:\\users\\lethi\\appdata\\roaming\\python\\python39\\site-packages (from importlib-resources>=3.2.0->matplotlib!=3.6.1,>=3.4->seaborn) (3.20.2)\n",
      "Requirement already satisfied: six>=1.5 in c:\\users\\lethi\\appdata\\roaming\\python\\python39\\site-packages (from python-dateutil>=2.7->matplotlib!=3.6.1,>=3.4->seaborn) (1.16.0)\n"
     ]
    }
   ],
   "source": [
    "pip install seaborn"
   ]
  },
  {
   "cell_type": "code",
   "execution_count": null,
   "id": "27ba43044d62016b",
   "metadata": {
    "ExecuteTime": {
     "end_time": "2024-10-17T07:18:00.648166700Z",
     "start_time": "2024-10-17T05:06:23.221957Z"
    }
   },
   "outputs": [
    {
     "data": {
      "text/plain": [
       "<seaborn.axisgrid.FacetGrid at 0x205102f1a00>"
      ]
     },
     "execution_count": 43,
     "metadata": {},
     "output_type": "execute_result"
    },
    {
     "data": {
      "image/png": "[encoded data removed]",
      "text/plain": [
       "<Figure size 511.111x500 with 1 Axes>"
      ]
     },
     "metadata": {},
     "output_type": "display_data"
    }
   ],
   "source": [
    "import matplotlib.pyplot as plt\n",
    "import seaborn as sns\n",
    "import numpy as np\n",
    "%matplotlib inline\n",
    "\n",
    "sns.catplot(x='status', y='count', data=status_freq_pd_df, \n",
    "            kind='bar', order=status_freq_pd_df['status'])"
   ]
  },
  {
   "cell_type": "code",
   "execution_count": null,
   "id": "584a0e04177252a5",
   "metadata": {},
   "outputs": [
    {
     "name": "stdout",
     "output_type": "stream",
     "text": [
      "+------+-------+------------------+\n",
      "|status|  count|        log(count)|\n",
      "+------+-------+------------------+\n",
      "|   200|3100524|14.947081687429097|\n",
      "|   302|  73070|11.199173164785263|\n",
      "|   304| 266773|12.494153388502301|\n",
      "|   400|     15|  2.70805020110221|\n",
      "|   403|    225|  5.41610040220442|\n",
      "|   404|  20899| 9.947456589918252|\n",
      "|   500|     65| 4.174387269895637|\n",
      "|   501|     41| 3.713572066704308|\n",
      "+------+-------+------------------+\n",
      "\n"
     ]
    }
   ],
   "source": [
    "log_freq_df = status_freq_df.withColumn('log(count)', F.log(status_freq_df['count']))\n",
    "log_freq_df.show()"
   ]
  },
  {
   "cell_type": "code",
   "execution_count": null,
   "id": "66226ca3",
   "metadata": {},
   "outputs": [
    {
     "data": {
      "text/plain": [
       "<seaborn.axisgrid.FacetGrid at 0x2052d895430>"
      ]
     },
     "execution_count": 45,
     "metadata": {},
     "output_type": "execute_result"
    },
    {
     "data": {
      "image/png": "[encoded data removed]",
      "text/plain": [
       "<Figure size 511.111x500 with 1 Axes>"
      ]
     },
     "metadata": {},
     "output_type": "display_data"
    }
   ],
   "source": [
    "log_freq_pd_df = (log_freq_df\n",
    "                    .toPandas()\n",
    "                    .sort_values(by=['log(count)'],\n",
    "                                 ascending=False))\n",
    "sns.catplot(x='status', y='log(count)', data=log_freq_pd_df, \n",
    "            kind='bar', order=status_freq_pd_df['status'])"
   ]
  },
  {
   "cell_type": "markdown",
   "id": "4f01aa7e",
   "metadata": {},
   "source": [
    "### Analyzing frequent hosts"
   ]
  },
  {
   "cell_type": "code",
   "execution_count": null,
   "id": "c26144c1",
   "metadata": {},
   "outputs": [
    {
     "name": "stdout",
     "output_type": "stream",
     "text": [
      "+--------------------+-----+\n",
      "|host                |count|\n",
      "+--------------------+-----+\n",
      "|piweba3y.prodigy.com|21988|\n",
      "|piweba4y.prodigy.com|16437|\n",
      "|piweba1y.prodigy.com|12825|\n",
      "|edams.ksc.nasa.gov  |11964|\n",
      "|163.206.89.4        |9697 |\n",
      "|news.ti.com         |8161 |\n",
      "|www-d1.proxy.aol.com|8047 |\n",
      "|alyssa.prodigy.com  |8037 |\n",
      "|                    |7660 |\n",
      "|siltb10.orl.mmc.com |7573 |\n",
      "+--------------------+-----+\n",
      "\n"
     ]
    }
   ],
   "source": [
    "host_sum_df =(logs_df\n",
    "               .groupBy('host')\n",
    "               .count()\n",
    "               .sort('count', ascending=False).limit(10))\n",
    "\n",
    "host_sum_df.show(truncate=False)"
   ]
  },
  {
   "cell_type": "code",
   "execution_count": null,
   "id": "7b543c77",
   "metadata": {},
   "outputs": [
    {
     "data": {
      "text/plain": [
       "''"
      ]
     },
     "execution_count": 47,
     "metadata": {},
     "output_type": "execute_result"
    }
   ],
   "source": [
    "host_sum_df = host_sum_df.toPandas()\n",
    "host_sum_df.iloc[8]['host']"
   ]
  },
  {
   "cell_type": "markdown",
   "id": "2bc5a669",
   "metadata": {},
   "source": [
    "#### Dislay top 20 frequent endpoints"
   ]
  },
  {
   "cell_type": "code",
   "execution_count": null,
   "id": "2a1770cf",
   "metadata": {},
   "outputs": [
    {
     "data": {
      "text/html": [
       "<div>\n",
       "<style scoped>\n",
       "    .dataframe tbody tr th:only-of-type {\n",
       "        vertical-align: middle;\n",
       "    }\n",
       "\n",
       "    .dataframe tbody tr th {\n",
       "        vertical-align: top;\n",
       "    }\n",
       "\n",
       "    .dataframe thead th {\n",
       "        text-align: right;\n",
       "    }\n",
       "</style>\n",
       "<table border=\"1\" class=\"dataframe\">\n",
       "  <thead>\n",
       "    <tr style=\"text-align: right;\">\n",
       "      <th></th>\n",
       "      <th>endpoint</th>\n",
       "      <th>count</th>\n",
       "    </tr>\n",
       "  </thead>\n",
       "  <tbody>\n",
       "    <tr>\n",
       "      <th>0</th>\n",
       "      <td>/images/NASA-logosmall.gif</td>\n",
       "      <td>208714</td>\n",
       "    </tr>\n",
       "    <tr>\n",
       "      <th>1</th>\n",
       "      <td>/images/KSC-logosmall.gif</td>\n",
       "      <td>164970</td>\n",
       "    </tr>\n",
       "    <tr>\n",
       "      <th>2</th>\n",
       "      <td>/images/MOSAIC-logosmall.gif</td>\n",
       "      <td>127908</td>\n",
       "    </tr>\n",
       "    <tr>\n",
       "      <th>3</th>\n",
       "      <td>/images/USA-logosmall.gif</td>\n",
       "      <td>127074</td>\n",
       "    </tr>\n",
       "    <tr>\n",
       "      <th>4</th>\n",
       "      <td>/images/WORLD-logosmall.gif</td>\n",
       "      <td>125925</td>\n",
       "    </tr>\n",
       "    <tr>\n",
       "      <th>5</th>\n",
       "      <td>/images/ksclogo-medium.gif</td>\n",
       "      <td>121572</td>\n",
       "    </tr>\n",
       "    <tr>\n",
       "      <th>6</th>\n",
       "      <td>/ksc.html</td>\n",
       "      <td>83909</td>\n",
       "    </tr>\n",
       "    <tr>\n",
       "      <th>7</th>\n",
       "      <td>/images/launch-logo.gif</td>\n",
       "      <td>76006</td>\n",
       "    </tr>\n",
       "    <tr>\n",
       "      <th>8</th>\n",
       "      <td>/history/apollo/images/apollo-logo1.gif</td>\n",
       "      <td>68896</td>\n",
       "    </tr>\n",
       "    <tr>\n",
       "      <th>9</th>\n",
       "      <td>/shuttle/countdown/</td>\n",
       "      <td>64736</td>\n",
       "    </tr>\n",
       "    <tr>\n",
       "      <th>10</th>\n",
       "      <td>/</td>\n",
       "      <td>63171</td>\n",
       "    </tr>\n",
       "    <tr>\n",
       "      <th>11</th>\n",
       "      <td>/images/ksclogosmall.gif</td>\n",
       "      <td>61393</td>\n",
       "    </tr>\n",
       "    <tr>\n",
       "      <th>12</th>\n",
       "      <td>/shuttle/missions/missions.html</td>\n",
       "      <td>47315</td>\n",
       "    </tr>\n",
       "    <tr>\n",
       "      <th>13</th>\n",
       "      <td>/images/launchmedium.gif</td>\n",
       "      <td>40687</td>\n",
       "    </tr>\n",
       "    <tr>\n",
       "      <th>14</th>\n",
       "      <td>/htbin/cdt_main.pl</td>\n",
       "      <td>39871</td>\n",
       "    </tr>\n",
       "    <tr>\n",
       "      <th>15</th>\n",
       "      <td>/shuttle/missions/sts-69/mission-sts-69.html</td>\n",
       "      <td>31574</td>\n",
       "    </tr>\n",
       "    <tr>\n",
       "      <th>16</th>\n",
       "      <td>/shuttle/countdown/liftoff.html</td>\n",
       "      <td>29865</td>\n",
       "    </tr>\n",
       "    <tr>\n",
       "      <th>17</th>\n",
       "      <td>/icons/menu.xbm</td>\n",
       "      <td>29190</td>\n",
       "    </tr>\n",
       "    <tr>\n",
       "      <th>18</th>\n",
       "      <td>/shuttle/missions/sts-69/sts-69-patch-small.gif</td>\n",
       "      <td>29118</td>\n",
       "    </tr>\n",
       "    <tr>\n",
       "      <th>19</th>\n",
       "      <td>/icons/blank.xbm</td>\n",
       "      <td>28852</td>\n",
       "    </tr>\n",
       "  </tbody>\n",
       "</table>\n",
       "</div>"
      ],
      "text/plain": [
       "                                           endpoint   count\n",
       "0                        /images/NASA-logosmall.gif  208714\n",
       "1                         /images/KSC-logosmall.gif  164970\n",
       "2                      /images/MOSAIC-logosmall.gif  127908\n",
       "3                         /images/USA-logosmall.gif  127074\n",
       "4                       /images/WORLD-logosmall.gif  125925\n",
       "5                        /images/ksclogo-medium.gif  121572\n",
       "6                                         /ksc.html   83909\n",
       "7                           /images/launch-logo.gif   76006\n",
       "8           /history/apollo/images/apollo-logo1.gif   68896\n",
       "9                               /shuttle/countdown/   64736\n",
       "10                                                /   63171\n",
       "11                         /images/ksclogosmall.gif   61393\n",
       "12                  /shuttle/missions/missions.html   47315\n",
       "13                         /images/launchmedium.gif   40687\n",
       "14                               /htbin/cdt_main.pl   39871\n",
       "15     /shuttle/missions/sts-69/mission-sts-69.html   31574\n",
       "16                  /shuttle/countdown/liftoff.html   29865\n",
       "17                                  /icons/menu.xbm   29190\n",
       "18  /shuttle/missions/sts-69/sts-69-patch-small.gif   29118\n",
       "19                                 /icons/blank.xbm   28852"
      ]
     },
     "execution_count": 48,
     "metadata": {},
     "output_type": "execute_result"
    }
   ],
   "source": [
    "paths_df = (logs_df\n",
    "            .groupBy('endpoint')\n",
    "            .count()\n",
    "            .sort('count', ascending=False).limit(20))\n",
    "paths_pd_df = paths_df.toPandas()\n",
    "paths_pd_df"
   ]
  },
  {
   "cell_type": "markdown",
   "id": "7e17e03c",
   "metadata": {},
   "source": [
    "#### Top 10 error endpoints"
   ]
  },
  {
   "cell_type": "code",
   "execution_count": null,
   "id": "7f2c0312",
   "metadata": {},
   "outputs": [
    {
     "name": "stdout",
     "output_type": "stream",
     "text": [
      "+---------------------------------------+-----+\n",
      "|endpoint                               |count|\n",
      "+---------------------------------------+-----+\n",
      "|/images/NASA-logosmall.gif             |40082|\n",
      "|/images/KSC-logosmall.gif              |23763|\n",
      "|/images/MOSAIC-logosmall.gif           |15245|\n",
      "|/images/USA-logosmall.gif              |15142|\n",
      "|/images/WORLD-logosmall.gif            |14773|\n",
      "|/images/ksclogo-medium.gif             |13559|\n",
      "|/images/launch-logo.gif                |8806 |\n",
      "|/history/apollo/images/apollo-logo1.gif|7489 |\n",
      "|/                                      |6296 |\n",
      "|/images/ksclogosmall.gif               |5669 |\n",
      "+---------------------------------------+-----+\n",
      "\n"
     ]
    }
   ],
   "source": [
    "not200_df = (logs_df\n",
    "               .filter(logs_df['status'] != 200))\n",
    "\n",
    "error_endpoints_freq_df = (not200_df\n",
    "                               .groupBy('endpoint')\n",
    "                               .count()\n",
    "                               .sort('count', ascending=False)\n",
    "                               .limit(10)\n",
    "                          )\n",
    "\n",
    "error_endpoints_freq_df.show(truncate=False)"
   ]
  },
  {
   "cell_type": "markdown",
   "id": "7c4ecd56",
   "metadata": {},
   "source": [
    "#### Total number of Unique Hosts"
   ]
  },
  {
   "cell_type": "code",
   "execution_count": null,
   "id": "77c8b06e",
   "metadata": {},
   "outputs": [
    {
     "data": {
      "text/plain": [
       "137934"
      ]
     },
     "execution_count": 50,
     "metadata": {},
     "output_type": "execute_result"
    }
   ],
   "source": [
    "unique_host_count = (logs_df.select('host').distinct().count())\n",
    "unique_host_count"
   ]
  },
  {
   "cell_type": "markdown",
   "id": "b556d7aa",
   "metadata": {},
   "source": [
    "#### Number of unique daily hosts"
   ]
  },
  {
   "cell_type": "code",
   "execution_count": null,
   "id": "141f20cc",
   "metadata": {},
   "outputs": [
    {
     "name": "stdout",
     "output_type": "stream",
     "text": [
      "+--------------------+---+\n",
      "|host                |day|\n",
      "+--------------------+---+\n",
      "|199.72.81.55        |1  |\n",
      "|unicomp6.unicomp.net|1  |\n",
      "|199.120.110.21      |1  |\n",
      "|burger.letters.com  |1  |\n",
      "|199.120.110.21      |1  |\n",
      "+--------------------+---+\n",
      "only showing top 5 rows\n",
      "\n"
     ]
    }
   ],
   "source": [
    "host_day_df = logs_df.select(logs_df.host, \n",
    "                             F.dayofmonth('time').alias('day'))\n",
    "host_day_df.show(5, truncate=False)"
   ]
  },
  {
   "cell_type": "code",
   "execution_count": null,
   "id": "bd3b671d",
   "metadata": {},
   "outputs": [
    {
     "name": "stdout",
     "output_type": "stream",
     "text": [
      "+-----------------------+---+\n",
      "|host                   |day|\n",
      "+-----------------------+---+\n",
      "|129.94.144.152         |1  |\n",
      "|slip1.yab.com          |1  |\n",
      "|205.184.190.47         |1  |\n",
      "|204.120.34.71          |1  |\n",
      "|ppp3_130.bekkoame.or.jp|1  |\n",
      "+-----------------------+---+\n",
      "only showing top 5 rows\n",
      "\n"
     ]
    }
   ],
   "source": [
    "host_day_distinct_df = (host_day_df\n",
    "                          .dropDuplicates())\n",
    "host_day_distinct_df.show(5, truncate=False)"
   ]
  },
  {
   "cell_type": "markdown",
   "id": "8cb000d4",
   "metadata": {},
   "source": [
    "#### Average number of daily requests per host"
   ]
  },
  {
   "cell_type": "code",
   "execution_count": null,
   "id": "4cafe246",
   "metadata": {},
   "outputs": [
    {
     "data": {
      "text/html": [
       "<div>\n",
       "<style scoped>\n",
       "    .dataframe tbody tr th:only-of-type {\n",
       "        vertical-align: middle;\n",
       "    }\n",
       "\n",
       "    .dataframe tbody tr th {\n",
       "        vertical-align: top;\n",
       "    }\n",
       "\n",
       "    .dataframe thead th {\n",
       "        text-align: right;\n",
       "    }\n",
       "</style>\n",
       "<table border=\"1\" class=\"dataframe\">\n",
       "  <thead>\n",
       "    <tr style=\"text-align: right;\">\n",
       "      <th></th>\n",
       "      <th>day</th>\n",
       "      <th>total_reqs</th>\n",
       "      <th>total_hosts</th>\n",
       "      <th>avg_reqs</th>\n",
       "    </tr>\n",
       "  </thead>\n",
       "  <tbody>\n",
       "    <tr>\n",
       "      <th>0</th>\n",
       "      <td>1</td>\n",
       "      <td>98710</td>\n",
       "      <td>7610</td>\n",
       "      <td>12.971091</td>\n",
       "    </tr>\n",
       "    <tr>\n",
       "      <th>1</th>\n",
       "      <td>2</td>\n",
       "      <td>60265</td>\n",
       "      <td>4858</td>\n",
       "      <td>12.405311</td>\n",
       "    </tr>\n",
       "    <tr>\n",
       "      <th>2</th>\n",
       "      <td>3</td>\n",
       "      <td>130972</td>\n",
       "      <td>10238</td>\n",
       "      <td>12.792733</td>\n",
       "    </tr>\n",
       "    <tr>\n",
       "      <th>3</th>\n",
       "      <td>4</td>\n",
       "      <td>130009</td>\n",
       "      <td>9411</td>\n",
       "      <td>13.814579</td>\n",
       "    </tr>\n",
       "    <tr>\n",
       "      <th>4</th>\n",
       "      <td>5</td>\n",
       "      <td>126468</td>\n",
       "      <td>9640</td>\n",
       "      <td>13.119087</td>\n",
       "    </tr>\n",
       "    <tr>\n",
       "      <th>5</th>\n",
       "      <td>6</td>\n",
       "      <td>133380</td>\n",
       "      <td>10133</td>\n",
       "      <td>13.162933</td>\n",
       "    </tr>\n",
       "    <tr>\n",
       "      <th>6</th>\n",
       "      <td>7</td>\n",
       "      <td>144595</td>\n",
       "      <td>10048</td>\n",
       "      <td>14.390426</td>\n",
       "    </tr>\n",
       "    <tr>\n",
       "      <th>7</th>\n",
       "      <td>8</td>\n",
       "      <td>99024</td>\n",
       "      <td>7112</td>\n",
       "      <td>13.923510</td>\n",
       "    </tr>\n",
       "    <tr>\n",
       "      <th>8</th>\n",
       "      <td>9</td>\n",
       "      <td>95730</td>\n",
       "      <td>6699</td>\n",
       "      <td>14.290193</td>\n",
       "    </tr>\n",
       "    <tr>\n",
       "      <th>9</th>\n",
       "      <td>10</td>\n",
       "      <td>134108</td>\n",
       "      <td>8532</td>\n",
       "      <td>15.718237</td>\n",
       "    </tr>\n",
       "    <tr>\n",
       "      <th>10</th>\n",
       "      <td>11</td>\n",
       "      <td>141653</td>\n",
       "      <td>8786</td>\n",
       "      <td>16.122581</td>\n",
       "    </tr>\n",
       "    <tr>\n",
       "      <th>11</th>\n",
       "      <td>12</td>\n",
       "      <td>130607</td>\n",
       "      <td>8135</td>\n",
       "      <td>16.054948</td>\n",
       "    </tr>\n",
       "    <tr>\n",
       "      <th>12</th>\n",
       "      <td>13</td>\n",
       "      <td>170683</td>\n",
       "      <td>9567</td>\n",
       "      <td>17.840807</td>\n",
       "    </tr>\n",
       "    <tr>\n",
       "      <th>13</th>\n",
       "      <td>14</td>\n",
       "      <td>143981</td>\n",
       "      <td>9302</td>\n",
       "      <td>15.478499</td>\n",
       "    </tr>\n",
       "    <tr>\n",
       "      <th>14</th>\n",
       "      <td>15</td>\n",
       "      <td>104379</td>\n",
       "      <td>7126</td>\n",
       "      <td>14.647628</td>\n",
       "    </tr>\n",
       "    <tr>\n",
       "      <th>15</th>\n",
       "      <td>16</td>\n",
       "      <td>104507</td>\n",
       "      <td>7143</td>\n",
       "      <td>14.630687</td>\n",
       "    </tr>\n",
       "    <tr>\n",
       "      <th>16</th>\n",
       "      <td>17</td>\n",
       "      <td>133969</td>\n",
       "      <td>8840</td>\n",
       "      <td>15.154864</td>\n",
       "    </tr>\n",
       "    <tr>\n",
       "      <th>17</th>\n",
       "      <td>18</td>\n",
       "      <td>120528</td>\n",
       "      <td>8262</td>\n",
       "      <td>14.588235</td>\n",
       "    </tr>\n",
       "    <tr>\n",
       "      <th>18</th>\n",
       "      <td>19</td>\n",
       "      <td>104832</td>\n",
       "      <td>7237</td>\n",
       "      <td>14.485560</td>\n",
       "    </tr>\n",
       "    <tr>\n",
       "      <th>19</th>\n",
       "      <td>20</td>\n",
       "      <td>99556</td>\n",
       "      <td>7072</td>\n",
       "      <td>14.077489</td>\n",
       "    </tr>\n",
       "    <tr>\n",
       "      <th>20</th>\n",
       "      <td>21</td>\n",
       "      <td>120169</td>\n",
       "      <td>8036</td>\n",
       "      <td>14.953833</td>\n",
       "    </tr>\n",
       "    <tr>\n",
       "      <th>21</th>\n",
       "      <td>22</td>\n",
       "      <td>93029</td>\n",
       "      <td>6828</td>\n",
       "      <td>13.624634</td>\n",
       "    </tr>\n",
       "    <tr>\n",
       "      <th>22</th>\n",
       "      <td>23</td>\n",
       "      <td>97296</td>\n",
       "      <td>6797</td>\n",
       "      <td>14.314551</td>\n",
       "    </tr>\n",
       "    <tr>\n",
       "      <th>23</th>\n",
       "      <td>24</td>\n",
       "      <td>116811</td>\n",
       "      <td>7946</td>\n",
       "      <td>14.700604</td>\n",
       "    </tr>\n",
       "    <tr>\n",
       "      <th>24</th>\n",
       "      <td>25</td>\n",
       "      <td>120020</td>\n",
       "      <td>8333</td>\n",
       "      <td>14.402976</td>\n",
       "    </tr>\n",
       "    <tr>\n",
       "      <th>25</th>\n",
       "      <td>26</td>\n",
       "      <td>90457</td>\n",
       "      <td>6741</td>\n",
       "      <td>13.418929</td>\n",
       "    </tr>\n",
       "    <tr>\n",
       "      <th>26</th>\n",
       "      <td>27</td>\n",
       "      <td>94503</td>\n",
       "      <td>6846</td>\n",
       "      <td>13.804119</td>\n",
       "    </tr>\n",
       "    <tr>\n",
       "      <th>27</th>\n",
       "      <td>28</td>\n",
       "      <td>82617</td>\n",
       "      <td>6090</td>\n",
       "      <td>13.566010</td>\n",
       "    </tr>\n",
       "    <tr>\n",
       "      <th>28</th>\n",
       "      <td>29</td>\n",
       "      <td>67988</td>\n",
       "      <td>4825</td>\n",
       "      <td>14.090777</td>\n",
       "    </tr>\n",
       "    <tr>\n",
       "      <th>29</th>\n",
       "      <td>30</td>\n",
       "      <td>80641</td>\n",
       "      <td>5265</td>\n",
       "      <td>15.316429</td>\n",
       "    </tr>\n",
       "    <tr>\n",
       "      <th>30</th>\n",
       "      <td>31</td>\n",
       "      <td>90125</td>\n",
       "      <td>5913</td>\n",
       "      <td>15.241840</td>\n",
       "    </tr>\n",
       "  </tbody>\n",
       "</table>\n",
       "</div>"
      ],
      "text/plain": [
       "    day  total_reqs  total_hosts   avg_reqs\n",
       "0     1       98710         7610  12.971091\n",
       "1     2       60265         4858  12.405311\n",
       "2     3      130972        10238  12.792733\n",
       "3     4      130009         9411  13.814579\n",
       "4     5      126468         9640  13.119087\n",
       "5     6      133380        10133  13.162933\n",
       "6     7      144595        10048  14.390426\n",
       "7     8       99024         7112  13.923510\n",
       "8     9       95730         6699  14.290193\n",
       "9    10      134108         8532  15.718237\n",
       "10   11      141653         8786  16.122581\n",
       "11   12      130607         8135  16.054948\n",
       "12   13      170683         9567  17.840807\n",
       "13   14      143981         9302  15.478499\n",
       "14   15      104379         7126  14.647628\n",
       "15   16      104507         7143  14.630687\n",
       "16   17      133969         8840  15.154864\n",
       "17   18      120528         8262  14.588235\n",
       "18   19      104832         7237  14.485560\n",
       "19   20       99556         7072  14.077489\n",
       "20   21      120169         8036  14.953833\n",
       "21   22       93029         6828  13.624634\n",
       "22   23       97296         6797  14.314551\n",
       "23   24      116811         7946  14.700604\n",
       "24   25      120020         8333  14.402976\n",
       "25   26       90457         6741  13.418929\n",
       "26   27       94503         6846  13.804119\n",
       "27   28       82617         6090  13.566010\n",
       "28   29       67988         4825  14.090777\n",
       "29   30       80641         5265  15.316429\n",
       "30   31       90125         5913  15.241840"
      ]
     },
     "execution_count": 53,
     "metadata": {},
     "output_type": "execute_result"
    }
   ],
   "source": [
    "daily_hosts_df = (host_day_distinct_df\n",
    "                     .groupBy('day')\n",
    "                     .count()\n",
    "                     .select(col(\"day\"), \n",
    "                                      col(\"count\").alias(\"total_hosts\")))\n",
    "\n",
    "total_daily_reqests_df = (logs_df\n",
    "                              .select(F.dayofmonth(\"time\")\n",
    "                                          .alias(\"day\"))\n",
    "                              .groupBy(\"day\")\n",
    "                              .count()\n",
    "                              .select(col(\"day\"), \n",
    "                                      col(\"count\").alias(\"total_reqs\")))\n",
    "\n",
    "avg_daily_reqests_per_host_df = total_daily_reqests_df.join(daily_hosts_df, 'day')\n",
    "avg_daily_reqests_per_host_df = (avg_daily_reqests_per_host_df\n",
    "                                    .withColumn('avg_reqs', col('total_reqs') / col('total_hosts'))\n",
    "                                    .sort(\"day\"))\n",
    "avg_daily_reqests_per_host_df = avg_daily_reqests_per_host_df.toPandas()\n",
    "avg_daily_reqests_per_host_df"
   ]
  },
  {
   "cell_type": "code",
   "execution_count": null,
   "id": "ccb40e30",
   "metadata": {},
   "outputs": [
    {
     "data": {
      "image/png": "[encoded data removed]",
      "text/plain": [
       "<Figure size 761.111x500 with 1 Axes>"
      ]
     },
     "metadata": {},
     "output_type": "display_data"
    }
   ],
   "source": [
    "c = sns.catplot(x='day', y='avg_reqs', \n",
    "                data=avg_daily_reqests_per_host_df, \n",
    "                kind='point', height=5, aspect=1.5)"
   ]
  },
  {
   "cell_type": "code",
   "execution_count": null,
   "id": "0aad3de6",
   "metadata": {},
   "outputs": [
    {
     "name": "stdout",
     "output_type": "stream",
     "text": [
      "Defaulting to user installation because normal site-packages is not writeable\n",
      "Collecting scikit-learn\n",
      "  Downloading scikit_learn-1.5.2-cp39-cp39-win_amd64.whl.metadata (13 kB)\n",
      "Requirement already satisfied: numpy>=1.19.5 in c:\\users\\lethi\\appdata\\roaming\\python\\python39\\site-packages (from scikit-learn) (2.0.2)\n",
      "Requirement already satisfied: scipy>=1.6.0 in c:\\users\\lethi\\appdata\\roaming\\python\\python39\\site-packages (from scikit-learn) (1.13.1)\n",
      "Requirement already satisfied: joblib>=1.2.0 in c:\\users\\lethi\\appdata\\roaming\\python\\python39\\site-packages (from scikit-learn) (1.4.2)\n",
      "Collecting threadpoolctl>=3.1.0 (from scikit-learn)\n",
      "  Using cached threadpoolctl-3.5.0-py3-none-any.whl.metadata (13 kB)\n",
      "Downloading scikit_learn-1.5.2-cp39-cp39-win_amd64.whl (11.0 MB)\n",
      "   ---------------------------------------- 0.0/11.0 MB ? eta -:--:--\n",
      "    --------------------------------------- 0.3/11.0 MB ? eta -:--:--\n",
      "   --- ------------------------------------ 1.0/11.0 MB 3.1 MB/s eta 0:00:04\n",
      "   ------ --------------------------------- 1.8/11.0 MB 3.6 MB/s eta 0:00:03\n",
      "   -------- ------------------------------- 2.4/11.0 MB 3.4 MB/s eta 0:00:03\n",
      "   ------------ --------------------------- 3.4/11.0 MB 3.7 MB/s eta 0:00:03\n",
      "   --------------- ------------------------ 4.2/11.0 MB 3.7 MB/s eta 0:00:02\n",
      "   ------------------ --------------------- 5.0/11.0 MB 3.7 MB/s eta 0:00:02\n",
      "   -------------------- ------------------- 5.8/11.0 MB 3.7 MB/s eta 0:00:02\n",
      "   ------------------------ --------------- 6.8/11.0 MB 3.8 MB/s eta 0:00:02\n",
      "   ---------------------------- ----------- 7.9/11.0 MB 3.9 MB/s eta 0:00:01\n",
      "   -------------------------------- ------- 8.9/11.0 MB 4.0 MB/s eta 0:00:01\n",
      "   ----------------------------------- ---- 9.7/11.0 MB 3.9 MB/s eta 0:00:01\n",
      "   -------------------------------------- - 10.5/11.0 MB 4.0 MB/s eta 0:00:01\n",
      "   ---------------------------------------- 11.0/11.0 MB 3.9 MB/s eta 0:00:00\n",
      "Using cached threadpoolctl-3.5.0-py3-none-any.whl (18 kB)\n",
      "Installing collected packages: threadpoolctl, scikit-learn\n",
      "Successfully installed scikit-learn-1.5.2 threadpoolctl-3.5.0\n",
      "Note: you may need to restart the kernel to use updated packages.\n"
     ]
    }
   ],
   "source": [
    "pip install scikit-learn"
   ]
  },
  {
   "cell_type": "markdown",
   "id": "db670c6a",
   "metadata": {},
   "source": [
    "### Machine learning segmentation model"
   ]
  },
  {
   "cell_type": "code",
   "execution_count": null,
   "id": "d1c581fc",
   "metadata": {},
   "outputs": [],
   "source": [
    "from pyspark.ml.feature import VectorAssembler, StandardScaler\n",
    "from pyspark.ml.clustering import KMeans, BisectingKMeans\n",
    "from pyspark.ml.evaluation import ClusteringEvaluator\n",
    "from pyspark.ml.feature import PCA\n",
    "from sklearn.metrics import silhouette_score\n",
    "import numpy as np\n",
    "\n",
    "class WebLogML:\n",
    "    def __init__(self, logs_df):\n",
    "        self.logs_df = logs_df\n",
    "        self.feature_columns = None\n",
    "        self.model = None\n",
    "        self.scaler = None\n",
    "        \n",
    "    def extract_features(self):\n",
    "        \"\"\"Extract and prepare features for machine learning\"\"\"\n",
    "        # Create behavioral features\n",
    "        user_features = self.logs_df.groupBy('host').agg(\n",
    "            # Volume metrics\n",
    "            F.count('*').alias('total_requests'),\n",
    "            F.countDistinct('endpoint').alias('unique_pages'),\n",
    "            \n",
    "            # Time-based features\n",
    "            F.countDistinct(F.hour('time')).alias('active_hours'),\n",
    "            F.countDistinct(F.dayofmonth('time')).alias('active_days'),\n",
    "            \n",
    "            # Performance metrics\n",
    "            F.avg('content_size').alias('avg_content_size'),\n",
    "            F.stddev('content_size').alias('std_content_size'),\n",
    "            \n",
    "            # Error metrics\n",
    "            F.sum(F.when(F.col('status') >= 400, 1).otherwise(0)).alias('error_count'),\n",
    "            \n",
    "            # Session metrics\n",
    "            F.avg(F.unix_timestamp('time')\n",
    "                  .cast('double')).alias('avg_timestamp')\n",
    "        )\n",
    "        \n",
    "        # Calculate derived features\n",
    "        user_features = user_features.withColumn(\n",
    "            'error_rate',\n",
    "            F.col('error_count') / F.col('total_requests')\n",
    "        ).withColumn(\n",
    "            'requests_per_day',\n",
    "            F.col('total_requests') / F.col('active_days')\n",
    "        )\n",
    "        \n",
    "        self.feature_columns = [\n",
    "            'total_requests',\n",
    "            'unique_pages',\n",
    "            'active_hours',\n",
    "            'avg_content_size',\n",
    "            'std_content_size',\n",
    "            'error_rate',\n",
    "            'requests_per_day'\n",
    "        ]\n",
    "        \n",
    "        return user_features\n",
    "    \n",
    "    def prepare_ml_features(self, user_features):\n",
    "        \"\"\"Prepare features for machine learning\"\"\"\n",
    "        # Assemble features into vector\n",
    "        assembler = VectorAssembler(\n",
    "            inputCols=self.feature_columns,\n",
    "            outputCol='raw_features'\n",
    "        )\n",
    "        \n",
    "        # Scale features\n",
    "        scaler = StandardScaler(\n",
    "            inputCol='raw_features',\n",
    "            outputCol='scaled_features',\n",
    "            withStd=True,\n",
    "            withMean=True\n",
    "        )\n",
    "        \n",
    "        # Dimensionality reduction with PCA\n",
    "        pca = PCA(\n",
    "            k=3,\n",
    "            inputCol='scaled_features',\n",
    "            outputCol='features'\n",
    "        )\n",
    "        \n",
    "        # Transform data\n",
    "        vectorized = assembler.transform(user_features)\n",
    "        scaled = scaler.fit(vectorized).transform(vectorized)\n",
    "        features = pca.fit(scaled).transform(scaled)\n",
    "        \n",
    "        return features\n",
    "    \n",
    "    def train_kmeans(self, features, k=4):\n",
    "        \"\"\"Train K-means clustering model\"\"\"\n",
    "        kmeans = KMeans(\n",
    "            k=k,\n",
    "            seed=42,\n",
    "            featuresCol='features',\n",
    "            predictionCol='segment'\n",
    "        )\n",
    "        \n",
    "        self.model = kmeans.fit(features)\n",
    "        return self.model\n",
    "    \n",
    "    def evaluate_model(self, features):\n",
    "        \"\"\"Evaluate clustering model\"\"\"\n",
    "        predictions = self.model.transform(features)\n",
    "        \n",
    "        # Calculate silhouette score\n",
    "        evaluator = ClusteringEvaluator(\n",
    "            predictionCol='segment',\n",
    "            featuresCol='features',\n",
    "            metricName='silhouette'\n",
    "        )\n",
    "        silhouette = evaluator.evaluate(predictions)\n",
    "        \n",
    "        # Calculate within-cluster sum of squares\n",
    "        wssse = self.model.computeCost(features)\n",
    "        \n",
    "        # Calculate cluster sizes\n",
    "        cluster_sizes = predictions.groupBy('segment').count().toPandas()\n",
    "        \n",
    "        return {\n",
    "            'silhouette_score': silhouette,\n",
    "            'wssse': wssse,\n",
    "            'cluster_sizes': cluster_sizes\n",
    "        }\n",
    "    \n",
    "    def analyze_clusters(self, features):\n",
    "        \"\"\"Analyze cluster characteristics\"\"\"\n",
    "        predictions = self.model.transform(features)\n",
    "        \n",
    "        # Calculate cluster centers\n",
    "        centers = pd.DataFrame(\n",
    "            self.model.clusterCenters(),\n",
    "            columns=self.feature_columns\n",
    "        )\n",
    "        \n",
    "        # Calculate feature importance\n",
    "        feature_importance = pd.DataFrame({\n",
    "            'feature': self.feature_columns,\n",
    "            'importance': np.abs(centers).mean(axis=0)\n",
    "        }).sort_values('importance', ascending=False)\n",
    "        \n",
    "        # Analyze cluster separation\n",
    "        cluster_separation = self.calculate_cluster_separation(centers)\n",
    "        \n",
    "        return {\n",
    "            'centers': centers,\n",
    "            'feature_importance': feature_importance,\n",
    "            'cluster_separation': cluster_separation\n",
    "        }\n",
    "    \n",
    "    def calculate_cluster_separation(self, centers):\n",
    "        \"\"\"Calculate separation between clusters\"\"\"\n",
    "        n_clusters = len(centers)\n",
    "        separation = np.zeros((n_clusters, n_clusters))\n",
    "        \n",
    "        for i in range(n_clusters):\n",
    "            for j in range(n_clusters):\n",
    "                separation[i,j] = np.linalg.norm(\n",
    "                    centers.iloc[i] - centers.iloc[j]\n",
    "                )\n",
    "        \n",
    "        return pd.DataFrame(\n",
    "            separation,\n",
    "            index=range(n_clusters),\n",
    "            columns=range(n_clusters)\n",
    "        )\n",
    "\n",
    "def train_and_analyze_ml_model(logs_df):\n",
    "    \"\"\"Complete machine learning pipeline\"\"\"\n",
    "    # Initialize ML pipeline\n",
    "    ml_pipeline = WebLogML(logs_df)\n",
    "    \n",
    "    # Extract features\n",
    "    print(\"Extracting features...\")\n",
    "    user_features = ml_pipeline.extract_features()\n",
    "    \n",
    "    # Prepare features for ML\n",
    "    print(\"Preparing features for machine learning...\")\n",
    "    ml_features = ml_pipeline.prepare_ml_features(user_features)\n",
    "    \n",
    "    # Train model\n",
    "    print(\"Training K-means model...\")\n",
    "    model = ml_pipeline.train_kmeans(ml_features)\n",
    "    \n",
    "    # Evaluate model\n",
    "    print(\"Evaluating model...\")\n",
    "    evaluation = ml_pipeline.evaluate_model(ml_features)\n",
    "    print(f\"Silhouette Score: {evaluation['silhouette_score']:.3f}\")\n",
    "    print(f\"WSSSE: {evaluation['wssse']:.3f}\")\n",
    "    \n",
    "    # Analyze clusters\n",
    "    print(\"Analyzing clusters...\")\n",
    "    analysis = ml_pipeline.analyze_clusters(ml_features)\n",
    "    \n",
    "    return {\n",
    "        'model': model,\n",
    "        'evaluation': evaluation,\n",
    "        'analysis': analysis,\n",
    "        'features': ml_features\n",
    "    }"
   ]
  },
  {
   "cell_type": "code",
   "execution_count": null,
   "id": "5993edf9",
   "metadata": {},
   "outputs": [],
   "source": [
    "# Alternative clustering algorithms\n",
    "def train_alternative_models(features):\n",
    "    models = {\n",
    "        'kmeans': KMeans(k=4),\n",
    "        'bisecting_kmeans': BisectingKMeans(k=4),\n",
    "        'gaussian_mixture': GaussianMixture(k=4)\n",
    "    }\n",
    "    \n",
    "    results = {}\n",
    "    for name, model in models.items():\n",
    "        model_fit = model.fit(features)\n",
    "        results[name] = {\n",
    "            'model': model_fit,\n",
    "            'evaluation': evaluate_model(model_fit, features)\n",
    "        }\n",
    "    return results"
   ]
  },
  {
   "cell_type": "code",
   "execution_count": null,
   "id": "51ee60f7",
   "metadata": {},
   "outputs": [],
   "source": [
    "def detect_anomalies(features):\n",
    "    # Isolation Forest for anomaly detection\n",
    "    from sklearn.ensemble import IsolationForest\n",
    "    \n",
    "    iso_forest = IsolationForest(contamination=0.1)\n",
    "    anomalies = iso_forest.fit_predict(features)\n",
    "    return anomalies"
   ]
  },
  {
   "cell_type": "code",
   "execution_count": null,
   "id": "7f4f2210",
   "metadata": {},
   "outputs": [],
   "source": [
    "def predict_user_behavior(historical_data):\n",
    "    # Time series prediction\n",
    "    from prophet import Prophet\n",
    "    \n",
    "    model = Prophet()\n",
    "    model.fit(historical_data)\n",
    "    future = model.make_future_dataframe(periods=30)\n",
    "    forecast = model.predict(future)\n",
    "    return forecast"
   ]
  },
  {
   "cell_type": "code",
   "execution_count": null,
   "id": "d1fdc885",
   "metadata": {},
   "outputs": [
    {
     "data": {
      "image/png": "[encoded data removed]",
      "text/plain": [
       "<Figure size 1500x500 with 2 Axes>"
      ]
     },
     "metadata": {},
     "output_type": "display_data"
    }
   ],
   "source": [
    "from sklearn.cluster import KMeans\n",
    "from sklearn.metrics import silhouette_samples, silhouette_score\n",
    "import pandas as pd\n",
    "\n",
    "def plot_model_performance(avg_daily_reqests_per_host_df):\n",
    "    # Prepare data for clustering\n",
    "    X = avg_daily_reqests_per_host_df[['avg_reqs', 'total_reqs', 'total_hosts']]\n",
    "    \n",
    "    # Perform k-means clustering\n",
    "    n_clusters = 4  # You can adjust this number\n",
    "    kmeans = KMeans(n_clusters=n_clusters, random_state=42)\n",
    "    cluster_labels = kmeans.fit_predict(X)\n",
    "    \n",
    "    # Calculate silhouette scores\n",
    "    silhouette_avg = silhouette_score(X, cluster_labels)\n",
    "    silhouette_values = silhouette_samples(X, cluster_labels)\n",
    "    \n",
    "    # Create evaluation data\n",
    "    cluster_silhouettes = pd.DataFrame({\n",
    "        'segment': range(n_clusters),\n",
    "        'silhouette': [np.mean(silhouette_values[cluster_labels == i]) \n",
    "                      for i in range(n_clusters)]\n",
    "    })\n",
    "    \n",
    "    cluster_sizes = pd.DataFrame({\n",
    "        'segment': range(n_clusters),\n",
    "        'count': [np.sum(cluster_labels == i) for i in range(n_clusters)]\n",
    "    })\n",
    "    \n",
    "    # Create plots\n",
    "    fig, (ax1, ax2) = plt.subplots(1, 2, figsize=(15, 5))\n",
    "    \n",
    "    # Silhouette score by cluster\n",
    "    sns.barplot(x='segment', y='silhouette', \n",
    "               data=cluster_silhouettes, ax=ax1)\n",
    "    ax1.set_title('Silhouette Score by Cluster')\n",
    "    ax1.set_xlabel('Cluster')\n",
    "    ax1.set_ylabel('Silhouette Score')\n",
    "    \n",
    "    # Cluster sizes\n",
    "    sns.barplot(x='segment', y='count', \n",
    "               data=cluster_sizes, ax=ax2)\n",
    "    ax2.set_title('Cluster Sizes')\n",
    "    ax2.set_xlabel('Cluster')\n",
    "    ax2.set_ylabel('Number of Days')\n",
    "    \n",
    "    plt.tight_layout()\n",
    "    plt.show()\n",
    "    \n",
    "    return {\n",
    "        'cluster_silhouettes': cluster_silhouettes,\n",
    "        'cluster_sizes': cluster_sizes,\n",
    "        'overall_silhouette': silhouette_avg\n",
    "    }\n",
    "\n",
    "# Call the function\n",
    "results = plot_model_performance(avg_daily_reqests_per_host_df)"
   ]
  },
  {
   "cell_type": "code",
   "execution_count": null,
   "id": "29273f4e",
   "metadata": {},
   "outputs": [
    {
     "name": "stdout",
     "output_type": "stream",
     "text": [
      "\n",
      "=== Model Performance Summary ===\n",
      "Number of Segments: 4\n",
      "Largest Segment Size: 14\n",
      "Overall Silhouette Score: 0.597\n",
      "Within-Cluster Sum of Squares: 1761939757.943\n"
     ]
    }
   ],
   "source": [
    "def generate_summary_stats(kmeans, X, cluster_labels, silhouette_avg):\n",
    "    # Calculate WSSSE\n",
    "    wssse = kmeans.inertia_\n",
    "    \n",
    "    # Get cluster sizes\n",
    "    unique, counts = np.unique(cluster_labels, return_counts=True)\n",
    "    \n",
    "    stats = {\n",
    "        'total_segments': len(unique),\n",
    "        'largest_segment': counts.max(),\n",
    "        'silhouette_score': silhouette_avg,\n",
    "        'wssse': wssse\n",
    "    }\n",
    "    \n",
    "    # Print summary\n",
    "    print(\"\\n=== Model Performance Summary ===\")\n",
    "    print(f\"Number of Segments: {stats['total_segments']}\")\n",
    "    print(f\"Largest Segment Size: {stats['largest_segment']}\")\n",
    "    print(f\"Overall Silhouette Score: {stats['silhouette_score']:.3f}\")\n",
    "    print(f\"Within-Cluster Sum of Squares: {stats['wssse']:.3f}\")\n",
    "    \n",
    "    return stats\n",
    "\n",
    "# First perform clustering\n",
    "def perform_clustering(df):\n",
    "    # Prepare data for clustering\n",
    "    X = df[['avg_reqs', 'total_reqs', 'total_hosts']]\n",
    "    \n",
    "    # Perform k-means clustering\n",
    "    n_clusters = 4  # You can adjust this number\n",
    "    kmeans = KMeans(n_clusters=n_clusters, random_state=42)\n",
    "    cluster_labels = kmeans.fit_predict(X)\n",
    "    \n",
    "    # Calculate silhouette score\n",
    "    silhouette_avg = silhouette_score(X, cluster_labels)\n",
    "    \n",
    "    return kmeans, X, cluster_labels, silhouette_avg\n",
    "\n",
    "# Run the analysis\n",
    "kmeans, X, cluster_labels, silhouette_avg = perform_clustering(avg_daily_reqests_per_host_df)\n",
    "stats = generate_summary_stats(kmeans, X, cluster_labels, silhouette_avg)"
   ]
  },
  {
   "cell_type": "code",
   "execution_count": null,
   "id": "ae9fb8a9",
   "metadata": {},
   "outputs": [
    {
     "name": "stdout",
     "output_type": "stream",
     "text": [
      "\n",
      "Segment 0 Profile:\n",
      "Type: Regular Days\n",
      "Size: 11 days\n",
      "Characteristics:\n",
      "- Average Requests per Host: 14.41\n",
      "- Total Requests: 127003.73\n",
      "- Unique Hosts: 8864.18\n",
      "\n",
      "Segment 1 Profile:\n",
      "Type: Regular Days\n",
      "Size: 14 days\n",
      "Characteristics:\n",
      "- Average Requests per Host: 14.17\n",
      "- Total Requests: 95386.14\n",
      "- Unique Hosts: 6748.50\n",
      "\n",
      "Segment 2 Profile:\n",
      "Type: Regular Days\n",
      "Size: 2 days\n",
      "Characteristics:\n",
      "- Average Requests per Host: 13.25\n",
      "- Total Requests: 64126.50\n",
      "- Unique Hosts: 4841.50\n",
      "\n",
      "Segment 3 Profile:\n",
      "Type: Regular Days\n",
      "Size: 4 days\n",
      "Characteristics:\n",
      "- Average Requests per Host: 15.96\n",
      "- Total Requests: 150228.00\n",
      "- Unique Hosts: 9425.75\n"
     ]
    },
    {
     "data": {
      "image/png": "[encoded data removed]",
      "text/plain": [
       "<Figure size 1500x500 with 3 Axes>"
      ]
     },
     "metadata": {},
     "output_type": "display_data"
    }
   ],
   "source": [
    "def generate_segment_profiles(kmeans, X, cluster_labels):\n",
    "    # Get cluster centers and convert to DataFrame\n",
    "    centers = pd.DataFrame(\n",
    "        kmeans.cluster_centers_,\n",
    "        columns=['avg_reqs', 'total_reqs', 'total_hosts']\n",
    "    )\n",
    "    \n",
    "    # Get cluster sizes\n",
    "    sizes = pd.Series(cluster_labels).value_counts().sort_index()\n",
    "    \n",
    "    profiles = []\n",
    "    \n",
    "    for segment in range(len(centers)):\n",
    "        center = centers.iloc[segment]\n",
    "        size = sizes[segment]\n",
    "        \n",
    "        profile = {\n",
    "            'segment': segment,\n",
    "            'size': size,\n",
    "            'characteristics': {\n",
    "                'avg_requests': center['avg_reqs'],\n",
    "                'total_requests': center['total_reqs'],\n",
    "                'unique_hosts': center['total_hosts']\n",
    "            }\n",
    "        }\n",
    "        \n",
    "        # Determine segment type based on characteristics\n",
    "        if center['avg_reqs'] > centers['avg_reqs'].mean() * 1.5:\n",
    "            profile['type'] = 'High Traffic Days'\n",
    "        elif center['total_hosts'] > centers['total_hosts'].mean() * 1.5:\n",
    "            profile['type'] = 'High User Days'\n",
    "        elif center['total_reqs'] > centers['total_reqs'].mean() * 1.5:\n",
    "            profile['type'] = 'Peak Activity Days'\n",
    "        else:\n",
    "            profile['type'] = 'Regular Days'\n",
    "        \n",
    "        profiles.append(profile)\n",
    "        \n",
    "        # Print profile summary\n",
    "        print(f\"\\nSegment {segment} Profile:\")\n",
    "        print(f\"Type: {profile['type']}\")\n",
    "        print(f\"Size: {profile['size']} days\")\n",
    "        print(\"Characteristics:\")\n",
    "        print(f\"- Average Requests per Host: {profile['characteristics']['avg_requests']:.2f}\")\n",
    "        print(f\"- Total Requests: {profile['characteristics']['total_requests']:.2f}\")\n",
    "        print(f\"- Unique Hosts: {profile['characteristics']['unique_hosts']:.2f}\")\n",
    "    \n",
    "    return profiles\n",
    "\n",
    "# Use previous clustering results to generate profiles\n",
    "profiles = generate_segment_profiles(kmeans, X, cluster_labels)\n",
    "\n",
    "# Optional: Create visualization of segment characteristics\n",
    "def visualize_segment_profiles(profiles):\n",
    "    # Convert profiles to DataFrame for easier plotting\n",
    "    prof_df = pd.DataFrame([\n",
    "        {\n",
    "            'segment': p['segment'],\n",
    "            'type': p['type'],\n",
    "            'size': p['size'],\n",
    "            'avg_requests': p['characteristics']['avg_requests'],\n",
    "            'total_requests': p['characteristics']['total_requests'],\n",
    "            'unique_hosts': p['characteristics']['unique_hosts']\n",
    "        }\n",
    "        for p in profiles\n",
    "    ])\n",
    "    \n",
    "    # Create visualization\n",
    "    fig, axes = plt.subplots(1, 3, figsize=(15, 5))\n",
    "    \n",
    "    # Plot key metrics by segment\n",
    "    sns.barplot(data=prof_df, x='segment', y='avg_requests', ax=axes[0])\n",
    "    axes[0].set_title('Average Requests by Segment')\n",
    "    \n",
    "    sns.barplot(data=prof_df, x='segment', y='total_requests', ax=axes[1])\n",
    "    axes[1].set_title('Total Requests by Segment')\n",
    "    \n",
    "    sns.barplot(data=prof_df, x='segment', y='unique_hosts', ax=axes[2])\n",
    "    axes[2].set_title('Unique Hosts by Segment')\n",
    "    \n",
    "    plt.tight_layout()\n",
    "    plt.show()\n",
    "    \n",
    "    return prof_df\n",
    "\n",
    "# Create visualization\n",
    "segment_df = visualize_segment_profiles(profiles)"
   ]
  }
 ],
 "metadata": {
  "kernelspec": {
   "display_name": "Python 3",
   "language": "python",
   "name": "python3"
  },
  "language_info": {
   "codemirror_mode": {
    "name": "ipython",
    "version": 3
   },
   "file_extension": ".py",
   "mimetype": "text/x-python",
   "name": "python",
   "nbconvert_exporter": "python",
   "pygments_lexer": "ipython3",
   "version": "3.9.0"
  }
 },
 "nbformat": 4,
 "nbformat_minor": 5
}
